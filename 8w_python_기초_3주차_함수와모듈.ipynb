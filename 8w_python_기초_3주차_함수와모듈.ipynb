{
  "cells": [
    {
      "cell_type": "markdown",
      "metadata": {
        "id": "view-in-github",
        "colab_type": "text"
      },
      "source": [
        "<a href=\"https://colab.research.google.com/github/edujongkook/8w_sbs_python_weekend/blob/main/8w_python_%EA%B8%B0%EC%B4%88_3%EC%A3%BC%EC%B0%A8_%ED%95%A8%EC%88%98%EC%99%80%EB%AA%A8%EB%93%88.ipynb\" target=\"_parent\"><img src=\"https://colab.research.google.com/assets/colab-badge.svg\" alt=\"Open In Colab\"/></a>"
      ]
    },
    {
      "cell_type": "markdown",
      "metadata": {
        "id": "eMa8ZX-KImB8"
      },
      "source": [
        "# 3주차 강의 내용\n",
        "- 함수\n",
        "- 주요 내장함수\n",
        "- 모듈과 임포트\n"
      ]
    },
    {
      "cell_type": "markdown",
      "metadata": {
        "id": "94_Xzn_exuz-"
      },
      "source": [
        "컬렉션과 for 문 리마인드"
      ]
    },
    {
      "cell_type": "code",
      "execution_count": null,
      "metadata": {
        "id": "rp1_4sLLxA3S"
      },
      "outputs": [],
      "source": [
        "drinks = ['콜라', '생수', '주스']\n",
        "fav_sports = {'park': 'golf',\n",
        "              'son': 'soccer',\n",
        "              'kim': 'swimming'}\n",
        "\n",
        "for drink in drinks:\n",
        "    print(drink)\n",
        "\n",
        "for name, sports in fav_sports.items():\n",
        "    print(f'{name}\\'s favorite sports is {sports}')"
      ]
    },
    {
      "cell_type": "markdown",
      "metadata": {
        "id": "P4BEe4q8xx0g"
      },
      "source": [
        "제어문 리마인드"
      ]
    },
    {
      "cell_type": "code",
      "execution_count": null,
      "metadata": {
        "id": "CQSqgGdyxzFQ"
      },
      "outputs": [],
      "source": [
        "while True:\n",
        "    num = int(input('숫자를 입력하세요 (종료: 0)\\n : '))\n",
        "    if num > 0:\n",
        "        print('0보다 큰수 입니다.')\n",
        "    elif num < 0:\n",
        "        print('0보다 작은수 입니다.')\n",
        "    else:  # num == 0\n",
        "        print('종료합니다.')\n",
        "        break"
      ]
    },
    {
      "cell_type": "markdown",
      "metadata": {
        "id": "ZkfXgaPWkA44"
      },
      "source": [
        "# 함수 (Function) - section11\n",
        "특정 작업을 위한 코드를 미리 만들어 놓고 여러번 실행,   \n",
        "함수와 정보를 주고 받을 수 있습니다."
      ]
    },
    {
      "cell_type": "markdown",
      "metadata": {
        "id": "wTtZa2GmIeo4"
      },
      "source": [
        "### 기본적인 함수 형태"
      ]
    },
    {
      "cell_type": "markdown",
      "metadata": {
        "id": "YqaaDtW3rX63"
      },
      "source": [
        "함수의 이름도 변수와 마찬가지로 소문자와 밑줄 ' _ '  을 주로 사용합니다."
      ]
    },
    {
      "cell_type": "code",
      "execution_count": null,
      "metadata": {
        "id": "Z2O_xKAzYdUK"
      },
      "outputs": [],
      "source": [
        "def greeting():  # 함수의 정의 (define)\n",
        "    \"\"\"간단한 인사를 출력하는 함수\"\"\"  # 함수의 docstring\n",
        "    print(\"Hello~\")"
      ]
    },
    {
      "cell_type": "code",
      "execution_count": null,
      "metadata": {
        "colab": {
          "base_uri": "https://localhost:8080/",
          "height": 35
        },
        "id": "HKNRBJkTHbG5",
        "outputId": "ff6e567a-d9c9-4640-ffbe-dd3a66055fb8"
      },
      "outputs": [
        {
          "data": {
            "application/vnd.google.colaboratory.intrinsic+json": {
              "type": "string"
            },
            "text/plain": [
              "'greeting() - 간단한 환영인사 출력하는 함수'"
            ]
          },
          "execution_count": 13,
          "metadata": {},
          "output_type": "execute_result"
        }
      ],
      "source": [
        "greeting.__doc__  # docstring 확인"
      ]
    },
    {
      "cell_type": "code",
      "execution_count": null,
      "metadata": {
        "colab": {
          "base_uri": "https://localhost:8080/"
        },
        "id": "YaoJ0oiwI2OE",
        "outputId": "ebee7eca-0b07-418a-fc9d-056db5c711bd"
      },
      "outputs": [
        {
          "name": "stdout",
          "output_type": "stream",
          "text": [
            "Hello!\n"
          ]
        }
      ],
      "source": [
        "greeting()  # 함수 호출"
      ]
    },
    {
      "cell_type": "markdown",
      "metadata": {
        "id": "YJDClazTJlGM"
      },
      "source": [
        "### 매개변수(Parameter)가 있는 함수"
      ]
    },
    {
      "cell_type": "code",
      "execution_count": null,
      "metadata": {
        "id": "vTLoiG5_huba"
      },
      "outputs": [],
      "source": [
        "def greeting(name):\n",
        "    \"\"\"\n",
        "    간단한 인사와 이름을 출력하는 함수\n",
        "    name : 이름\n",
        "    \"\"\"\n",
        "\n",
        "    print(f'\"Hello~ {name.title()}!')"
      ]
    },
    {
      "cell_type": "code",
      "execution_count": null,
      "metadata": {
        "colab": {
          "base_uri": "https://localhost:8080/"
        },
        "id": "KdbBiZpyJ42-",
        "outputId": "31b9f5f9-c0aa-4653-ec5e-6bee3733cc15"
      },
      "outputs": [
        {
          "name": "stdout",
          "output_type": "stream",
          "text": [
            "\"Hello~ Park!\n"
          ]
        }
      ],
      "source": [
        "greeting('park')"
      ]
    },
    {
      "cell_type": "markdown",
      "metadata": {
        "id": "RL7mohWfNoWB"
      },
      "source": [
        " #### ❓ 반복문 안에서 greeting 함수를 호출 해봅시다"
      ]
    },
    {
      "cell_type": "code",
      "execution_count": null,
      "metadata": {
        "id": "PXoRCRCvJ_oH"
      },
      "outputs": [],
      "source": [
        "name_list = ['lee', 'son', 'park']\n",
        "\n",
        "# 인사말과 리스트의 이름이 각각 출력되도록 (for 문 사용)"
      ]
    },
    {
      "cell_type": "markdown",
      "metadata": {
        "id": "1l4e0HivN4cn"
      },
      "source": [
        "#### 위치형 매개변수  \n",
        "전달되는 순서에 따라 여러개의 매개변수를 사용할 수 있습니다.\n",
        "\n"
      ]
    },
    {
      "cell_type": "code",
      "execution_count": null,
      "metadata": {
        "id": "cUnn5tYzOMV8"
      },
      "outputs": [],
      "source": [
        "def print_pet(pet_name, pet_type):\n",
        "    \"\"\"반려동물의 관한 정보를 출력합니다\"\"\"\n",
        "    print(f'\\n반려동물 이름은 {pet_name} 입니다')\n",
        "    print(f'종류는 {pet_type} 입니다.')"
      ]
    },
    {
      "cell_type": "code",
      "execution_count": null,
      "metadata": {
        "colab": {
          "base_uri": "https://localhost:8080/"
        },
        "id": "JPRJMQy1PZ1X",
        "outputId": "62d74e89-1394-45c7-c189-3a694431b0bf"
      },
      "outputs": [
        {
          "name": "stdout",
          "output_type": "stream",
          "text": [
            "\n",
            "반려동물 이름은 토리 입니다\n",
            "종류는 햄스터 입니다.\n"
          ]
        }
      ],
      "source": [
        "print_pet('토리', '햄스터')"
      ]
    },
    {
      "cell_type": "markdown",
      "metadata": {
        "id": "hZ2cbp8EQz9z"
      },
      "source": [
        "순서에 따라 매개변수를 할당하는 경우에는   \n",
        "호출할 때 매개변수의 순서가 중요합니다."
      ]
    },
    {
      "cell_type": "code",
      "execution_count": null,
      "metadata": {
        "colab": {
          "base_uri": "https://localhost:8080/"
        },
        "id": "0FyoGjNwQ3Ox",
        "outputId": "e3632fe6-67ba-4fdc-f250-048813205853"
      },
      "outputs": [
        {
          "name": "stdout",
          "output_type": "stream",
          "text": [
            "\n",
            "반려동물 이름은 햄스터 입니다\n",
            "종류는 토리 입니다.\n"
          ]
        }
      ],
      "source": [
        "print_pet('햄스터', '토리')"
      ]
    },
    {
      "cell_type": "code",
      "execution_count": null,
      "metadata": {
        "colab": {
          "base_uri": "https://localhost:8080/"
        },
        "id": "o6giGe2Yudj2",
        "outputId": "c4a8ced7-2299-40cf-e50e-2df64cf667a2"
      },
      "outputs": [
        {
          "name": "stdout",
          "output_type": "stream",
          "text": [
            "\n",
            "반려동물 이름은 토리 입니다\n",
            "종류는 햄스터 입니다.\n"
          ]
        }
      ],
      "source": [
        "print_pet('토리', '햄스터')"
      ]
    },
    {
      "cell_type": "markdown",
      "metadata": {
        "id": "zCh1dv3gh6Wi"
      },
      "source": [
        "#### ❓ 함수를 만들어 보세요\n",
        "함수를 만들고 예- def operate(num1, num2)  \n",
        "숫자 2개를 전달하면 덧셈, 뺄셈, 나눗셈, 곱셈 결과를  \n",
        "각각 print하는 함수를 만들어 보세요"
      ]
    },
    {
      "cell_type": "markdown",
      "metadata": {
        "id": "PW7PU7r1uv9h"
      },
      "source": [
        "#### 키워드 매개변수"
      ]
    },
    {
      "cell_type": "code",
      "execution_count": null,
      "metadata": {
        "id": "-bAbZhx_u6X0"
      },
      "outputs": [],
      "source": [
        "def print_pet(pet_name, pet_type):\n",
        "    \"\"\"반려동물의 관한 정보를 출력합니다\"\"\"\n",
        "    print(f'\\n반려동물 이름은 {pet_name} 입니다')\n",
        "    print(f'종류는 {pet_type} 입니다.')"
      ]
    },
    {
      "cell_type": "code",
      "execution_count": null,
      "metadata": {
        "colab": {
          "base_uri": "https://localhost:8080/"
        },
        "id": "5CQ3pES9u7VJ",
        "outputId": "0cc21c99-7d71-40dd-ab38-e77a7e3b7baf"
      },
      "outputs": [
        {
          "name": "stdout",
          "output_type": "stream",
          "text": [
            "\n",
            "반려동물 이름은 토리 입니다\n",
            "토리의 종류는 햄스터 입니다.\n"
          ]
        }
      ],
      "source": [
        "print_pet(pet_name='토리', pet_type='햄스터')"
      ]
    },
    {
      "cell_type": "code",
      "execution_count": null,
      "metadata": {
        "colab": {
          "base_uri": "https://localhost:8080/"
        },
        "id": "vtZgQxs4vIFZ",
        "outputId": "9a4e5221-989b-4ece-afd5-4da6c2f07ae9"
      },
      "outputs": [
        {
          "name": "stdout",
          "output_type": "stream",
          "text": [
            "\n",
            "반려동물 이름은 토리 입니다\n",
            "토리의 종류는 햄스터 입니다.\n"
          ]
        }
      ],
      "source": [
        "print_pet(pet_type='햄스터', pet_name='토리')  # 위치에 상관없음"
      ]
    },
    {
      "cell_type": "markdown",
      "metadata": {
        "id": "aE3klqqJvZnD"
      },
      "source": [
        "#### 매개변수의 기본값 (Default value)"
      ]
    },
    {
      "cell_type": "code",
      "execution_count": null,
      "metadata": {
        "id": "8UoS1GYovdR3"
      },
      "outputs": [],
      "source": [
        "def print_pet(pet_name, pet_type = '강아지'):\n",
        "    \"\"\"반려동물의 관한 정보를 출력합니다\"\"\"\n",
        "    print(f'\\n반려동물 이름은 {pet_name} 입니다')\n",
        "    print(f'종류는 {pet_type} 입니다.')"
      ]
    },
    {
      "cell_type": "code",
      "execution_count": null,
      "metadata": {
        "colab": {
          "base_uri": "https://localhost:8080/"
        },
        "id": "4HuvNvw9vmlZ",
        "outputId": "f4faa3d5-a86e-4fba-e47d-260256e701a7"
      },
      "outputs": [
        {
          "name": "stdout",
          "output_type": "stream",
          "text": [
            "\n",
            "반려동물 이름은 뽀삐 입니다\n",
            "뽀삐의 종류는 강아지 입니다.\n"
          ]
        }
      ],
      "source": [
        "print_pet('뽀삐')"
      ]
    },
    {
      "cell_type": "code",
      "execution_count": null,
      "metadata": {
        "colab": {
          "base_uri": "https://localhost:8080/"
        },
        "id": "LAO0-OX31aKA",
        "outputId": "c7ce5926-27d3-4083-ee32-1f65e7702136"
      },
      "outputs": [
        {
          "name": "stdout",
          "output_type": "stream",
          "text": [
            "\n",
            "반려동물 이름은 나비 입니다\n",
            "나비의 종류는 고양이 입니다.\n"
          ]
        }
      ],
      "source": [
        "print_pet('나비', '고양이')"
      ]
    },
    {
      "cell_type": "markdown",
      "metadata": {
        "id": "kaGotGQD19UB"
      },
      "source": [
        "매개변수 에러"
      ]
    },
    {
      "cell_type": "code",
      "execution_count": null,
      "metadata": {
        "id": "LIqJq-9x11a7"
      },
      "outputs": [],
      "source": [
        "print_pet()"
      ]
    },
    {
      "cell_type": "code",
      "execution_count": null,
      "metadata": {
        "id": "Jq6KaSte2AbI"
      },
      "outputs": [],
      "source": [
        "print_pet(pt_name = '토리')"
      ]
    },
    {
      "cell_type": "markdown",
      "metadata": {
        "id": "0iYyBFtIwLCS"
      },
      "source": [
        "#### ❓ 딕셔너리와 print_pet 함수를 함께 사용해 봅시다"
      ]
    },
    {
      "cell_type": "code",
      "execution_count": null,
      "metadata": {
        "id": "8qfRCqMSwPa7"
      },
      "outputs": [],
      "source": [
        "pets = {'토리': '햄스터',\n",
        "        '뽀삐': '강아지',\n",
        "        '나비': '고양이'}\n",
        "\n",
        "# for문과 딕셔너리의 items() 매서드를 이용하여\n",
        "# key와 value각각의 정보를 함수로 전달, 출력"
      ]
    },
    {
      "cell_type": "markdown",
      "metadata": {
        "id": "vmb3MuKPkGAv"
      },
      "source": [
        "### 반환값(Return value)이 있는 함수"
      ]
    },
    {
      "cell_type": "code",
      "execution_count": null,
      "metadata": {
        "id": "W1QZODY4qkOd"
      },
      "outputs": [],
      "source": [
        "def get_area(x):\n",
        "    \"\"\"\n",
        "    넓이를 반환하는 get_area() 함수\n",
        "    x : x축 길이\n",
        "    \"\"\"\n",
        "    area = x ** 2\n",
        "    return area  # 함수의 반환 값"
      ]
    },
    {
      "cell_type": "code",
      "execution_count": null,
      "metadata": {
        "colab": {
          "base_uri": "https://localhost:8080/"
        },
        "id": "36RQO9phq3jb",
        "outputId": "dc63912c-920d-411f-e9da-b46e98335d7a"
      },
      "outputs": [
        {
          "name": "stdout",
          "output_type": "stream",
          "text": [
            "25\n"
          ]
        }
      ],
      "source": [
        "area = get_area(5)\n",
        "print(area)"
      ]
    },
    {
      "cell_type": "markdown",
      "metadata": {
        "id": "CcKSr2zZruE9"
      },
      "source": [
        "#### 매개변수를 옵션으로 사용\n",
        "추가적인 매개변수를 만들고 체크해 다양한 옵션을 줄 수 있습니다."
      ]
    },
    {
      "cell_type": "markdown",
      "metadata": {
        "id": "3yn-J2KHx_nE"
      },
      "source": [
        "- 문자열 옵션 매개변수"
      ]
    },
    {
      "cell_type": "code",
      "execution_count": null,
      "metadata": {
        "id": "4tpL8O6FwbTN"
      },
      "outputs": [],
      "source": [
        "def get_area(x, unit=''):\n",
        "    \"\"\"\n",
        "    넓이를 반환하는 get_area() 함수\n",
        "    x : x축 길이\n",
        "    unit : 단위가 주어지면 문자열로 완성시켜 반환 (소수점 2째 자리 반올림)\n",
        "    \"\"\"\n",
        "    if unit:\n",
        "        area = f'{(pi * x ** 2):.2f} {unit}'\n",
        "    else:\n",
        "        area = x ** 2\n",
        "\n",
        "    return area"
      ]
    },
    {
      "cell_type": "code",
      "execution_count": null,
      "metadata": {
        "colab": {
          "base_uri": "https://localhost:8080/"
        },
        "id": "bcbdeu8JxUsy",
        "outputId": "a4cac72a-4a40-492c-f961-a558ca7a7fd8"
      },
      "outputs": [
        {
          "name": "stdout",
          "output_type": "stream",
          "text": [
            "314.16 cm\n"
          ]
        }
      ],
      "source": [
        "area = get_area(10, unit='cm')\n",
        "print(area)"
      ]
    },
    {
      "cell_type": "markdown",
      "metadata": {
        "id": "CCwJ-EcWwYDi"
      },
      "source": [
        "- 숫자형 옵션 매개변수"
      ]
    },
    {
      "cell_type": "code",
      "execution_count": null,
      "metadata": {
        "id": "c2mOCYwDttAe"
      },
      "outputs": [],
      "source": [
        "def get_area(x, pi=0):\n",
        "    \"\"\"\n",
        "    넓이를 반환하는 get_area() 함수\n",
        "    x : x축 길이\n",
        "    pi : pi값이 주어지면 원의 넓이 반환 (소수점 2번째 자리 반올림)\n",
        "    \"\"\"\n",
        "    if pi:\n",
        "        area = pi * x ** 2\n",
        "    else:\n",
        "        area = x ** 2\n",
        "\n",
        "    return round(area, 2)  # 내장함수 round()로 반올림"
      ]
    },
    {
      "cell_type": "code",
      "execution_count": null,
      "metadata": {
        "colab": {
          "base_uri": "https://localhost:8080/"
        },
        "id": "XjDolcKUuDpp",
        "outputId": "40147804-c7c0-4291-fa8a-8b0268d5047d"
      },
      "outputs": [
        {
          "name": "stdout",
          "output_type": "stream",
          "text": [
            "25\n",
            "94.98\n"
          ]
        }
      ],
      "source": [
        "print(get_area(5))  # 정사각형인 경우\n",
        "print(get_area(5.5, pi=3.14))  # 원의 넓이인 경우\n"
      ]
    },
    {
      "cell_type": "markdown",
      "metadata": {
        "id": "yAYgJjaay7XQ"
      },
      "source": [
        "#### ❓ 위의 두가지 옵션을 함께 사용해서 함수를 만들어 봅시다\n",
        "def get_area(x, pi, unit) 형태로\n",
        "1. 매개변수가 x 만 주어지면 정사각형의 넓이 리턴,  \n",
        "2. pi값까지 주어지면 원의 넓이를 리턴.  \n",
        "3. unit 문자열이 주어지면 값에 주어진 단위를 붙여서 문자열로 리턴"
      ]
    },
    {
      "cell_type": "code",
      "execution_count": null,
      "metadata": {
        "id": "fWQru1_shG09"
      },
      "outputs": [],
      "source": [
        "def get_area(x, pi=0, unit=''):"
      ]
    },
    {
      "cell_type": "markdown",
      "metadata": {
        "id": "ODdsf9JM6wGv"
      },
      "source": [
        "### NoneType 데이터\n",
        "\n",
        "존재하지 않는 값을 표현할 때 None 타입을 주로 사용합니다."
      ]
    },
    {
      "cell_type": "code",
      "execution_count": null,
      "metadata": {
        "id": "tQeHC_unh6Ws"
      },
      "outputs": [],
      "source": [
        "def get_area(x, pi=None, unit=None):"
      ]
    },
    {
      "cell_type": "markdown",
      "metadata": {
        "id": "DdcC3Upo7JqS"
      },
      "source": [
        "- 반환값이 없는 함수인 경우 None 타입이 반환됩니다."
      ]
    },
    {
      "cell_type": "code",
      "execution_count": null,
      "metadata": {
        "colab": {
          "base_uri": "https://localhost:8080/"
        },
        "id": "7pf__l6k6_2H",
        "outputId": "4a16b167-fd3d-41b2-b45b-2d1427c0ce56"
      },
      "outputs": [
        {
          "name": "stdout",
          "output_type": "stream",
          "text": [
            "\"Hello~ kim!\n"
          ]
        },
        {
          "data": {
            "text/plain": [
              "NoneType"
            ]
          },
          "execution_count": 55,
          "metadata": {},
          "output_type": "execute_result"
        }
      ],
      "source": [
        "def greeting(name):\n",
        "    \"간단한 환영인사를 출력하는 함수\"  # 함수의 docstring\n",
        "\n",
        "    print(f'\"Hello~ {name}!')\n",
        "\n",
        "type(greeting('kim'))"
      ]
    },
    {
      "cell_type": "markdown",
      "metadata": {
        "id": "P4yCrRFe9GuO"
      },
      "source": [
        "- 값이 아직 존재하지 않는 경우에 주로 None 값을 사용"
      ]
    },
    {
      "cell_type": "code",
      "execution_count": null,
      "metadata": {
        "id": "K8NYR9vp8KgO"
      },
      "outputs": [],
      "source": [
        "scores = {'영어' : 80, '국어': None, '수학': None}  # 값이 아직 없는 경우"
      ]
    },
    {
      "cell_type": "code",
      "execution_count": null,
      "metadata": {
        "colab": {
          "base_uri": "https://localhost:8080/"
        },
        "id": "FvLg3YBX9fa0",
        "outputId": "b8b4e4e3-ca74-4d25-9f55-cfc042db8a0a"
      },
      "outputs": [
        {
          "data": {
            "text/plain": [
              "NoneType"
            ]
          },
          "execution_count": 59,
          "metadata": {},
          "output_type": "execute_result"
        }
      ],
      "source": [
        "type(scores.get('과학'))  # 키가 아직 없는 경우"
      ]
    },
    {
      "cell_type": "markdown",
      "metadata": {
        "id": "Lfg9vvHg-JXT"
      },
      "source": [
        "- 함수의 매개변수를 옵션으로 사용할 때"
      ]
    },
    {
      "cell_type": "code",
      "execution_count": null,
      "metadata": {
        "id": "zL3MzF6T99Og"
      },
      "outputs": [],
      "source": [
        "def greeting(name=None):\n",
        "\n",
        "    if name:\n",
        "        print(f'\"Hello~ {name}!')\n",
        "    else:\n",
        "        print('Hello~')\n"
      ]
    },
    {
      "cell_type": "markdown",
      "metadata": {
        "id": "N-9f45ty-PxG"
      },
      "source": [
        "- None 타입 체크하는 방법"
      ]
    },
    {
      "cell_type": "code",
      "execution_count": null,
      "metadata": {
        "colab": {
          "base_uri": "https://localhost:8080/"
        },
        "id": "0Ya__Pp3-S3i",
        "outputId": "29871f40-c739-4ccc-897f-209a6ebfed0c"
      },
      "outputs": [
        {
          "name": "stdout",
          "output_type": "stream",
          "text": [
            "else none\n"
          ]
        }
      ],
      "source": [
        "none = None\n",
        "if none:\n",
        "    print('if none')\n",
        "else:\n",
        "    print('else none')  # none 은 논리형으로 False에 해당"
      ]
    },
    {
      "cell_type": "code",
      "execution_count": null,
      "metadata": {
        "colab": {
          "base_uri": "https://localhost:8080/"
        },
        "id": "rL7o6T8x-1YH",
        "outputId": "967f3654-0660-4373-a54c-86d17ba9603f"
      },
      "outputs": [
        {
          "name": "stdout",
          "output_type": "stream",
          "text": [
            "None\n"
          ]
        }
      ],
      "source": [
        "none = None\n",
        "if none == None:  # 논리형 비교\n",
        "    print('None')"
      ]
    },
    {
      "cell_type": "code",
      "execution_count": null,
      "metadata": {
        "colab": {
          "base_uri": "https://localhost:8080/"
        },
        "id": "2XX9GA7E-3cn",
        "outputId": "70fc4195-1b22-4171-b58f-5246c885b605"
      },
      "outputs": [
        {
          "name": "stdout",
          "output_type": "stream",
          "text": [
            "None\n"
          ]
        }
      ],
      "source": [
        "none = None\n",
        "if none is None:  # id 값 (메모리 주소) 비교\n",
        "    print('None')"
      ]
    },
    {
      "cell_type": "code",
      "execution_count": null,
      "metadata": {
        "colab": {
          "base_uri": "https://localhost:8080/"
        },
        "id": "gKoWDB0z_SSI",
        "outputId": "54601123-6d1b-4b20-e0b2-97836b151c31"
      },
      "outputs": [
        {
          "name": "stdout",
          "output_type": "stream",
          "text": [
            "hello\n"
          ]
        }
      ],
      "source": [
        "none = 'hello'\n",
        "\n",
        "if none != None:\n",
        "    print(none)"
      ]
    },
    {
      "cell_type": "code",
      "execution_count": null,
      "metadata": {
        "colab": {
          "base_uri": "https://localhost:8080/"
        },
        "id": "w73zB7w0_LQ-",
        "outputId": "cdaa58fd-49ba-4f10-8fc0-c34a3baad138"
      },
      "outputs": [
        {
          "name": "stdout",
          "output_type": "stream",
          "text": [
            "hello\n"
          ]
        }
      ],
      "source": [
        "none = 'hello'\n",
        "\n",
        "if none is not None:\n",
        "    print(none)"
      ]
    },
    {
      "cell_type": "markdown",
      "metadata": {
        "id": "upwO_m666hHE"
      },
      "source": [
        "### 컬렉션 반환하기"
      ]
    },
    {
      "cell_type": "markdown",
      "metadata": {
        "id": "WL-awAdV2QEg"
      },
      "source": [
        "- 딕셔너리 리턴"
      ]
    },
    {
      "cell_type": "code",
      "execution_count": null,
      "metadata": {
        "id": "Ld8cm9Mp2arn"
      },
      "outputs": [],
      "source": [
        "def build_user(name, age, city=None):\n",
        "    \"\"\"\n",
        "    유저 딕셔너리를 만들어 반환하는 함수\n",
        "    city : 기본값 None\n",
        "    \"\"\"\n",
        "    user = {'user_name': name,\n",
        "            'user_age': age}\n",
        "    if city is not None:\n",
        "        user['user_city'] = city\n",
        "    return user\n"
      ]
    },
    {
      "cell_type": "code",
      "execution_count": null,
      "metadata": {
        "colab": {
          "base_uri": "https://localhost:8080/"
        },
        "id": "UDwSfm0X8imj",
        "outputId": "fb12e483-034c-4198-b0a4-d008998ef581"
      },
      "outputs": [
        {
          "name": "stdout",
          "output_type": "stream",
          "text": [
            "{'user_name': 'Lee', 'user_age': 23}\n",
            "{'user_name': 'Lee', 'user_age': 23, 'user_city': 'Paris'}\n"
          ]
        }
      ],
      "source": [
        "user = build_user('Lee', 23)\n",
        "print(user)\n",
        "user = build_user('Lee', 23, 'Paris')\n",
        "print(user)"
      ]
    },
    {
      "cell_type": "markdown",
      "metadata": {
        "id": "UkCUgOX4AWve"
      },
      "source": [
        "- 리스트 리턴"
      ]
    },
    {
      "cell_type": "code",
      "execution_count": null,
      "metadata": {
        "id": "keY23iz0AV6m"
      },
      "outputs": [],
      "source": [
        "def add_user():\n",
        "    \"\"\"\n",
        "    반복해서 사용자 입력을 받아\n",
        "    유저이름 리스트를 반환하는 함수\n",
        "    \"\"\"\n",
        "    users = []\n",
        "\n",
        "    while True:\n",
        "        print('유저 정보를 입력해 주세요. (종료 : q)')\n",
        "        name = input('이름 : ')\n",
        "        if name == 'q':\n",
        "            return users\n",
        "\n",
        "        users.append(name)\n",
        "        print(users)"
      ]
    },
    {
      "cell_type": "code",
      "execution_count": null,
      "metadata": {
        "id": "8B0m0GS4BuEk"
      },
      "outputs": [],
      "source": [
        "add_user()"
      ]
    },
    {
      "cell_type": "markdown",
      "metadata": {
        "id": "1PDXxQfDBrHM"
      },
      "source": [
        "### 컬렉션의 중첩(Nesting)"
      ]
    },
    {
      "cell_type": "markdown",
      "metadata": {
        "id": "nvxhek31B5Xm"
      },
      "source": [
        "컬렉션의 값은 얼마든지 다양한 컬렉션 종류가 들어갈 수 있습니다.  \n"
      ]
    },
    {
      "cell_type": "markdown",
      "metadata": {
        "id": "eyGROvSGEILU"
      },
      "source": [
        "- 리스트 안의 리스트   \n"
      ]
    },
    {
      "cell_type": "code",
      "execution_count": null,
      "metadata": {
        "id": "ZPq9aYaGDlSw"
      },
      "outputs": [],
      "source": [
        "numbers = [[1,2], [3,4], [7,8], [9,10]]"
      ]
    },
    {
      "cell_type": "markdown",
      "metadata": {
        "id": "50Rj3OF7EJUq"
      },
      "source": [
        "- 리스트 안의 딕셔너리\n"
      ]
    },
    {
      "cell_type": "code",
      "execution_count": null,
      "metadata": {
        "id": "LLHdUq7DHBLi"
      },
      "outputs": [],
      "source": [
        "pets = [ {'type':'강아지', 'name':'뽀삐'}, {'type':'햄스터', 'name': '토리'} ]"
      ]
    },
    {
      "cell_type": "markdown",
      "metadata": {
        "id": "zIVqz-ZoHW7-"
      },
      "source": [
        "\n",
        "- 딕셔너리 안의 리스트 등등 다양하게 만들수 있습니다"
      ]
    },
    {
      "cell_type": "code",
      "execution_count": null,
      "metadata": {
        "id": "ZnPVjtHLHj1x"
      },
      "outputs": [],
      "source": [
        " club_info = {'member' : ['kim', 'park', 'jimmy', 'tori'], 'homepage':None}"
      ]
    },
    {
      "cell_type": "markdown",
      "metadata": {
        "id": "HmZMZ8h8ijon"
      },
      "source": [
        "### 컬렉션을 매개변수로 전달하기"
      ]
    },
    {
      "cell_type": "markdown",
      "metadata": {
        "id": "BxOCfJGsirTc"
      },
      "source": [
        "- 리스트 매개변수"
      ]
    },
    {
      "cell_type": "code",
      "execution_count": null,
      "metadata": {
        "colab": {
          "base_uri": "https://localhost:8080/"
        },
        "id": "BP-CS0xFitdJ",
        "outputId": "62e2fa05-5f14-4ff9-ec74-623617f5fece"
      },
      "outputs": [
        {
          "name": "stdout",
          "output_type": "stream",
          "text": [
            "오늘 남아있는 일: \n",
            "\t수학공부\n",
            "\t방청소\n",
            "\t친구만나기\n"
          ]
        }
      ],
      "source": [
        "def show_todo(todo_list):\n",
        "    print('오늘 남아있는 일: ')\n",
        "    for todo in todo_list:\n",
        "        print(f'\\t{todo}')\n",
        "\n",
        "today_todo = ['수학공부', '방청소', '친구만나기']\n",
        "show_todo(today_todo)"
      ]
    },
    {
      "cell_type": "markdown",
      "metadata": {
        "id": "skJiA6OSjlRq"
      },
      "source": [
        "- 리스트를 전달하면 함수에서 수정할 수 있습니다."
      ]
    },
    {
      "cell_type": "markdown",
      "metadata": {
        "id": "aFABApgDlbvK"
      },
      "source": [
        "해야할 일 리스트를 하나씩 꺼내서 해결하는 프로그램"
      ]
    },
    {
      "cell_type": "code",
      "execution_count": null,
      "metadata": {
        "colab": {
          "base_uri": "https://localhost:8080/"
        },
        "collapsed": true,
        "id": "nSvIssJrjpud",
        "outputId": "8701bc8a-65a4-41ee-a073-44c3823d41b7"
      },
      "outputs": [
        {
          "name": "stdout",
          "output_type": "stream",
          "text": [
            "오늘 남아있는 일: \n",
            "\t수학공부\n",
            "\t방청소\n",
            "\t친구만나기\n",
            "친구만나기 완료!\n",
            "\n",
            "오늘 남아있는 일: \n",
            "\t수학공부\n",
            "\t방청소\n",
            "방청소 완료!\n",
            "\n",
            "오늘 남아있는 일: \n",
            "\t수학공부\n",
            "수학공부 완료!\n",
            "\n"
          ]
        }
      ],
      "source": [
        "todo = ['수학공부', '방청소', '친구만나기']\n",
        "completed = []\n",
        "\n",
        "while todo:\n",
        "    show_todo(todo)\n",
        "    complete = todo.pop()\n",
        "    print(f'{complete} 완료!\\n')\n",
        "    completed.append(complete)\n"
      ]
    },
    {
      "cell_type": "code",
      "execution_count": null,
      "metadata": {
        "colab": {
          "base_uri": "https://localhost:8080/"
        },
        "collapsed": true,
        "id": "EQ_Mw535lvAB",
        "outputId": "22de34e8-0562-4811-b159-b173deb4ab02"
      },
      "outputs": [
        {
          "name": "stdout",
          "output_type": "stream",
          "text": [
            "오늘 남아있는 일: \n",
            "\t수학공부\n",
            "\t방청소\n",
            "\t친구만나기\n",
            "친구만나기 완료!\n",
            "\n",
            "오늘 남아있는 일: \n",
            "\t수학공부\n",
            "\t방청소\n",
            "방청소 완료!\n",
            "\n",
            "오늘 남아있는 일: \n",
            "\t수학공부\n",
            "수학공부 완료!\n",
            "\n",
            "todo: []\n",
            "complete:  ['친구만나기', '방청소', '수학공부']\n"
          ]
        }
      ],
      "source": [
        "def show_todo(todo_list):\n",
        "    \"\"\" 해야할일 리스트를 받아서 출력 \"\"\"\n",
        "    print('오늘 남아있는 일: ')\n",
        "    for todo in todo_list:\n",
        "        print(f'\\t{todo}')"
      ]
    },
    {
      "cell_type": "code",
      "execution_count": null,
      "metadata": {
        "id": "LrIvEPVZh6Wz"
      },
      "outputs": [],
      "source": [
        "def doing_todo(todo_list, completed_list):\n",
        "    \"\"\"\n",
        "    해야할 리스트를 받아서 해결하고\n",
        "    해결된 일을 완료 리스트에 추가하는 함수\n",
        "    \"\"\"\n",
        "    while todo_list:\n",
        "        show_todo(todo_list)\n",
        "        complete = todo_list.pop()\n",
        "        print(f'{complete} 완료!\\n')\n",
        "        completed_list.append(complete)"
      ]
    },
    {
      "cell_type": "code",
      "execution_count": null,
      "metadata": {
        "id": "QtC4o-5th6Wz"
      },
      "outputs": [],
      "source": [
        "todo = ['수학공부', '방청소', '친구만나기']\n",
        "completed = []\n",
        "\n",
        "doing_todo(todo, completed)\n",
        "print('todo:', todo)\n",
        "print('complete: ', completed)"
      ]
    },
    {
      "cell_type": "markdown",
      "metadata": {
        "id": "wWQwXcDUoXqU"
      },
      "source": [
        "함수가 리스트를 수정하지 못하도록 복사본 전달하기"
      ]
    },
    {
      "cell_type": "code",
      "execution_count": null,
      "metadata": {
        "colab": {
          "base_uri": "https://localhost:8080/"
        },
        "collapsed": true,
        "id": "yV2EqB5Xobaa",
        "outputId": "f5c350c6-9870-4e2b-d53a-7f23a365b283"
      },
      "outputs": [
        {
          "name": "stdout",
          "output_type": "stream",
          "text": [
            "친구만나기 완료!\n",
            "오늘 남아있는 일: \n",
            "\t수학공부\n",
            "\t방청소\n",
            "방청소 완료!\n",
            "오늘 남아있는 일: \n",
            "\t수학공부\n",
            "수학공부 완료!\n",
            "오늘 남아있는 일: \n",
            "todo: ['수학공부', '방청소', '친구만나기']\n",
            "complete:  []\n"
          ]
        }
      ],
      "source": [
        "todo = ['수학공부', '방청소', '친구만나기']\n",
        "completed = []\n",
        "\n",
        "doing_todo(todo[:], completed[:])  # 슬라이싱을 이용해 사본생성 (얕은 복사)\n",
        "print('todo:', todo)\n",
        "print('complete: ', completed)"
      ]
    },
    {
      "cell_type": "markdown",
      "metadata": {
        "id": "H1a-QJ2Llfel"
      },
      "source": [
        "함수로 만들면\n",
        "1. 구조가 이해하기 쉬워지고  \n",
        "2. 다시 함수를 재사용 하기도 쉽고  \n",
        "3. 수정사항을 수정하기도 쉬워집니다."
      ]
    },
    {
      "cell_type": "markdown",
      "metadata": {
        "id": "YCbRyrujtznw"
      },
      "source": [
        "만약 함수를 사용하지 않는다면?"
      ]
    },
    {
      "cell_type": "code",
      "execution_count": null,
      "metadata": {
        "id": "PMst8VsKtkCF"
      },
      "outputs": [],
      "source": [
        "todo = ['수학공부', '방청소', '친구만나기']\n",
        "todo_2 = ['운동하기', '쇼핑', '야식먹기']\n",
        "completed = []\n",
        "\n",
        "while todo:\n",
        "    show_todo(todo)\n",
        "    complete = todo.pop()\n",
        "    print(f'{complete} 완료!\\n')\n",
        "    completed.append(complete)"
      ]
    },
    {
      "cell_type": "markdown",
      "metadata": {
        "id": "ld6lVzbdonUH"
      },
      "source": [
        "#### ❓ 리스트를 매개변수로 받고 리스트를 반환하는 함수를 만들어 봅시다~\n",
        "다음과 같은 리스트를 함수를 이용해서 대문자로 변경한뒤 대문자로만 이루어진   \n",
        "새로운 리스트를 리턴하는 함수를 만들어 봅시다."
      ]
    },
    {
      "cell_type": "code",
      "execution_count": null,
      "metadata": {
        "id": "pTdYp2LGo4an"
      },
      "outputs": [],
      "source": [
        "lower_words = ['sword', 'apple', 'car', 'user']"
      ]
    },
    {
      "cell_type": "markdown",
      "metadata": {
        "id": "CMPENmf02Qh_"
      },
      "source": [
        "---"
      ]
    },
    {
      "cell_type": "markdown",
      "metadata": {
        "id": "9QFpQJySKxOu"
      },
      "source": [
        "함수만들기 리마인드"
      ]
    },
    {
      "cell_type": "code",
      "execution_count": null,
      "metadata": {
        "id": "v_g3h49FKxOu"
      },
      "outputs": [],
      "source": [
        "todo_list = ['수학공부', '방청소', '친구만나기']\n",
        "complete_list = []\n",
        "\n",
        "while todo_list:\n",
        "    print('오늘 남아있는 일: ')\n",
        "    for todo in todo_list:\n",
        "        print(f'\\t{todo}')\n",
        "    complete = todo.pop()\n",
        "    print(f'{complete} 완료!\\n')\n",
        "    complete_list.append(complete)"
      ]
    },
    {
      "cell_type": "markdown",
      "metadata": {
        "id": "5LGF5-dBuMjd"
      },
      "source": [
        "### 아규먼츠(arguments)\n",
        "매개변수 갯수와 관계없이 함수를 만들 때 사용하는 방법"
      ]
    },
    {
      "cell_type": "markdown",
      "metadata": {
        "id": "7NxgoWvmyBtl"
      },
      "source": [
        "#### 1. 매개변수들을 모아주는 아규먼츠 (arguments)"
      ]
    },
    {
      "cell_type": "code",
      "execution_count": null,
      "metadata": {
        "colab": {
          "base_uri": "https://localhost:8080/"
        },
        "id": "SdQyw4idvI53",
        "outputId": "76d1f8ea-59d4-42d9-fff1-804f396d7624"
      },
      "outputs": [
        {
          "name": "stdout",
          "output_type": "stream",
          "text": [
            "('할라피뇨', '양송이', '감자', '고구마')\n"
          ]
        }
      ],
      "source": [
        "def make_pizza(*toppings):\n",
        "    \"주문받은 토핑들 출력\"\n",
        "    print(toppings)\n",
        "\n",
        "make_pizza('할라피뇨', '양송이', '감자', '고구마')"
      ]
    },
    {
      "cell_type": "code",
      "execution_count": null,
      "metadata": {
        "id": "6pjrRIY5vct-"
      },
      "outputs": [],
      "source": [
        "def make_pizza(*toppings):\n",
        "    \"주문받은 토핑들 출력\"\n",
        "    print('토핑: ')\n",
        "    for top in toppings:\n",
        "        print(f'- {top}')"
      ]
    },
    {
      "cell_type": "markdown",
      "metadata": {
        "id": "W9hSPZhXv9nW"
      },
      "source": [
        "일반적인 매개변수와 함께 쓸 때 아규먼츠(arguments) 는 항상 마지막에 씁니다.  \n",
        "아규먼츠는 *args 로 주로 표현합니다"
      ]
    },
    {
      "cell_type": "code",
      "execution_count": null,
      "metadata": {
        "id": "SUH01dgPwBwg"
      },
      "outputs": [],
      "source": [
        "def make_pizza(size, *args):\n",
        "    \"주문받은 토핑들 출력\"\n",
        "    print(f'사이즈: {size}')\n",
        "    print('토핑: ')\n",
        "    for top in args:\n",
        "        print(f'- {top}')\n",
        "\n",
        "make_pizza('라지', '치즈', '고구마', '양송이')"
      ]
    },
    {
      "cell_type": "markdown",
      "metadata": {
        "id": "jnJ0Egi7yGuR"
      },
      "source": [
        "#### 2. 키워드형 아규먼츠 (Keyword arguments)"
      ]
    },
    {
      "cell_type": "code",
      "execution_count": null,
      "metadata": {
        "colab": {
          "base_uri": "https://localhost:8080/"
        },
        "id": "HeIaf-s0AsRn",
        "outputId": "7ef50709-c554-4e95-8f6f-fa20101a8414"
      },
      "outputs": [
        {
          "name": "stdout",
          "output_type": "stream",
          "text": [
            "{'name': 'kim', 'age': 20}\n"
          ]
        }
      ],
      "source": [
        "def make_profile(**user_info):\n",
        "    print(user_info)\n",
        "\n",
        "make_profile(name='kim', age=20)"
      ]
    },
    {
      "cell_type": "code",
      "execution_count": null,
      "metadata": {
        "id": "RNWoCLdryMAa"
      },
      "outputs": [],
      "source": [
        "def make_profile(**user_info):\n",
        "    if 'location' in user_info:\n",
        "        print(f\"location : {user_info['location']}\")\n",
        "\n",
        "make_profile(location='영국', team='토트넘')"
      ]
    },
    {
      "cell_type": "markdown",
      "metadata": {
        "ExecuteTime": {
          "end_time": "2023-10-21T01:27:45.505584Z",
          "start_time": "2023-10-21T01:27:45.498602Z"
        },
        "id": "9ozo3bc3h6W2"
      },
      "source": [
        "키워드형 아규먼츠는 보통 **kwargs (keyword args)로 표현합니다"
      ]
    },
    {
      "cell_type": "code",
      "execution_count": null,
      "metadata": {
        "id": "6EpfNnDy0cYl"
      },
      "outputs": [],
      "source": [
        "def make_profile(**kwargs):\n",
        "    if 'location' in kwargs:\n",
        "        kwargs['location'] = '한국'\n",
        "    return kwargs"
      ]
    },
    {
      "cell_type": "code",
      "execution_count": null,
      "metadata": {
        "colab": {
          "base_uri": "https://localhost:8080/"
        },
        "id": "Zxqtw14g0xOE",
        "outputId": "f0daf66c-0d79-4013-ce59-1bc0508702f7"
      },
      "outputs": [
        {
          "data": {
            "text/plain": [
              "{'name': '쏘니', 'location': '한국', 'team': '토트넘'}"
            ]
          },
          "execution_count": 75,
          "metadata": {},
          "output_type": "execute_result"
        }
      ],
      "source": [
        "make_profile(name='쏘니', location='영국', team='토트넘')"
      ]
    },
    {
      "cell_type": "markdown",
      "metadata": {
        "id": "ogEtcEQYBbX7"
      },
      "source": [
        "args와 kwargs 를 사용하면 유연한 함수를 만들어 처리할 수 있습니다."
      ]
    },
    {
      "cell_type": "code",
      "execution_count": null,
      "metadata": {
        "colab": {
          "base_uri": "https://localhost:8080/"
        },
        "id": "2KrtV64QBj_L",
        "outputId": "f563005e-1ae6-44ac-a7f2-e2e225317844"
      },
      "outputs": [
        {
          "name": "stdout",
          "output_type": "stream",
          "text": [
            "(1, 2, 3)\n",
            "{'name': 'park', 'mode': 'auto', 'level': 14}\n"
          ]
        }
      ],
      "source": [
        "def flex(*args, **kwargs):\n",
        "    print(args)\n",
        "    print(kwargs)\n",
        "\n",
        "flex(1, 2, 3, name='park', mode='auto', level=14)"
      ]
    },
    {
      "cell_type": "markdown",
      "metadata": {
        "id": "8n0JA6V1h2j8"
      },
      "source": [
        "## 파이썬 내장함수(Built in Function -section9, 10)\n",
        "파이썬을 설치하면 기본적으로 제공되는 함수들  "
      ]
    },
    {
      "cell_type": "code",
      "execution_count": null,
      "metadata": {
        "colab": {
          "base_uri": "https://localhost:8080/"
        },
        "id": "kobcTB_MlyIr",
        "outputId": "d455b8c1-8b4e-4618-e547-03fe4492cf95"
      },
      "outputs": [
        {
          "name": "stdout",
          "output_type": "stream",
          "text": [
            "hello\n"
          ]
        }
      ],
      "source": [
        "# 여러가지 내장 함수들\n",
        "print('hello')"
      ]
    },
    {
      "cell_type": "code",
      "execution_count": null,
      "metadata": {
        "colab": {
          "base_uri": "https://localhost:8080/",
          "height": 54
        },
        "id": "BMi4CWpTHCrI",
        "outputId": "ece173d0-3490-48b6-f012-385c0d2c680a"
      },
      "outputs": [
        {
          "name": "stdout",
          "output_type": "stream",
          "text": [
            "inputhello\n"
          ]
        },
        {
          "data": {
            "application/vnd.google.colaboratory.intrinsic+json": {
              "type": "string"
            },
            "text/plain": [
              "'hello'"
            ]
          },
          "execution_count": 81,
          "metadata": {},
          "output_type": "execute_result"
        }
      ],
      "source": [
        "input('input')"
      ]
    },
    {
      "cell_type": "code",
      "execution_count": null,
      "metadata": {
        "colab": {
          "base_uri": "https://localhost:8080/"
        },
        "id": "rka4l1OeHDXi",
        "outputId": "d8cc5c2d-4b00-47df-e1e8-c2a0b80d7fd2"
      },
      "outputs": [
        {
          "data": {
            "text/plain": [
              "3"
            ]
          },
          "execution_count": 82,
          "metadata": {},
          "output_type": "execute_result"
        }
      ],
      "source": [
        "len([1, 2, 3])"
      ]
    },
    {
      "cell_type": "code",
      "execution_count": null,
      "metadata": {
        "colab": {
          "base_uri": "https://localhost:8080/"
        },
        "id": "1OQNN3uGHEFA",
        "outputId": "052bc4db-59f7-475c-e57b-81cf7a2e8890"
      },
      "outputs": [
        {
          "name": "stdout",
          "output_type": "stream",
          "text": [
            "range(1, 10)\n"
          ]
        }
      ],
      "source": [
        "range(1, 10)"
      ]
    },
    {
      "cell_type": "markdown",
      "metadata": {
        "id": "WjhQVyysshSQ"
      },
      "source": [
        "### 숫자관련 내장함수"
      ]
    },
    {
      "cell_type": "markdown",
      "metadata": {
        "id": "FPBiYpAyHT8W"
      },
      "source": [
        "- min()  \n",
        "주어지는 숫자들 중 가장 작은값을 출력"
      ]
    },
    {
      "cell_type": "code",
      "execution_count": null,
      "metadata": {
        "id": "nVq3LtDtg1C5"
      },
      "outputs": [],
      "source": [
        "min(100, 5, 2)  # 값들 중에 최소값"
      ]
    },
    {
      "cell_type": "code",
      "execution_count": null,
      "metadata": {
        "id": "saXB4FFYcMVt"
      },
      "outputs": [],
      "source": [
        "min([1,2,3,4,5])  # 리스트와 같은 컬렉션도 가능"
      ]
    },
    {
      "cell_type": "markdown",
      "metadata": {
        "id": "kjUGM6nRHdSj"
      },
      "source": [
        "- max()  \n",
        "주어지는 숫자들 중 가장 작은값을 출력"
      ]
    },
    {
      "cell_type": "code",
      "execution_count": null,
      "metadata": {
        "id": "B-9vOnrRh-Qu"
      },
      "outputs": [],
      "source": [
        "max(100, 5)  # 값들 중에 최대값"
      ]
    },
    {
      "cell_type": "code",
      "execution_count": null,
      "metadata": {
        "id": "_KlcERGfc0uL"
      },
      "outputs": [],
      "source": [
        "max([10,43,20,123,40])"
      ]
    },
    {
      "cell_type": "markdown",
      "metadata": {
        "id": "7FD9Fqy9HmEY"
      },
      "source": [
        "- round()  \n",
        "반올림 함수 (자릿수를 지정하지 않으면 소수점을 반올림)\n"
      ]
    },
    {
      "cell_type": "code",
      "execution_count": null,
      "metadata": {
        "colab": {
          "base_uri": "https://localhost:8080/"
        },
        "id": "brP8yqAkiA0l",
        "outputId": "50827f07-82a3-4aa1-a251-cc23eac4aa55"
      },
      "outputs": [
        {
          "name": "stdout",
          "output_type": "stream",
          "text": [
            "3.141592653589793\n"
          ]
        },
        {
          "data": {
            "text/plain": [
              "3"
            ]
          },
          "execution_count": 93,
          "metadata": {},
          "output_type": "execute_result"
        }
      ],
      "source": [
        "import math\n",
        "print(math.pi)\n",
        "round(math.pi)"
      ]
    },
    {
      "cell_type": "markdown",
      "metadata": {
        "id": "oRkXAX9DLvNj"
      },
      "source": [
        "두번째 매개변수로 소숫점 자리수를 정해줄 수 있습니다."
      ]
    },
    {
      "cell_type": "code",
      "execution_count": null,
      "metadata": {
        "colab": {
          "base_uri": "https://localhost:8080/"
        },
        "id": "gl9sN_AzdM6i",
        "outputId": "0b886618-8034-43bb-b3a8-c3fb1f66abf8"
      },
      "outputs": [
        {
          "data": {
            "text/plain": [
              "3.14"
            ]
          },
          "execution_count": 95,
          "metadata": {},
          "output_type": "execute_result"
        }
      ],
      "source": [
        "round(math.pi, 2)  # 반올림해 출력될 자릿수 지정"
      ]
    },
    {
      "cell_type": "markdown",
      "metadata": {
        "id": "vn9wCIYYIVA5"
      },
      "source": [
        "- sum()  \n",
        "주어진 숫자들의 총합"
      ]
    },
    {
      "cell_type": "code",
      "execution_count": null,
      "metadata": {
        "id": "4NMjcidyiL8k"
      },
      "outputs": [],
      "source": [
        "sum([1,2,3,4,5])  # 리스트 같은 컬렉션도 가능"
      ]
    },
    {
      "cell_type": "markdown",
      "metadata": {
        "id": "LF1TcIkmKo9p"
      },
      "source": [
        "sum() 함수와 *args 를 사용한 총합 계산 함수"
      ]
    },
    {
      "cell_type": "code",
      "execution_count": null,
      "metadata": {
        "colab": {
          "base_uri": "https://localhost:8080/"
        },
        "id": "lyLNKbfSHp98",
        "outputId": "9bbfaa08-cc03-4424-8c64-dcd0fd1e577a"
      },
      "outputs": [
        {
          "data": {
            "text/plain": [
              "20"
            ]
          },
          "execution_count": 91,
          "metadata": {},
          "output_type": "execute_result"
        }
      ],
      "source": [
        "def total(*args):\n",
        "    return sum(args)\n",
        "\n",
        "total(1, 4, 5, 10)"
      ]
    },
    {
      "cell_type": "markdown",
      "metadata": {
        "id": "kHJCy0pAKFzB"
      },
      "source": [
        "#### ❓ 평균을 구하는 함수 만들기\n",
        "위의 total() 함수처럼 *args 를 받아서  \n",
        "주어지는 숫자들의 평균을 리턴하는 함수 mean() 을 만들어 보세요  \n",
        "\n",
        "\n",
        "> Q1. 평균은 총합을 총 갯수로 나눈 값입니다.   \n",
        "예) 3과 5의 평균은 3+5인 8을 숫자 갯수 2로 나눈 4 입니다.  \n",
        "(갯수를 세는 len() 함수와 총합을 계산하는 sum() 함수 사용)\n",
        "\n",
        "> Q2. 평균을 리턴할 때 소수점 2째 자리에서 반올림 해서 리턴해 주세요  \n",
        "(반올림 하는 round() 함수 사용)"
      ]
    },
    {
      "cell_type": "code",
      "execution_count": null,
      "metadata": {
        "id": "DpXRRvLIKxOz"
      },
      "outputs": [],
      "source": []
    },
    {
      "cell_type": "markdown",
      "metadata": {
        "id": "L0hz6vftOpQe"
      },
      "source": [
        "### N-진수 관련 함수"
      ]
    },
    {
      "cell_type": "markdown",
      "metadata": {
        "id": "R6aLIJt-O4kV"
      },
      "source": [
        "10진법 - 0 ~ 9  \n",
        "2진법 - 0 ~ 1  \n",
        "8진법 - 0 ~ 7  \n",
        "16진법 - 0 ~ F (A: 10, B: 11, C: 12, D: 13, E: 14, F: 15)\n"
      ]
    },
    {
      "cell_type": "code",
      "execution_count": null,
      "metadata": {
        "colab": {
          "base_uri": "https://localhost:8080/",
          "height": 35
        },
        "id": "C0tjcsFLP6sv",
        "outputId": "c17902cd-8cb3-4800-ef0d-f17ddb8e7ace"
      },
      "outputs": [
        {
          "data": {
            "application/vnd.google.colaboratory.intrinsic+json": {
              "type": "string"
            },
            "text/plain": [
              "'0b1010'"
            ]
          },
          "execution_count": 100,
          "metadata": {},
          "output_type": "execute_result"
        }
      ],
      "source": [
        "bin(10)  # 2진법 (binary)"
      ]
    },
    {
      "cell_type": "code",
      "execution_count": null,
      "metadata": {
        "colab": {
          "base_uri": "https://localhost:8080/",
          "height": 35
        },
        "id": "yLtuiTynP_bw",
        "outputId": "8107d40e-2ad2-4870-de80-fc229cb2f5c9"
      },
      "outputs": [
        {
          "data": {
            "application/vnd.google.colaboratory.intrinsic+json": {
              "type": "string"
            },
            "text/plain": [
              "'0o12'"
            ]
          },
          "execution_count": 101,
          "metadata": {},
          "output_type": "execute_result"
        }
      ],
      "source": [
        "oct(10)  # 8진법 (octal)"
      ]
    },
    {
      "cell_type": "code",
      "execution_count": null,
      "metadata": {
        "colab": {
          "base_uri": "https://localhost:8080/",
          "height": 35
        },
        "id": "2zfJ7f8zQCIq",
        "outputId": "df8df697-4a90-46d0-9d59-dad2754ce119"
      },
      "outputs": [
        {
          "data": {
            "application/vnd.google.colaboratory.intrinsic+json": {
              "type": "string"
            },
            "text/plain": [
              "'0xa'"
            ]
          },
          "execution_count": 102,
          "metadata": {},
          "output_type": "execute_result"
        }
      ],
      "source": [
        "hex(10)  # 16진법 (hexadecimal)"
      ]
    },
    {
      "cell_type": "code",
      "execution_count": null,
      "metadata": {
        "colab": {
          "base_uri": "https://localhost:8080/"
        },
        "id": "cBHnA6KtQXCM",
        "outputId": "cc7e96f4-6c7f-44d2-c19f-5d5e38b23ac6"
      },
      "outputs": [
        {
          "data": {
            "text/plain": [
              "10"
            ]
          },
          "execution_count": 105,
          "metadata": {},
          "output_type": "execute_result"
        }
      ],
      "source": [
        "int()  # 10진법으로 integer"
      ]
    },
    {
      "cell_type": "markdown",
      "metadata": {
        "id": "vl4QZbB3ONtg"
      },
      "source": [
        "### 문자관련 내장함수"
      ]
    },
    {
      "cell_type": "code",
      "execution_count": null,
      "metadata": {
        "colab": {
          "base_uri": "https://localhost:8080/"
        },
        "id": "Sg7CAmzZQ7x8",
        "outputId": "bcdeb8c4-5562-4840-d37c-cb311ef2b7a1"
      },
      "outputs": [
        {
          "data": {
            "text/plain": [
              "65"
            ]
          },
          "execution_count": 119,
          "metadata": {},
          "output_type": "execute_result"
        }
      ],
      "source": [
        "ord('A')"
      ]
    },
    {
      "cell_type": "code",
      "execution_count": null,
      "metadata": {
        "colab": {
          "base_uri": "https://localhost:8080/"
        },
        "id": "f1rNtkiiUPGG",
        "outputId": "280e7f8f-e499-4d17-cb0f-9f12fc682697"
      },
      "outputs": [
        {
          "data": {
            "text/plain": [
              "44032"
            ]
          },
          "execution_count": 130,
          "metadata": {},
          "output_type": "execute_result"
        }
      ],
      "source": [
        "ord('가')"
      ]
    },
    {
      "cell_type": "code",
      "execution_count": null,
      "metadata": {
        "colab": {
          "base_uri": "https://localhost:8080/"
        },
        "id": "2yuq6NZ7XROm",
        "outputId": "fd6b5bb2-bf52-4e92-eaf8-21802cf08bde"
      },
      "outputs": [
        {
          "data": {
            "text/plain": [
              "44060"
            ]
          },
          "execution_count": 131,
          "metadata": {},
          "output_type": "execute_result"
        }
      ],
      "source": [
        "ord('개')"
      ]
    },
    {
      "cell_type": "code",
      "execution_count": null,
      "metadata": {
        "colab": {
          "base_uri": "https://localhost:8080/",
          "height": 35
        },
        "id": "Ikd1V2sHUG10",
        "outputId": "2f16287c-c9b9-49da-f4aa-af227f0ad780"
      },
      "outputs": [
        {
          "data": {
            "application/vnd.google.colaboratory.intrinsic+json": {
              "type": "string"
            },
            "text/plain": [
              "'A'"
            ]
          },
          "execution_count": 117,
          "metadata": {},
          "output_type": "execute_result"
        }
      ],
      "source": [
        "chr(65)"
      ]
    },
    {
      "cell_type": "markdown",
      "metadata": {
        "id": "bgmNmNANWH1Y"
      },
      "source": [
        "문자를 해당되는 숫자로 표현하는 것을 문자 인코딩 이라고 합니다.   "
      ]
    },
    {
      "cell_type": "markdown",
      "metadata": {
        "id": "WAZ7Hs5wWQhu"
      },
      "source": [
        "이러한 인코딩 숫자는 특정방식으로 문자를 처리할 때 사용됩니다.  "
      ]
    },
    {
      "cell_type": "markdown",
      "metadata": {
        "id": "e4rtuvjeNTU3"
      },
      "source": [
        "#### ⚡ 한글 단어 마지막 글자의 받침 확인 함수\n",
        "    # 한글 조합에서 받침은 총 27개가 가능해서\n",
        "    # 받침이 없는 글자들의 숫자는 28씩 차이가 나는 패턴이 있음.\n",
        "    # ex) '가' : 44032 / '개' : 44060"
      ]
    },
    {
      "cell_type": "code",
      "execution_count": null,
      "metadata": {
        "ExecuteTime": {
          "end_time": "2023-10-22T00:34:13.025254Z",
          "start_time": "2023-10-22T00:34:13.019243Z"
        },
        "id": "db2brqdFKxO1",
        "outputId": "7796c46d-3760-4c2e-9ab9-76c8df7548b5"
      },
      "outputs": [
        {
          "name": "stdout",
          "output_type": "stream",
          "text": [
            "가 각 갂 갃 간 갅 갆 갇 갈 갉 갊 갋 갌 갍 갎 갏 감 갑 값 갓 갔 강 갖 갗 갘 같 갚 갛 \n"
          ]
        }
      ],
      "source": [
        "s=''\n",
        "for ord_n in range(ord('가'), ord('개')):\n",
        "     s += chr(ord_n) + ' '\n",
        "print(s)"
      ]
    },
    {
      "cell_type": "code",
      "execution_count": null,
      "metadata": {
        "ExecuteTime": {
          "end_time": "2023-10-22T00:39:32.345959Z",
          "start_time": "2023-10-22T00:39:32.330971Z"
        },
        "colab": {
          "base_uri": "https://localhost:8080/"
        },
        "id": "5w0ie5ZyWhCX",
        "outputId": "3e5317fd-461d-4c55-acee-b46787246c4c"
      },
      "outputs": [
        {
          "data": {
            "text/plain": [
              "False"
            ]
          },
          "execution_count": 4,
          "metadata": {},
          "output_type": "execute_result"
        }
      ],
      "source": [
        "def check_base(k_word):\n",
        "    \"\"\"\n",
        "    한글 단어의 마지막 글자가 받침이 있는지 없는지 체크하는 함수\n",
        "    check_base(k_word) k_word: 한글단어\n",
        "    return True: 받침이 있음\n",
        "    return False: 받침이 없음\n",
        "    \"\"\"\n",
        "\n",
        "    last_word = k_word[-1]\n",
        "    ord_word = ord(last_word) - ord('가')\n",
        "\n",
        "    if ord_word % 28 == 0:  # 받침이 없는 경우\n",
        "        return False\n",
        "\n",
        "    else:\n",
        "        return True  # 받침 있음\n",
        "\n",
        "check_base('강아지')"
      ]
    },
    {
      "cell_type": "markdown",
      "metadata": {
        "id": "jKtjtrCz4sF-"
      },
      "source": [
        "#### ❓ 한글 단어에 따라 '이' 또는 '가' 를 붙여주는 함수를 만들어 봅시다.  \n",
        "앞의 check_base 함수를 사용해서 마지막 글자에 받침이 있으면   \n",
        "'이' 를 붙여서 리턴하고 받침이 없으면 '가' 를 붙여서 리턴하는   \n",
        "plus_iga(word) 함수를 만들어보세요\n",
        "\n",
        "> 예) plus_iga('아기곰') -> '아기곰이' 리턴  \n",
        "    plus_iga('강아지') -> '강아지가' 리턴  \n",
        "    (문자열을 합치는 + 연산자 사용)"
      ]
    },
    {
      "cell_type": "code",
      "execution_count": null,
      "metadata": {
        "ExecuteTime": {
          "end_time": "2023-10-22T00:40:49.228220Z",
          "start_time": "2023-10-22T00:40:49.209243Z"
        },
        "id": "hlYZKxWPOqKF",
        "outputId": "0a26a82b-73f0-40b0-9616-33b4c32a6364"
      },
      "outputs": [
        {
          "name": "stdout",
          "output_type": "stream",
          "text": [
            "강아지가 밥을 먹습니다\n",
            "아기곰이 밥을 먹습니다\n"
          ]
        }
      ],
      "source": [
        "for pet in ['강아지', '아기곰']:\n",
        "    print(f'{plus_iga(pet)} 밥을 먹습니다')"
      ]
    },
    {
      "cell_type": "code",
      "execution_count": null,
      "metadata": {
        "ExecuteTime": {
          "end_time": "2023-10-22T00:40:46.786069Z",
          "start_time": "2023-10-22T00:40:46.779060Z"
        },
        "id": "Xj5UASq2iyEq"
      },
      "outputs": [],
      "source": [
        "def plus_iga(word):\n",
        "    \"\"\" 한글단어를 받아 적절한 '이/가' 를 붙여 리턴\"\"\"\n",
        "\n",
        "    if check_base(word):\n",
        "        word = word + '이'\n",
        "    else:\n",
        "        word = word + '가'\n",
        "    return word"
      ]
    },
    {
      "cell_type": "markdown",
      "metadata": {
        "id": "fKB1Xa8Vyt4m"
      },
      "source": [
        "⚡ 문자 인코딩(Encoding <-> Decoding) - 각 문자를 컴퓨터 코드로 나타내는 방법  \n",
        "https://terms.naver.com/entry.naver?docId=5662548&cid=43667&categoryId=43667\n",
        "\n",
        "인코딩 방식에는 여러가지를 사용할 수 있습니다.\n",
        "- 아스키코드 (ASCII)\n",
        "- EUC-KR\n",
        "- 유니코드 (UNICODE) 등"
      ]
    },
    {
      "cell_type": "markdown",
      "metadata": {
        "id": "2gvJvntCp86R"
      },
      "source": [
        "\n",
        "\n",
        "> 아스키코드 일부\n",
        "\n"
      ]
    },
    {
      "cell_type": "markdown",
      "metadata": {
        "id": "miXoKOd_5uF4"
      },
      "source": [
        "![제목 없음.png](data:image/png;base64,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)"
      ]
    },
    {
      "cell_type": "markdown",
      "metadata": {
        "id": "Y3LXdXIcbtDr"
      },
      "source": [
        "# 모듈과 import - section11, 12"
      ]
    },
    {
      "cell_type": "markdown",
      "metadata": {
        "id": "jOmLY0jYo9dQ"
      },
      "source": [
        "### 모듈 만들기  \n",
        "❗ 모듈생성은 IDLE 환경에서 실습합니다."
      ]
    },
    {
      "cell_type": "markdown",
      "metadata": {
        "id": "vSHAS215oMme"
      },
      "source": [
        "모듈은 .py 로 끝나는 파이썬 소스파일 입니다.  \n",
        "IDLE 편집기로 소스파일을 만들고 함수를 넣어봅시다."
      ]
    },
    {
      "cell_type": "markdown",
      "metadata": {
        "id": "IMQtzmItocK-"
      },
      "source": [
        "함수들이 들어있는 파일을 sample_module.py 라고 저장하고 새로운 파일을 열어  \n",
        "import 합니다. 새로운 파일은 test.py 로 저장합니다."
      ]
    },
    {
      "cell_type": "markdown",
      "metadata": {
        "id": "XGkXMfCQo13z"
      },
      "source": [
        "- 전체 모듈 임포트 하기"
      ]
    },
    {
      "cell_type": "code",
      "execution_count": null,
      "metadata": {
        "id": "Gc9cmJUUos7v"
      },
      "outputs": [],
      "source": [
        "import sample_module"
      ]
    },
    {
      "cell_type": "markdown",
      "metadata": {
        "id": "Tlz54UkQo582"
      },
      "source": [
        "임포트한 모듈의 모든 함수를 사용할 수 있습니다.\n"
      ]
    },
    {
      "cell_type": "code",
      "execution_count": null,
      "metadata": {
        "id": "mSsKT5_ypEnF"
      },
      "outputs": [],
      "source": [
        "print(sample_module.mean(3, 10, 20))"
      ]
    },
    {
      "cell_type": "code",
      "execution_count": null,
      "metadata": {
        "id": "84DzVw02rFKS"
      },
      "outputs": [],
      "source": [
        "print(sample_module.total(1, 20, 3))"
      ]
    },
    {
      "cell_type": "markdown",
      "metadata": {
        "id": "ttVsLS-crPzk"
      },
      "source": [
        "이렇게 임포트하면 sample_module의 모든 함수가 현재 작업중인  \n",
        "test.py 파일로 카피됩니다 (실행 시)"
      ]
    },
    {
      "cell_type": "markdown",
      "metadata": {
        "id": "6ythQXO-rM9t"
      },
      "source": [
        "- 필요한 함수만 임포트 하기"
      ]
    },
    {
      "cell_type": "markdown",
      "metadata": {
        "id": "VCDTINGSri4h"
      },
      "source": [
        "모듈에서 사용할 함수만 선택해서 임포트 할수 있습니다."
      ]
    },
    {
      "cell_type": "code",
      "execution_count": null,
      "metadata": {
        "id": "C9-65xxurZQ6"
      },
      "outputs": [],
      "source": [
        "from sample_module import total\n",
        "\n",
        "print(total(20, 30, 40))"
      ]
    },
    {
      "cell_type": "markdown",
      "metadata": {
        "id": "f8Qrkh_jrpID"
      },
      "source": [
        "여러개의 함수를 선택해서 임포트 할 수 있습니다."
      ]
    },
    {
      "cell_type": "code",
      "execution_count": null,
      "metadata": {
        "id": "4URL9M90rslV"
      },
      "outputs": [],
      "source": [
        "from sample_module import total, plus_iga\n",
        "\n",
        "print(total(20, 30, 40))\n",
        "print(plus_iga('햄스터'))"
      ]
    },
    {
      "cell_type": "markdown",
      "metadata": {
        "id": "KzzLZvJRr-Qy"
      },
      "source": [
        "함수를 선택해서 임포트 하는 경우 모듈이름 없이 함수 이름만으로 호출 됩니다."
      ]
    },
    {
      "cell_type": "markdown",
      "metadata": {
        "id": "HOCpbdF2sO9O"
      },
      "source": [
        "- 모든 함수를 모듈이름없이 임포트하여 사용"
      ]
    },
    {
      "cell_type": "code",
      "execution_count": null,
      "metadata": {
        "id": "Dxx8D_TmsTQH"
      },
      "outputs": [],
      "source": [
        "from sample_module import *"
      ]
    },
    {
      "cell_type": "markdown",
      "metadata": {
        "id": "EryoAPPIsXaQ"
      },
      "source": [
        "모듈이름 없이 사용할 때에는 함수이름이 중복되지 않도록 주의"
      ]
    },
    {
      "cell_type": "code",
      "execution_count": null,
      "metadata": {
        "id": "O-Apztozsc0K"
      },
      "outputs": [],
      "source": [
        "from sample_module import *\n",
        "\n",
        "def mean(*args):\n",
        "    print('test.py 안에 있는 mean')\n",
        "\n",
        "print(mean(10, 20, 30))  # sample_modue 안에있는 함수 mean과 충돌"
      ]
    },
    {
      "cell_type": "markdown",
      "metadata": {
        "id": "UYd4693is3Tx"
      },
      "source": [
        "- as 로 별칭 붙이기  \n",
        "모듈이나 함수를 임포트 할때 이름을 줄여서 쓸수 있습니다."
      ]
    },
    {
      "cell_type": "markdown",
      "metadata": {
        "id": "2p6F4JL6tAtA"
      },
      "source": [
        "모듈이름 별칭 만들기"
      ]
    },
    {
      "cell_type": "code",
      "execution_count": null,
      "metadata": {
        "id": "dq5Jn5pbtCdx"
      },
      "outputs": [],
      "source": [
        "import sample_module as sm\n",
        "\n",
        "print(sm.total(1, 2, 3))"
      ]
    },
    {
      "cell_type": "markdown",
      "metadata": {
        "id": "A7ujEpIPtSp9"
      },
      "source": [
        "함수이름 별칭 만들기"
      ]
    },
    {
      "cell_type": "code",
      "execution_count": null,
      "metadata": {
        "id": "OtZv3QajtT98"
      },
      "outputs": [],
      "source": [
        "from sample_module import plus_iga as iga\n",
        "\n",
        "print(iga('철수'))"
      ]
    },
    {
      "cell_type": "markdown",
      "metadata": {
        "id": "BvFsOZNNs5tx"
      },
      "source": [
        "### 파이썬 내장 모듈 소개\n",
        "❗ 다시 코랩에서 실습"
      ]
    },
    {
      "cell_type": "markdown",
      "metadata": {
        "id": "GjAQ0ZMO1F_w"
      },
      "source": [
        "#### time 모듈  \n",
        "시간과 관련된 유용한 함수들을 제공합니다."
      ]
    },
    {
      "cell_type": "code",
      "execution_count": null,
      "metadata": {
        "ExecuteTime": {
          "end_time": "2023-10-22T01:25:20.662824Z",
          "start_time": "2023-10-22T01:25:20.653818Z"
        },
        "id": "J6BqH5Cnyzcw"
      },
      "outputs": [],
      "source": [
        "import time"
      ]
    },
    {
      "cell_type": "markdown",
      "metadata": {
        "id": "EUKlc6h155Zb"
      },
      "source": [
        "- localtime() 함수"
      ]
    },
    {
      "cell_type": "code",
      "execution_count": null,
      "metadata": {
        "ExecuteTime": {
          "end_time": "2023-10-22T01:05:25.462575Z",
          "start_time": "2023-10-22T01:05:25.443598Z"
        },
        "colab": {
          "base_uri": "https://localhost:8080/"
        },
        "id": "q1bUPTUY1oml",
        "outputId": "e40139f9-2c51-401d-ac6c-00a5bb7fbaf4"
      },
      "outputs": [
        {
          "data": {
            "text/plain": [
              "time.struct_time(tm_year=2023, tm_mon=10, tm_mday=22, tm_hour=10, tm_min=5, tm_sec=25, tm_wday=6, tm_yday=295, tm_isdst=0)"
            ]
          },
          "execution_count": 18,
          "metadata": {},
          "output_type": "execute_result"
        }
      ],
      "source": [
        "tm = time.localtime()\n",
        "tm"
      ]
    },
    {
      "cell_type": "markdown",
      "metadata": {
        "id": "1WQq_OX0LsmP"
      },
      "source": [
        "- ctime() 함수"
      ]
    },
    {
      "cell_type": "code",
      "execution_count": null,
      "metadata": {
        "ExecuteTime": {
          "end_time": "2023-10-22T01:05:18.750969Z",
          "start_time": "2023-10-22T01:05:18.738004Z"
        },
        "colab": {
          "base_uri": "https://localhost:8080/",
          "height": 35
        },
        "id": "auFrq6NTLvgR",
        "outputId": "9c129cb9-9d59-490a-af17-4a56ed62bfe4"
      },
      "outputs": [
        {
          "data": {
            "text/plain": [
              "'Sun Oct 22 10:05:18 2023'"
            ]
          },
          "execution_count": 16,
          "metadata": {},
          "output_type": "execute_result"
        }
      ],
      "source": [
        "ct = time.ctime()\n",
        "ct"
      ]
    },
    {
      "cell_type": "markdown",
      "metadata": {
        "id": "wIWl0voD7BEA"
      },
      "source": [
        "#### ⚡ strftime(format, time_struct) 함수 - string from time  \n",
        "format 형식 :\n",
        "https://www.ibm.com/docs/ko/i/7.3?topic=functions-strftime-convert-datetime-string"
      ]
    },
    {
      "cell_type": "code",
      "execution_count": null,
      "metadata": {
        "ExecuteTime": {
          "end_time": "2023-10-22T01:05:28.387582Z",
          "start_time": "2023-10-22T01:05:28.377574Z"
        },
        "colab": {
          "base_uri": "https://localhost:8080/",
          "height": 35
        },
        "id": "CUpar0sP57qN",
        "outputId": "40ad3cca-1477-457b-efee-e405353d5370"
      },
      "outputs": [
        {
          "data": {
            "text/plain": [
              "'2023-10-22 10:05:25'"
            ]
          },
          "execution_count": 19,
          "metadata": {},
          "output_type": "execute_result"
        }
      ],
      "source": [
        "time.strftime('%Y-%m-%d %H:%M:%S', tm)"
      ]
    },
    {
      "cell_type": "markdown",
      "metadata": {
        "id": "C4Ferww-7kNz"
      },
      "source": [
        "- time() 함수 - timestamp"
      ]
    },
    {
      "cell_type": "code",
      "execution_count": null,
      "metadata": {
        "colab": {
          "base_uri": "https://localhost:8080/"
        },
        "id": "k4TKR-3P7fg1",
        "outputId": "810709ba-f02b-48b3-d213-be7d3f6c77d2"
      },
      "outputs": [
        {
          "data": {
            "text/plain": [
              "1697903436.761967"
            ]
          },
          "execution_count": 183,
          "metadata": {},
          "output_type": "execute_result"
        }
      ],
      "source": [
        "time.time()"
      ]
    },
    {
      "cell_type": "markdown",
      "metadata": {
        "id": "cHBT90AT5zQB"
      },
      "source": [
        "- sleep() 함수"
      ]
    },
    {
      "cell_type": "code",
      "execution_count": null,
      "metadata": {
        "id": "9fGmSFd11bPU"
      },
      "outputs": [],
      "source": [
        "time.sleep(5)"
      ]
    },
    {
      "cell_type": "code",
      "execution_count": null,
      "metadata": {
        "ExecuteTime": {
          "end_time": "2023-10-22T00:52:58.592179Z",
          "start_time": "2023-10-22T00:52:53.531869Z"
        },
        "id": "-bc8EsovKxO_",
        "outputId": "3abda1a4-59af-40cc-f335-4a507a937256"
      },
      "outputs": [
        {
          "name": "stdout",
          "output_type": "stream",
          "text": [
            "5"
          ]
        }
      ],
      "source": [
        "sec = 1\n",
        "while sec<6:\n",
        "    print(f'\\r{sec}', end='')\n",
        "    time.sleep(1)\n",
        "    sec = sec + 1"
      ]
    },
    {
      "cell_type": "markdown",
      "metadata": {
        "id": "l6Ae6lPcMEfP"
      },
      "source": [
        "- 시간차 (time elapse) 구하기"
      ]
    },
    {
      "cell_type": "code",
      "execution_count": null,
      "metadata": {
        "ExecuteTime": {
          "end_time": "2023-10-22T01:28:12.405728Z",
          "start_time": "2023-10-22T01:28:11.549986Z"
        },
        "colab": {
          "base_uri": "https://localhost:8080/"
        },
        "id": "N9rCltME7mLd",
        "outputId": "b5228dcb-bf5e-4eeb-978c-c047dbbb1838"
      },
      "outputs": [
        {
          "name": "stdout",
          "output_type": "stream",
          "text": [
            "0.85 49999995000000\n"
          ]
        }
      ],
      "source": [
        "start = time.time()\n",
        "n = 0\n",
        "for t in range(1, 1000_0000):\n",
        "    n = n + t\n",
        "end = time.time()\n",
        "print(round(end - start, 3), n)"
      ]
    },
    {
      "cell_type": "markdown",
      "metadata": {
        "id": "MBz5GGulMI74"
      },
      "source": [
        "- colap 환경에서 시간차 쉽게 구하는법"
      ]
    },
    {
      "cell_type": "code",
      "execution_count": null,
      "metadata": {
        "colab": {
          "base_uri": "https://localhost:8080/"
        },
        "id": "Pkx8A-kW8G5V",
        "outputId": "7b5e00f6-4fe0-4aa3-a43d-a5a5fd60417c"
      },
      "outputs": [
        {
          "name": "stdout",
          "output_type": "stream",
          "text": [
            "CPU times: user 1.5 s, sys: 0 ns, total: 1.5 s\n",
            "Wall time: 1.52 s\n"
          ]
        }
      ],
      "source": [
        "%%time\n",
        "n = 0\n",
        "for t in range(1, 1000_0000):\n",
        "    n = n + 1"
      ]
    },
    {
      "cell_type": "markdown",
      "metadata": {
        "ExecuteTime": {
          "end_time": "2023-10-22T01:21:17.990215Z",
          "start_time": "2023-10-22T01:21:17.976223Z"
        },
        "id": "FCDX-MfJKxPA"
      },
      "source": [
        "- colap에서 시간 성능 테스트"
      ]
    },
    {
      "cell_type": "code",
      "execution_count": null,
      "metadata": {
        "colab": {
          "base_uri": "https://localhost:8080/"
        },
        "id": "iLcmj15_8Rck",
        "outputId": "12389487-1a94-49a6-bf95-d97e75417283"
      },
      "outputs": [
        {
          "name": "stdout",
          "output_type": "stream",
          "text": [
            "612 ms ± 6.44 ms per loop (mean ± std. dev. of 7 runs, 1 loop each)\n"
          ]
        }
      ],
      "source": [
        "%%timeit\n",
        "n = 0\n",
        "for t in range(1, 1000_0000):\n",
        "    n = n + 1"
      ]
    }
  ],
  "metadata": {
    "celltoolbar": "Slideshow",
    "colab": {
      "provenance": [],
      "toc_visible": true,
      "include_colab_link": true
    },
    "hide_input": false,
    "kernelspec": {
      "display_name": "Python 3 (ipykernel)",
      "language": "python",
      "name": "python3"
    },
    "language_info": {
      "codemirror_mode": {
        "name": "ipython",
        "version": 3
      },
      "file_extension": ".py",
      "mimetype": "text/x-python",
      "name": "python",
      "nbconvert_exporter": "python",
      "pygments_lexer": "ipython3",
      "version": "3.10.5"
    }
  },
  "nbformat": 4,
  "nbformat_minor": 0
}