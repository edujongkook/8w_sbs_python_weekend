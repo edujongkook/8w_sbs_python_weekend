{
  "nbformat": 4,
  "nbformat_minor": 0,
  "metadata": {
    "colab": {
      "provenance": [],
      "authorship_tag": "ABX9TyO6W1yfT9h1d2xbWtF4bNQJ",
      "include_colab_link": true
    },
    "kernelspec": {
      "name": "python3",
      "display_name": "Python 3"
    },
    "language_info": {
      "name": "python"
    }
  },
  "cells": [
    {
      "cell_type": "markdown",
      "metadata": {
        "id": "view-in-github",
        "colab_type": "text"
      },
      "source": [
        "<a href=\"https://colab.research.google.com/github/edujongkook/8w_sbs_python_weekend/blob/main/%EC%BF%A0%ED%8C%A1_%EC%85%80%EB%A0%88%EB%8B%88%EC%9B%80_%EC%98%B5%EC%85%98.ipynb\" target=\"_parent\"><img src=\"https://colab.research.google.com/assets/colab-badge.svg\" alt=\"Open In Colab\"/></a>"
      ]
    },
    {
      "cell_type": "code",
      "execution_count": null,
      "metadata": {
        "id": "cg2a-tB6FEYe"
      },
      "outputs": [],
      "source": [
        "from selenium import webdriver\n",
        "from selenium.webdriver.common.keys import Keys\n",
        "from selenium.webdriver.common.by import By\n",
        "from selenium.webdriver.chrome.options import Options\n",
        "\n",
        "options = Options()\n",
        "options.add_experimental_option('excludeSwitches', ['enable-logging'])\n",
        "\n",
        "driver = webdriver.Chrome(options=options)\n",
        "driver.execute_cdp_cmd(\"Page.addScriptToEvaluateOnNewDocument\",\n",
        "                       {\"source\": \"\"\" Object.defineProperty(navigator, 'webdriver', { get: () => undefined }) \"\"\"})\n",
        "\n",
        "url = 'https://www.coupang.com'\n",
        "driver.get(url)\n",
        "driver.implicitly_wait(3)"
      ]
    }
  ]
}