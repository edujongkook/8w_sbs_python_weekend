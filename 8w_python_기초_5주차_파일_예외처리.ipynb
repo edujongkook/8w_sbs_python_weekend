{
  "cells": [
    {
      "cell_type": "markdown",
      "metadata": {
        "id": "view-in-github",
        "colab_type": "text"
      },
      "source": [
        "<a href=\"https://colab.research.google.com/github/edujongkook/8w_sbs_python_weekend/blob/main/8w_python_%EA%B8%B0%EC%B4%88_5%EC%A3%BC%EC%B0%A8_%ED%8C%8C%EC%9D%BC_%EC%98%88%EC%99%B8%EC%B2%98%EB%A6%AC.ipynb\" target=\"_parent\"><img src=\"https://colab.research.google.com/assets/colab-badge.svg\" alt=\"Open In Colab\"/></a>"
      ]
    },
    {
      "cell_type": "markdown",
      "metadata": {
        "id": "eMa8ZX-KImB8"
      },
      "source": [
        "## 5주차 강의 내용\n",
        "- 주요내용 복습\n",
        "- 파일 입출력\n",
        "- 예외처리\n"
      ]
    },
    {
      "cell_type": "markdown",
      "metadata": {
        "id": "8bQffX56Ovgq"
      },
      "source": [
        "# 주요내용 복습"
      ]
    },
    {
      "cell_type": "markdown",
      "metadata": {
        "id": "L6yVycGtevfq"
      },
      "source": [
        "- 컬렉션 (리스트, 딕셔너리)"
      ]
    },
    {
      "cell_type": "code",
      "execution_count": null,
      "metadata": {
        "id": "14NKW_QkqKS5"
      },
      "outputs": [],
      "source": [
        "list_sample = [1, 2, 3, 4, 5]\n",
        "dict_sample = {'apple' : '사과', 'cola' : 1500}"
      ]
    },
    {
      "cell_type": "code",
      "execution_count": null,
      "metadata": {
        "id": "wFAXXfzXvEVk"
      },
      "outputs": [],
      "source": [
        "for num in list_sample:\n",
        "    print(num)"
      ]
    },
    {
      "cell_type": "code",
      "execution_count": null,
      "metadata": {
        "id": "4grQF_6YvKbz"
      },
      "outputs": [],
      "source": [
        "for key, value in dict_sample.items():\n",
        "    print(key, value)"
      ]
    },
    {
      "cell_type": "markdown",
      "metadata": {
        "id": "fX6L4Ja_4K_D"
      },
      "source": [
        "- 제어문 (조건문, 반복문)\n"
      ]
    },
    {
      "cell_type": "code",
      "execution_count": null,
      "metadata": {
        "id": "x_vm5rQTj1iZ"
      },
      "outputs": [],
      "source": [
        "import time\n",
        "def count_down(number):\n",
        "    while True:\n",
        "        if number == 0:\n",
        "            print('time over')\n",
        "            break\n",
        "        print(f'{number}초')\n",
        "        time.sleep(1)\n",
        "        number -= 1"
      ]
    },
    {
      "cell_type": "code",
      "execution_count": null,
      "metadata": {
        "id": "Nrl9fmAbk4os"
      },
      "outputs": [],
      "source": [
        "count_down(5)"
      ]
    },
    {
      "cell_type": "markdown",
      "metadata": {
        "id": "Hw74QOXP4Cm3"
      },
      "source": [
        "- 함수와 객체"
      ]
    },
    {
      "cell_type": "code",
      "execution_count": null,
      "metadata": {
        "id": "YD87cNRx081L"
      },
      "outputs": [],
      "source": [
        "class timer:\n",
        "    def __init__(self, sec_unit='초'):\n",
        "        self.unit = sec_unit\n",
        "\n",
        "    def count_down(self, number):\n",
        "        while True:\n",
        "            if number == 0:\n",
        "                print('time over')\n",
        "                break\n",
        "            print(f'{number}{self.unit}')\n",
        "            time.sleep(1)\n",
        "            number -= 1"
      ]
    },
    {
      "cell_type": "code",
      "execution_count": null,
      "metadata": {
        "id": "xE6fBfsO2ZrK"
      },
      "outputs": [],
      "source": [
        "my_timer = timer()\n",
        "my_timer.count_down(5)"
      ]
    },
    {
      "cell_type": "markdown",
      "metadata": {
        "id": "FSi4ZDm7KewU"
      },
      "source": [
        "### ⚡ 클래스의 접근제한자  \n",
        "\n",
        "https://www.tutorialsteacher.com/python/public-private-protected-modifiers"
      ]
    },
    {
      "cell_type": "code",
      "execution_count": null,
      "metadata": {
        "id": "RPGVKLiVdZtY"
      },
      "outputs": [],
      "source": [
        "class Candy:\n",
        "\n",
        "    def __init__(self, shape, color, price):\n",
        "        self.shape = shape  # public\n",
        "        self._color = color  # 이름앞에 언더바 \"_\" 하나 - 클래스 내부 및 이 클래스의 서브클래스만 접근\n",
        "        self.__price = price  # 이름앞에 언더바 \"__\" 두개 - 오직 이 클래스 내부에서만 접근\n",
        "\n",
        "    @property\n",
        "    def price(self):\n",
        "        return self.__price\n",
        "\n",
        "    @price.setter\n",
        "    def price(self, price):\n",
        "        self.__price = price\n"
      ]
    },
    {
      "cell_type": "code",
      "execution_count": null,
      "metadata": {
        "id": "3m76-nf-i8Sy"
      },
      "outputs": [],
      "source": [
        "candy = Candy('circle', 'brown', 1000)\n",
        "candy._color  # 클래스의 protected 속성\n",
        "candy.price  # 클래스의 private 속성"
      ]
    },
    {
      "cell_type": "code",
      "execution_count": null,
      "metadata": {
        "id": "5CXQy35hjAnz"
      },
      "outputs": [],
      "source": [
        "candy.__dict__  # 인스턴스의 변수들의 키와 값을 딕셔너리로 반환"
      ]
    },
    {
      "cell_type": "markdown",
      "metadata": {
        "id": "08BtK7Ukf8Tv"
      },
      "source": [
        "# 파일 입출력 -p226"
      ]
    },
    {
      "cell_type": "markdown",
      "metadata": {
        "id": "AlvVIfEKcJXy"
      },
      "source": [
        "IDLE 을 이용해서 text_read.py 파일을 생성합니다."
      ]
    },
    {
      "cell_type": "markdown",
      "metadata": {
        "id": "4OcF8Xfnc2zc"
      },
      "source": [
        "## open() - 파일 열기"
      ]
    },
    {
      "cell_type": "code",
      "execution_count": null,
      "metadata": {
        "id": "5n5Cbv-zf-ee"
      },
      "outputs": [],
      "source": [
        "file_object = open('sample.txt', 'wt')  # 파일 열기 open('파일경로', '모드')\n",
        "file_object.write('텍스트 파일 샘플입니다.\\n')\n",
        "file_object.close()  # 파일 닫기"
      ]
    },
    {
      "cell_type": "markdown",
      "metadata": {
        "id": "LYKPeLRXjH8e"
      },
      "source": [
        "1. 모드의 첫번째 옵션"
      ]
    },
    {
      "cell_type": "markdown",
      "metadata": {
        "id": "SJVIJdd-nSKO"
      },
      "source": [
        "|분류|종류|의미|설명|파일이 없을때|파일이 있을때|\n",
        "|------|:---------:|------------|------|-----|-----|\n",
        "|입력|r|read|읽기|오류 발생|읽기|\n",
        "|출력|w|write|쓰기|새로 생성|새로 생성|\n",
        "|출력|a|append|추가|새로 생성|추가|\n",
        "|출력|x|exclusive|배타적 추가|새로 생성|오류 발생\n",
        "\n",
        "\n"
      ]
    },
    {
      "cell_type": "markdown",
      "metadata": {
        "id": "GN9e5cikjK-i"
      },
      "source": [
        "2. 모드의 두번째 옵션"
      ]
    },
    {
      "cell_type": "markdown",
      "metadata": {
        "id": "5-Pt_dx7iqfz"
      },
      "source": [
        "|종류|의미|설명|\n",
        "|:------:|---------|------------|\n",
        "|t|text|텍스트파일|\n",
        "|b|binary|바이너리 파일(텍스트 파일 외의 모든 파일)|\n",
        "\n",
        "\n",
        "\n"
      ]
    },
    {
      "cell_type": "markdown",
      "metadata": {
        "id": "E9Iln1KPxz-f"
      },
      "source": [
        "- 모드의 디폴트는 rt - read text"
      ]
    },
    {
      "cell_type": "markdown",
      "metadata": {
        "id": "IvH04YdQjd2f"
      },
      "source": [
        "#### with 문"
      ]
    },
    {
      "cell_type": "code",
      "execution_count": null,
      "metadata": {
        "id": "_whugyL6jfZA"
      },
      "outputs": [],
      "source": [
        "with open('sample.txt', 'wt') as file_object:\n",
        "    file_object.write('with 모드를 사용한 파일 쓰기\\n')"
      ]
    },
    {
      "cell_type": "markdown",
      "metadata": {
        "id": "2wLk6tOxsPhF"
      },
      "source": [
        "## 파일 읽기"
      ]
    },
    {
      "cell_type": "markdown",
      "metadata": {
        "id": "qzJJBxGUZIRX"
      },
      "source": [
        "## read() - 파일 전체 읽기  \n",
        "sample.txt 파일 마지막에 엔터로 한줄 추가"
      ]
    },
    {
      "cell_type": "code",
      "execution_count": null,
      "metadata": {
        "id": "U1fy0fpwZg4E"
      },
      "outputs": [],
      "source": [
        "with open('sample.txt') as f:\n",
        "    text = f.read()\n",
        "print(text)"
      ]
    },
    {
      "cell_type": "markdown",
      "metadata": {
        "id": "JgKOlfUQZ_Nc"
      },
      "source": [
        "###  strip() - 공백을 제거  \n",
        "문자열의 공백을 제거하는 string 객체의 메서드"
      ]
    },
    {
      "cell_type": "code",
      "execution_count": null,
      "metadata": {
        "id": "2Q3CNlwZaFOP"
      },
      "outputs": [],
      "source": [
        "text= text.rstrip()\n",
        "print(text)"
      ]
    },
    {
      "cell_type": "markdown",
      "metadata": {
        "id": "V96gr-m_aNpy"
      },
      "source": [
        "- rstrip() 문자열 오른쪽의 공백을 제거합니다.\n",
        "- lstrip() 문자열 왼쪽의 공백 제거.\n",
        "- strip() 문자열에서 공백을 전부 제거."
      ]
    },
    {
      "cell_type": "code",
      "execution_count": null,
      "metadata": {
        "id": "UK_fsdXvaZDC"
      },
      "outputs": [],
      "source": [
        "sample = '    좌우 공백 텍스트     '\n",
        "\n",
        "print(sample.strip())"
      ]
    },
    {
      "cell_type": "markdown",
      "metadata": {
        "id": "bzvna7l7a3k-"
      },
      "source": [
        "- 안쪽의 빈칸은 어떻게 제거?"
      ]
    },
    {
      "cell_type": "markdown",
      "metadata": {
        "id": "oMdsVRCGa6Ll"
      },
      "source": [
        "### replace() - 문자열 교체 메서드  \n",
        "replace(교체 대상 문자열, 새로교체할 문자열)"
      ]
    },
    {
      "cell_type": "code",
      "execution_count": null,
      "metadata": {
        "id": "mlKQf3xMa3Hl"
      },
      "outputs": [],
      "source": [
        "sample = '    좌우 공백 텍스트     '\n",
        "print(sample.replace(' ', ''))"
      ]
    },
    {
      "cell_type": "markdown",
      "metadata": {
        "id": "kNe7iwkfb1Ik"
      },
      "source": [
        "## 파일의 경로"
      ]
    },
    {
      "cell_type": "markdown",
      "metadata": {
        "id": "eBWeskqBb5_1"
      },
      "source": [
        "### - 절대 경로\n",
        "윈도우의 경우 \\ 을 이용해서 경로를 표시하지만 파이썬에서는 / (슬래시) 사용"
      ]
    },
    {
      "cell_type": "code",
      "execution_count": null,
      "metadata": {
        "id": "j7vcVmJfcT1e"
      },
      "outputs": [],
      "source": [
        "C:\\Users\\origener\\Desktop\\python예제  # 윈도우의 경우"
      ]
    },
    {
      "cell_type": "code",
      "execution_count": null,
      "metadata": {
        "id": "f-xHYW42cfGB"
      },
      "outputs": [],
      "source": [
        "C:/Users/origener/Desktop/python예제/sample.txt\n"
      ]
    },
    {
      "cell_type": "code",
      "execution_count": null,
      "metadata": {
        "id": "U7KA8bCdc_gz"
      },
      "outputs": [],
      "source": [
        "with open('C:/Users/origener/Desktop/python예제/sample.txt') as f:\n",
        "    text = f.read()\n",
        "\n",
        "text= text.rstrip()\n",
        "print(text)"
      ]
    },
    {
      "cell_type": "code",
      "execution_count": null,
      "metadata": {
        "ExecuteTime": {
          "end_time": "2023-11-04T01:06:56.095378Z",
          "start_time": "2023-11-04T01:06:56.075432Z"
        },
        "collapsed": true,
        "id": "n2eaCWerk9s6"
      },
      "outputs": [],
      "source": [
        "- 윈도우의 경로스타일을 사용하려면 escape문자 '\\\\' 로 '\\' 를 사용"
      ]
    },
    {
      "cell_type": "code",
      "execution_count": null,
      "metadata": {
        "id": "iEgM6U6uc1Gt"
      },
      "outputs": [],
      "source": [
        "C:\\\\Users\\\\origener\\\\Desktop\\\\python예제\\\\sample.txt"
      ]
    },
    {
      "cell_type": "code",
      "execution_count": null,
      "metadata": {
        "id": "prQZIDP-dAHb"
      },
      "outputs": [],
      "source": [
        "with open('C:\\\\Users\\\\origener\\\\Desktop\\\\python예제\\\\sample.txt') as f:\n",
        "    text = f.read()\n",
        "\n",
        "text= text.rstrip()\n",
        "print(text)"
      ]
    },
    {
      "cell_type": "markdown",
      "metadata": {
        "id": "NoHYSEBbcrXR"
      },
      "source": [
        "### - 상대 경로"
      ]
    },
    {
      "cell_type": "markdown",
      "metadata": {
        "id": "obawhPBTdWhP"
      },
      "source": [
        "파일명만 작성하는 경우 같은 폴더내에서 찾습니다."
      ]
    },
    {
      "cell_type": "code",
      "execution_count": null,
      "metadata": {
        "id": "S_TkNDpUcq_8"
      },
      "outputs": [],
      "source": [
        "with open('sample.txt') as f:\n",
        "    text = f.read()"
      ]
    },
    {
      "cell_type": "markdown",
      "metadata": {
        "id": "LbOga_aBdarI"
      },
      "source": [
        "만약 sample.txt 파일이 files 라는 폴더 안에 있다면"
      ]
    },
    {
      "cell_type": "markdown",
      "metadata": {
        "id": "pZTM_wVbexTR"
      },
      "source": [
        "![image.png](data:image/png;base64,iVBORw0KGgoAAAANSUhEUgAAAG0AAAA2CAYAAADNsRdiAAAFsUlEQVR4Ae2cz4/bRBTH/S/l6nt/0F1UcQp3JB965pQbQvwSCNIKUbUGgeB/8CG3UkpbunT5cajCnpB2k2yyZVs4gvpFb2aePR7bY0/WSe3urJTOxvPDz9/PvDdv3GkD+J/eKRD0zmJvMDy0Hk4CD81D66ECPTTZ2dP+/vV1PP9lF8/3d/GMPo93cfrzjvzs7eCvR1fE5+lPV/Dst2s9lKT7JjtDI2BYfQesvgVW3wDLr4HlV8DyS+D4NnB8C1jcBBZf4OTha91XoIcWukPbJ2j1wLD4HCcPtgEtQRRESDYgfhIFCIIAQTjGgRr/YBwiSgAu5eUDjEPVltqrD7WjMYrtz2asMzQKiXUeRsAwv4HVRqCRQCHGrCI2BC2JEJDa9JNECNUNGRaXpvxJpNvWFWiPd60hkYFhfh2r+5fNZ2rh+3agsYdIg/OeZPOcTkKjpKNqDdOBYf4Zlj/WQUsQhWMk4zANKTyj86KB4hHCMEKkhyERtqSnjbUx2EGE4NTPCFkShL1fXvxsorCHcZmfhRIuQ9XDZHn7fO+m35zDo4RWTDpMYJh92gxaEKShByLUqfCihyfBTK4lQCZgJr42hoDEaxyB0cKVqOPvVFfVj8Iat6O7ZPdk8bnMCa0mCE88quPJV9o+17n5F3doezuFLLEMGGafYHnvUo0lcrbrSQQ9nHxovY5EYxCZgHJwvR1d0eoN8KJWJRJygvCYRj9NbHkPGjOfYJRBkIB0WzsCjfZhelpfBezF4Qc4/uESXvz7j3zu0j9leExzCuVRPFN5lorQmMY8DYoY0w6Nx+Lbl08KqjXG1YE3SUSM9pzE8DOUQWabXEtnTxPQ1D6sChhmH+N0702cPLiK09/ftthkCp7NTNFJCZF/YEPcQvao1etCKiuyscx7a/1UWxK8UcqfC8myM/WlCdMJaPSmgzbONmA4+kh42X9/viNKpUFJQcJVrys8+ykB0UMoC6HkMfZpuvg0vrY25cSth1ZicLo/y+CXtcqusa1N22c9q39z9rSn9JZD7cMoracskZIOWsPIwwgYjj7E4u7FrKy8vwyPY57RusCqDz2sGeJo35R5QI34KjmQmZwG0OahlfZmm+qmEDoBTbyamt+ADRgO38fi+4tIy0oRimtavqnuNfmal/WNYXFZZ0c3oNFbDouHESgcvoe5gKbKyiergUZeor1CqhzmnFU4h0fxaqoiJDIwHL6L+R3yNFVWiloNjWZoUBIuK4c6RxXu0O5fFptmettB+zBK6+lDaxiFRPIwAja7c0GUi3tvnCM5t/OoztC2Y5a/i00BD82mTkfrPLSOgrGZ5aHZ1OloXTCdTuE//dLAQ+vhpPXQPLR+hZm+Lgute5rLucjjR2/59XQNT28dmuu5yL7O9pdpd/vQHM9F1j98jKE4mDNEnJuVdN28dj7Cc+vQXM9F1kGbjAYYjCYyjE5GGAQDjCYEx0NrbW2hs/22o+L6X6DSucgm0IZxmQd5aLXi1YnL9a7nIrlfWRkPsxNQwWCESc67DGjCC1X7YZw+TzqG6F8Gv3/XWg+Pruciy2Dp1yg8Zp6mgzJ/57A5BYESfeIhAgY4iRGLsNo/SLoe9Hv70BzPRZoGmd8bQdPhULISD+U6aF7PJTL9hdc6NNdzkX882U9DmQmMvjeBRm34CHZaKg/jujSZeQXAbQaaw7nIo4fXzgwt9SwLkDRkWtqUTZouXmsd2jrnIm3CNPG0qUhCtD1bPBLbgslolO7taJxXxdvah7bGucgzQyPvofWL/3UMJx8i21QZpc8eqxfxdc5F2qD5uqLWrXua+Ce7juciPZgiGJsmrUNb51ykzUBfVwTaPjTHc5Gzu1et2aOHtgVoXuSiyG1r0rqntW2gH684CTy0Hm62PbQ+QuvoeUxvlkUBf8LYIk5Xqzy0rpKx2OWhWcTpapUzNJdzjf7/e9wM9v8BFiHdQnZtFKkAAAAASUVORK5CYII=)"
      ]
    },
    {
      "cell_type": "code",
      "execution_count": null,
      "metadata": {
        "id": "30XuuLnYdSkt"
      },
      "outputs": [],
      "source": [
        "with open('files/sample.txt') as f:\n",
        "    text = f.read()"
      ]
    },
    {
      "cell_type": "markdown",
      "metadata": {
        "id": "uOHaBCPjd5be"
      },
      "source": [
        "**.** <- 상대 경로로 현재 폴더를 의미"
      ]
    },
    {
      "cell_type": "code",
      "execution_count": null,
      "metadata": {
        "id": "LpAK528ieD3q"
      },
      "outputs": [],
      "source": [
        "with open('./files/sample.txt') as f:\n",
        "    text = f.read()"
      ]
    },
    {
      "cell_type": "markdown",
      "metadata": {
        "id": "fOd01LsPeHd6"
      },
      "source": [
        ".. <- 바로 위의 상위폴더를 의미"
      ]
    },
    {
      "cell_type": "markdown",
      "metadata": {
        "id": "HEVfVAute_Eu"
      },
      "source": [
        "소스코드는 code 폴더에 txt파일은 files 폴더에 있는 경우"
      ]
    },
    {
      "cell_type": "markdown",
      "metadata": {
        "id": "LrjSND6tfJxX"
      },
      "source": [
        "![image.png](data:image/png;base64,iVBORw0KGgoAAAANSUhEUgAAAJ4AAABLCAYAAACBdj7nAAAHvUlEQVR4Ae2cS48jNRCA+y/lmjv7mkErTuGOlMOeOeWGEC+BoEEIBAGB4D/kkNuyLDvDLjs8DijkhDSPzANmF46gLVR2V7f74U67qX64p0aKnInddrnq6yrb6UoA8ica6EADwWq1AnmJDtpmQMCTG68TxyPgCXgCXtvuXsbrbonh7PH++ul5ePrjLjw92IUn+Hq8C5c/7OjXox348+Et9frj+1tw+vClTu4mAao7oKrq3hk8hA7OvwY4/wrg/EuAsy8Azj4HOPsM4PRTgNNPADYfA2w+gov9mwKehPJCBtzBO0DwtkMHmw/hYq8N8OYwCSYwb8DA80kAQRBAMJrBMup/ORvBZL4CKvUdvoTZKGqL7aMXtsM+8u3775Gqeq667ZzBw/C6zdMhdHDyAZw3Ah4aeQSzJRmvIfDmEwgmc323zicwmi3VewKOyqzi5xNTNgEvqx/63x28x7ul4ZWgg5P34fzBjUI3S4PXK9sBjzyVljHt0co8mIBHDqG8dAYPNxK2NZ0JHZy8B2ffbQNvDpPRDOazURyeyLOkDb+C1XIGo9EEJmZIUyFQe7yZ0QeCEUON12XCn64rvy4NUAI7eToq43FUKNaAEphmyC1ub8jZwFIhLVu/xqoJXn4jkYUOjt+tBl4QxGFstUIYolBlhrqVuaZKIEgAMvpQoNGaz+gPDavqKBRine06DJHUDg2WjEkAUZkybgQ53TxYRzdQYfsrBpupK3fwHu3kdq9F0MHxO3B2/3rieQqVrL2OuTFAA2nDmXVoeIIpgSABj+rSkKwy8GL7BACz/8x1BjB6DBwzvWlI+kk8iYbMlFXAM2Ez3zuDh+d05pGJDbpnh2/A6bfX4bdfD0rg06GWdowEBnkM8hbKU9FC3/A+eiIlABmbApp0Mdh58FLQGv0QcFRSv9n2tDGhOeTaF96ICcRxvwNtVw+86JzOBh0cvw2Xj16Ei73bcLR/pxy8zFEIGUopPvJYaaO14/FwfJSl0nFKKrxrePBavIFoPuk5XB3AbDeQM3j4jQQeDpdBB0dvKW/37++vqNI2uF7T2ddZtLbCTYUZjsmYut8Sj2euGdFzpAApu84OBgFEpX1uCYC02Uhtegbqybbpg+rdwdu/uRU6OHoTNveuAZU0WL7UoXZGnoU2FoZR0MAUeuPr0RPGB7tbAIoW/HqHaW4YtlxnyBCPa6wRBTz7zWnqy/beGTz8GgwPh/GcDo9McPeKGwkMr+jpEDY4fB0231yLS9vgyuMZ3wrk22XD6v+bbL5/9/4IOCq39UneuWr7bf0Npd4dvD0Erxw6OHwNThR4urQrK7+5SLVFb1UKpjs4qf4tXk3aNK9XZ/Dwa7AyT4fQweGrcHIXPZ4u7Ya0g4eeIigIvfa+mleWjM2nY3fwHtxQB8P4rQSe0+GRCb5wTYfhFT0dQnd89zld3rtdsqvlm4hA4ZcuncETA/tl4L7aS8CTdV4nEUnAE/AEvL6GBZGLf3kRdJDLK0OKBkDAEwg60YCA14naZVABTxjoRAPs4Lnk3T75+U4nk5ZBu9cAO3iuebfdq0Ak6EID/OA55t02P+k1hOMxhOvmR5IRqmuAHTzXvNvqotZtKeDV1VyT1/GD55h32+TkdN8CXvM6dh+BHTzXvNvtIiM4lOE1hQVdsA5hbOTLTuMKADDrpmE61KbqzIuoYynb0EBD4FXPuy2fpIZuTAu0dQihYmUB08BYtymY6P9M3WIKQdw2XbeYBpACtlwYqWXUAD94jnm3pXNBoMYh5PYFCFOGmHU41hDl6oxQm61bTCGGulQQqeTWADt4rnm3z/752z6nLCjUsgAYBE9BlKtLwMM29LMScZkBmIaQslkNNAOeQ97t5S8v22eIHq8IjAIg7R7PCK85KO1DS02zGmAHr07erX2Keo0Xs1e6xqONhwGa2megl4vWf2otSO0AYBHK+Z5d+Y3W8INXI++2fIYIUrSrNdd7CiLa7dLGIuoJPWJ0zThcpHe1Rl12nVguh9RyaoAdvDp5t5wTkr780AA/eDXybv1QlUjJqQF28Ork3XJOSPryQwP84Dnm3W7uv+CHpkRKVg2wg8cqnXQ2WA0IeIM1bb8nJuD12z6DlU7AG6xp+z0xAa/f9hmsdALeYE3b74kJeP22z2ClE/AGa9p+T4wdPMmr7bfB+yIdO3iSV9sX0/ZbDn7w2PNq6bEo4zk6pVP8PPtZv5Ut0iUaYAePO682fqQdZVbP4NGzdwJeYkb/3vGDx5xXGz/SntOtgJdTiUcfsIPHmVeL6Yf0JHGgnj42YTPfkzeM2sfPygPEfZhPL3tkoKGK2hB4XHm1GF2jtEVlARO27HsKwRo2xZ6ZFLRewCKXJzlUs/Z/XvzgcebVRsk6iQPLwhZtLkzAUOeUTZb9vP/2uDISsoPHmldbETz0inFIpsSgiFaqk8TtfjHdDHhcebUVwYs9XIlu5ecqSpTTQRU7eLx5tRXXeJZ82XUYxj/yg55PvF4HhFmG5AePOa+22uZCr+vicBsvCnFNWJCTa1GGfNyeBtjBk7za9ozn80j84Elerc88tCY7O3iSV9ua7bweiB88yav1Goi2hGcHry3BZRy/NSDg+W0/b6UX8Lw1nd+CC3h+289b6QU8b03nt+ACnt/281b6/wCrOaBNW9Nt9wAAAABJRU5ErkJggg==)"
      ]
    },
    {
      "cell_type": "code",
      "execution_count": null,
      "metadata": {
        "id": "lPMSesaBeDwl"
      },
      "outputs": [],
      "source": [
        "with open('../files/sample.txt') as f:\n",
        "    text = f.read()"
      ]
    },
    {
      "cell_type": "markdown",
      "metadata": {
        "id": "8kKjRouaftSa"
      },
      "source": [
        "### ❓ 절대경로로 read()해보기  \n",
        "아래의 내용을 메모장으로 작성해 rank 라는 폴더안에 ranking.txt로 저장후    \n",
        "파일을 절대경로로 읽어 출력해보세요"
      ]
    },
    {
      "cell_type": "markdown",
      "metadata": {
        "id": "G92rytZNgEsK"
      },
      "source": [
        "프리미어 리그 순위  \n",
        "1  토트넘  \n",
        "2  아스널  \n",
        "3  맨시티  \n",
        "4  리버풀  "
      ]
    },
    {
      "cell_type": "markdown",
      "metadata": {
        "id": "Po5O3zZ0iOZM"
      },
      "source": [
        "### open() 의 encoding 옵션"
      ]
    },
    {
      "cell_type": "markdown",
      "metadata": {
        "id": "Y7a26cf0iRqT"
      },
      "source": [
        "인코딩은 문자를 컴퓨터에 저장할 때 사용되는 방식"
      ]
    },
    {
      "cell_type": "markdown",
      "metadata": {
        "id": "8O-pbplxin22"
      },
      "source": [
        "메모장에서 저장 할 때 UTF-8 방식으로 저장  ->  \n",
        "코드로 읽을 때도 같은 인코딩 방식으로 read"
      ]
    },
    {
      "cell_type": "markdown",
      "metadata": {
        "id": "FoDfQ71EjBec"
      },
      "source": [
        "![image.png](data:image/png;base64,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)"
      ]
    },
    {
      "cell_type": "code",
      "execution_count": null,
      "metadata": {
        "id": "0lhwOaLLgkf_"
      },
      "outputs": [],
      "source": [
        "with open('파일경로', encoding = 'utf-8') as f:\n",
        "    text = f.read()"
      ]
    },
    {
      "cell_type": "markdown",
      "metadata": {
        "id": "McLxbExzjcrr"
      },
      "source": [
        "- 변수로 경로와 파일명 정리"
      ]
    },
    {
      "cell_type": "code",
      "execution_count": null,
      "metadata": {
        "id": "XGoEHybPjfx2"
      },
      "outputs": [],
      "source": [
        "path = 'C:/Users/origener/Desktop/python예제/rank/'\n",
        "file_name = 'ranking.txt'\n",
        "\n",
        "with open(path + file_name, encoding = 'utf-8') as f:\n",
        "    text = f.read()\n"
      ]
    },
    {
      "cell_type": "markdown",
      "metadata": {
        "id": "MDR7WUanjMeJ"
      },
      "source": [
        "## readline() / readlines() - 한줄 씩 읽어서 처리하기"
      ]
    },
    {
      "cell_type": "markdown",
      "metadata": {
        "id": "P7KRCY2skZFD"
      },
      "source": [
        "readline() - 파일을 한줄 씩 계속 읽기"
      ]
    },
    {
      "cell_type": "code",
      "execution_count": null,
      "metadata": {
        "id": "uq20WhfGjYeM"
      },
      "outputs": [],
      "source": [
        "path = 'C:/Users/origener/Desktop/python예제/rank/'\n",
        "file_name = 'ranking.txt'\n",
        "\n",
        "with open(path + file_name, encoding = 'utf-8') as f:\n",
        "    print(f.readline())\n",
        "    print(f.readline())\n",
        "    print(f.readline())"
      ]
    },
    {
      "cell_type": "markdown",
      "metadata": {
        "id": "osDXVBJeksEH"
      },
      "source": [
        "readline() 으로 한줄을 읽는데 공백('\\n')까지 읽어서 저장"
      ]
    },
    {
      "cell_type": "code",
      "execution_count": null,
      "metadata": {
        "id": "MIV4x1O1ky9o"
      },
      "outputs": [],
      "source": [
        "path = 'C:/Users/origener/Desktop/python예제/rank/'\n",
        "file_name = 'ranking.txt'\n",
        "\n",
        "with open(path + file_name, encoding = 'utf-8') as f:\n",
        "    print(f.readline().strip())  # 한줄 공백을 제거하기위해 strip() 사용\n",
        "    print(f.readline())\n",
        "    print(f.readline())"
      ]
    },
    {
      "cell_type": "markdown",
      "metadata": {
        "id": "qPI7lnHQk8-R"
      },
      "source": [
        "readlines() - 파일 전체를 읽고 리스트로 만들어줌"
      ]
    },
    {
      "cell_type": "code",
      "execution_count": null,
      "metadata": {
        "id": "TcyuSBkNlHMX"
      },
      "outputs": [],
      "source": [
        "path = 'C:/Users/origener/Desktop/python예제/rank/'\n",
        "file_name = 'ranking.txt'\n",
        "\n",
        "with open(path + file_name, encoding = 'utf-8') as f:\n",
        "    texts = f.readlines()\n",
        "\n",
        "print(texts)"
      ]
    },
    {
      "cell_type": "code",
      "execution_count": null,
      "metadata": {
        "id": "XMVb5hUvl8cz"
      },
      "outputs": [],
      "source": [
        "path = 'C:/Users/origener/Desktop/python예제/rank/'\n",
        "file_name = 'ranking.txt'\n",
        "\n",
        "with open(path + file_name, encoding = 'utf-8') as f:\n",
        "    texts = f.readlines()\n",
        "\n",
        "for text in texts:\n",
        "    text = text.strip()\n",
        "    print(text)"
      ]
    },
    {
      "cell_type": "code",
      "execution_count": null,
      "metadata": {
        "id": "lhSq7KsopCk4"
      },
      "outputs": [],
      "source": [
        "프리미어 리그 순위\n",
        "1  토트넘\n",
        "2  아스널\n",
        "3  맨시티\n",
        "4  리버풀"
      ]
    },
    {
      "cell_type": "markdown",
      "metadata": {
        "id": "CMiKZQJcpycS"
      },
      "source": [
        "- 문자열을 나누고 싶을 때"
      ]
    },
    {
      "cell_type": "markdown",
      "metadata": {
        "id": "6YCiLDSEraRD"
      },
      "source": [
        "### split() - 문자열을 쪼개서 리스트 생성  "
      ]
    },
    {
      "cell_type": "markdown",
      "metadata": {
        "id": "SM25IAl1rqI7"
      },
      "source": [
        "**split(*분리할 때 기준이 되는 문자열*)**"
      ]
    },
    {
      "cell_type": "code",
      "execution_count": null,
      "metadata": {
        "id": "NBTMwrJzp9eh"
      },
      "outputs": [],
      "source": [
        "sample = \"1 토트넘 핫스퍼\"\n",
        "print(sample.split(' '))"
      ]
    },
    {
      "cell_type": "markdown",
      "metadata": {
        "id": "pl0DWpVDru8y"
      },
      "source": [
        "⚡ 인덱싱과 함께 사용하면 문자열을 자유롭게 다룰 수 있게 됩니다."
      ]
    },
    {
      "cell_type": "code",
      "execution_count": null,
      "metadata": {
        "id": "9EL-6Y6Oq4ID"
      },
      "outputs": [],
      "source": [
        "path = 'C:/Users/origener/Desktop/python예제/rank/'\n",
        "file_name = 'ranking.txt'\n",
        "\n",
        "with open(path + file_name, encoding = 'utf-8') as f:\n",
        "    texts = f.readlines()\n",
        "\n",
        "for text in texts:\n",
        "    text = text.strip()\n",
        "    text = text.split(' ')\n",
        "    print(text[-1])"
      ]
    },
    {
      "cell_type": "markdown",
      "metadata": {
        "id": "EXL_CcuNsIsL"
      },
      "source": [
        "## 파일 쓰기"
      ]
    },
    {
      "cell_type": "markdown",
      "metadata": {
        "id": "vTH6NZdetlz9"
      },
      "source": [
        "text_write.py 파일을 새로 만들어 봅시다"
      ]
    },
    {
      "cell_type": "markdown",
      "metadata": {
        "id": "6KnFmMhLtCGf"
      },
      "source": [
        "1. 모드의 첫번째 옵션"
      ]
    },
    {
      "cell_type": "markdown",
      "metadata": {
        "id": "S1KfH9GOtCGo"
      },
      "source": [
        "|분류|종류|의미|설명|파일이 없을때|파일이 있을때|\n",
        "|------|:---------:|------------|------|-----|-----|\n",
        "|입력|r|read|읽기|오류 발생|읽기|\n",
        "|출력|w|write|쓰기|새로 생성|새로 생성|\n",
        "|출력|a|append|추가|새로 생성|추가|\n",
        "|출력|x|exclusive|배타적 추가|새로 생성|오류 발생\n",
        "\n",
        "\n"
      ]
    },
    {
      "cell_type": "markdown",
      "metadata": {
        "id": "WjsksHVttCGo"
      },
      "source": [
        "2. 모드의 두번째 옵션"
      ]
    },
    {
      "cell_type": "markdown",
      "metadata": {
        "id": "vJWS0uA4tCGo"
      },
      "source": [
        "|종류|의미|설명|\n",
        "|:------:|---------|------------|\n",
        "|t|text|텍스트파일|\n",
        "|b|binary|바이너리 파일(텍스트 파일 외의 모든 파일)|\n",
        "\n",
        "\n",
        "\n"
      ]
    },
    {
      "cell_type": "code",
      "execution_count": null,
      "metadata": {
        "id": "K3xj7wPktHFa"
      },
      "outputs": [],
      "source": [
        "with open('write.txt', 'w') as f:\n",
        "    f.write('쓰기 테스트')"
      ]
    },
    {
      "cell_type": "markdown",
      "metadata": {
        "id": "bbNvdUJluJ38"
      },
      "source": [
        "- 파일을 쓰기모드로 열고 파일을 쓰면 기존데이터를 덮어 씌움"
      ]
    },
    {
      "cell_type": "code",
      "execution_count": null,
      "metadata": {
        "id": "4diYCh12uO_r"
      },
      "outputs": [],
      "source": [
        "with open('write.txt', 'w') as f:\n",
        "    f.write('기존의 텍스트가 사라집니다.')"
      ]
    },
    {
      "cell_type": "markdown",
      "metadata": {
        "id": "mLZi1mLmuaMD"
      },
      "source": [
        "- 그래서 이어서 텍스트를 쓰려면 a (append) 모드로 파일을 열어야 합니다."
      ]
    },
    {
      "cell_type": "code",
      "execution_count": null,
      "metadata": {
        "id": "4CTwPEDjuiWB"
      },
      "outputs": [],
      "source": [
        "with open('write.txt', 'a') as f:\n",
        "    f.write('기존의 텍스트에 추가합니다.')"
      ]
    },
    {
      "cell_type": "markdown",
      "metadata": {
        "id": "5Myw0CINus1r"
      },
      "source": [
        "- 텍스트파일에 줄바꿈을 넣으려면 escape문자 '\\n' 를 사용합니다."
      ]
    },
    {
      "cell_type": "code",
      "execution_count": null,
      "metadata": {
        "id": "74lof6zwuz3b"
      },
      "outputs": [],
      "source": [
        "with open('write.txt', 'a') as f:\n",
        "    f.write('\\n기존의 텍스트에 줄을 바꿔 추가합니다.')"
      ]
    },
    {
      "cell_type": "code",
      "execution_count": null,
      "metadata": {
        "id": "zm18NI-Zu9p5"
      },
      "outputs": [],
      "source": [
        "with open('write.txt', 'w') as f:\n",
        "    f.write('여러줄을 작성하려면 이렇게 \\n')\n",
        "    f.write('줄바꿈 특수문자 사용 \\n')"
      ]
    },
    {
      "cell_type": "markdown",
      "metadata": {
        "id": "xnTS_J8dzasD"
      },
      "source": [
        "- 문자열 변수 쓰기"
      ]
    },
    {
      "cell_type": "code",
      "execution_count": null,
      "metadata": {
        "id": "M_pkMY4Lzd8p"
      },
      "outputs": [],
      "source": [
        "text = '파일에 쓰고 싶은 문자열'\n",
        "with open('write.txt', 'w') as f:\n",
        "    f.write(text)"
      ]
    },
    {
      "cell_type": "markdown",
      "metadata": {
        "id": "V8KCTLK6vYr1"
      },
      "source": [
        "### ❓ 스케쥴 목록을 한줄씩 파일에 작성하는 코드  \n",
        "\n",
        "- 사용자 입력을 받아 한줄씩 파일에 기록하고 종료할 수 있는 코드 만들기"
      ]
    },
    {
      "cell_type": "code",
      "execution_count": null,
      "metadata": {
        "id": "SBgoO51fvhrj"
      },
      "outputs": [],
      "source": [
        "import time\n",
        "with open(time.strftime('%Y-%m-%d') + '.txt', 'w') as f:\n",
        "    while True:\n",
        "        text = input('한줄 씩 입력받기 (종료는 빈칸 입력) >>> ')\n",
        "        if text == '':\n",
        "            break\n",
        "        f.write(text + '\\n')"
      ]
    },
    {
      "cell_type": "markdown",
      "metadata": {
        "id": "y1dGO8FPc5vI"
      },
      "source": [
        "## CSV (Comma Separated Values) 파일 입출력  -p245\n",
        "- 콤마 ( , )로 나뉘어진 값들이 들어있는 파일"
      ]
    },
    {
      "cell_type": "markdown",
      "metadata": {
        "id": "fTBgl8Uom3T1"
      },
      "source": [
        "학생명단.csv   \n",
        "고양시_음식점.csv\n",
        "\n",
        "예제파일 링크 :   \n",
        "http://naver.me/GDNazSRG"
      ]
    },
    {
      "cell_type": "markdown",
      "metadata": {
        "id": "7W4O_fBzACZ_"
      },
      "source": [
        "### csv 모듈로 파일 읽기"
      ]
    },
    {
      "cell_type": "code",
      "execution_count": null,
      "metadata": {
        "id": "MKmmwy6k77qT"
      },
      "outputs": [],
      "source": [
        "import csv\n",
        "\n",
        "with open('학생명단.csv', 'r', encoding='ansi') as f:\n",
        "    reader = csv.reader(f)\n",
        "    for line in reader:\n",
        "        print(line)\n"
      ]
    },
    {
      "cell_type": "markdown",
      "metadata": {
        "id": "aO_FDfU2EFfa"
      },
      "source": [
        "보통 csv 파일의 첫번째 줄은 제목을 나타내는 헤더(header)"
      ]
    },
    {
      "cell_type": "code",
      "execution_count": null,
      "metadata": {
        "id": "SEumwQZCEDe1"
      },
      "outputs": [],
      "source": [
        "['학번', '이름', '주소', '연락처']"
      ]
    },
    {
      "cell_type": "markdown",
      "metadata": {
        "id": "pRLPKWGHELoc"
      },
      "source": [
        "- 헤더를 패스하고 값만 표시하기"
      ]
    },
    {
      "cell_type": "code",
      "execution_count": null,
      "metadata": {
        "id": "jBjhglH1EOhE"
      },
      "outputs": [],
      "source": [
        "with open('학생명단.csv', 'r', encoding='ansi') as f:\n",
        "    reader = csv.reader(f)\n",
        "    for line in reader:\n",
        "        break  # 한줄을 받아서 헤더파일을 사용하지않고 종료시킴\n",
        "\n",
        "    for line in reader:\n",
        "        print(line)"
      ]
    },
    {
      "cell_type": "markdown",
      "metadata": {
        "id": "4mKXt2h-NOrD"
      },
      "source": [
        "- 학생들 정보만 출력하는 함수 만들기"
      ]
    },
    {
      "cell_type": "code",
      "execution_count": null,
      "metadata": {
        "id": "iF4cjWRGNQcd"
      },
      "outputs": [],
      "source": [
        "import csv\n",
        "\n",
        "def get_info(file_name):\n",
        "    with open(file_name, 'r', encoding='ansi') as f:\n",
        "        reader = csv.reader(f)\n",
        "        for line in reader:\n",
        "            break  # 한줄을 받아서 헤더파일을 사용하지않고 종료시킴\n",
        "\n",
        "        for line in reader:\n",
        "            print(line)"
      ]
    },
    {
      "cell_type": "code",
      "execution_count": null,
      "metadata": {
        "id": "Wz68SgODNZ2k"
      },
      "outputs": [],
      "source": [
        "get_info('학생명단.csv')"
      ]
    },
    {
      "cell_type": "markdown",
      "metadata": {
        "id": "yqSexQMFNuXL"
      },
      "source": [
        "❓ 헤더 정보만 출력하는 함수 get_header() 만들기"
      ]
    },
    {
      "cell_type": "code",
      "execution_count": null,
      "metadata": {
        "id": "WI7reAClN0XW"
      },
      "outputs": [],
      "source": [
        "def get_header(file_name):\n",
        "    with open(file_name, 'r', encoding='ansi') as f:\n",
        "        reader = csv.reader(f)\n",
        "        for line in reader:\n",
        "            print(line)\n",
        "            break"
      ]
    },
    {
      "cell_type": "code",
      "execution_count": null,
      "metadata": {
        "id": "wTY25OfVOCLh"
      },
      "outputs": [],
      "source": [
        "get_header('학생명단.csv')"
      ]
    },
    {
      "cell_type": "markdown",
      "metadata": {
        "id": "SGxq8fpsDGQU"
      },
      "source": [
        "- 서울시 학생들의 정보만 출력하기"
      ]
    },
    {
      "cell_type": "code",
      "execution_count": null,
      "metadata": {
        "id": "W_yF3eyzAIoJ"
      },
      "outputs": [],
      "source": [
        "def get_info(file_name):\n",
        "    with open(file_name, 'r', encoding='ansi') as f:\n",
        "        reader = csv.reader(f)\n",
        "        for line in reader:\n",
        "            break  # 한줄을 받아서 헤더파일을 사용하지않고 종료시킴\n",
        "\n",
        "        for line in reader:\n",
        "            if '서울시' in line[2]:\n",
        "                print(line)"
      ]
    },
    {
      "cell_type": "markdown",
      "metadata": {
        "id": "uUsBIeAjGJF5"
      },
      "source": [
        "### ❓ 원하는 지역에 사는 학생들의 정보만 출력할수 있게 함수를 바꿔보세요"
      ]
    },
    {
      "cell_type": "code",
      "execution_count": null,
      "metadata": {
        "id": "sJkQhCJIHS5o"
      },
      "outputs": [],
      "source": [
        "def get_info(file_name, city):\n",
        "    with open(file_name, 'r', encoding='ansi') as f:\n",
        "        reader = csv.reader(f)\n",
        "        for line in reader:\n",
        "            break  # 한줄을 받아서 헤더파일을 사용하지않고 종료시킴\n",
        "\n",
        "        for line in reader:\n",
        "            if city in line[2]:\n",
        "                print(line)"
      ]
    },
    {
      "cell_type": "markdown",
      "metadata": {
        "id": "u-VFgLq9Hyc9"
      },
      "source": [
        "### csv 파일 쓰기"
      ]
    },
    {
      "cell_type": "markdown",
      "metadata": {
        "id": "g4D0473FLOZQ"
      },
      "source": [
        "- writerow() 한줄 씩 리스트를 csv 파일로 쓰기"
      ]
    },
    {
      "cell_type": "code",
      "execution_count": null,
      "metadata": {
        "id": "kEQC8UwcQwJt"
      },
      "outputs": [],
      "source": [
        "rows = [ ['이름', '클럽'], ['손흥민', '토트넘'], ['살라', '리버풀'], ['메디슨', '토트넘'] ]\n",
        "with open('축구선수.csv', 'w', newline='') as f:\n",
        "    writer = csv.writer(f)\n",
        "    for row in rows:\n",
        "        writer.writerow(row)"
      ]
    },
    {
      "cell_type": "markdown",
      "metadata": {
        "id": "ygYPaQScTNr1"
      },
      "source": [
        "### ❓ 위의 예제에서 토트넘 선수들만 파일에 저장해 보세요"
      ]
    },
    {
      "cell_type": "code",
      "execution_count": null,
      "metadata": {
        "id": "ORQE3UbXINab"
      },
      "outputs": [],
      "source": [
        "rows = [ ['이름', '클럽'], ['손흥민', '토트넘'], ['살라', '리버풀'], ['메디슨', '토트넘'] ]\n",
        "with open('축구선수.csv', 'w', newline='') as f:\n",
        "    writer = csv.writer(f)\n",
        "    writer.writerow(rows[0])\n",
        "    for row in rows:\n",
        "        if '토트넘' == row[1]:\n",
        "            writer.writerow(row)"
      ]
    },
    {
      "cell_type": "markdown",
      "metadata": {
        "id": "xexOpgjrLGrV"
      },
      "source": [
        "- writerows() 리스트 안의 리스트 구조를 한번에 csv 파일로 저장"
      ]
    },
    {
      "cell_type": "code",
      "execution_count": null,
      "metadata": {
        "id": "SLKcm-lmS6Ul"
      },
      "outputs": [],
      "source": [
        "rows = [ ['이름', '클럽'], ['손흥민', '토트넘'], ['살라', '리버풀'], ['메디슨', '토트넘'] ]\n",
        "with open('축구선수.csv', 'w', newline='') as f:\n",
        "    writer = csv.writer(f)\n",
        "    writer.writerows(rows)"
      ]
    },
    {
      "cell_type": "markdown",
      "metadata": {
        "id": "J6dBBEvlCCNS"
      },
      "source": [
        "- writerows() 를 사용하는 write_csv 함수 만들기"
      ]
    },
    {
      "cell_type": "code",
      "execution_count": null,
      "metadata": {
        "id": "bM6ov4SACHci"
      },
      "outputs": [],
      "source": [
        "def write_csv(file_name, rows):\n",
        "    with open(file_name, 'w', newline='') as f:\n",
        "        writer = csv.writer(f)\n",
        "        writer.writerows(rows)"
      ]
    },
    {
      "cell_type": "markdown",
      "metadata": {
        "id": "eYWx9WnHU3Mi"
      },
      "source": [
        "- get_info 함수가 출력하는 대신 리스트를 리턴하도록 수정하기"
      ]
    },
    {
      "cell_type": "code",
      "execution_count": null,
      "metadata": {
        "id": "dNLOwEGiU8XU"
      },
      "outputs": [],
      "source": [
        "def get_info(file_name, city=None):\n",
        "    with open(file_name, 'r', encoding='ansi') as f:\n",
        "        infos = []\n",
        "        reader = csv.reader(f)\n",
        "        for line in reader:\n",
        "            break\n",
        "\n",
        "        for line in reader:\n",
        "            if city is None:\n",
        "                infos.append(line)\n",
        "            elif city in line[2]:\n",
        "                infos.append(line)\n",
        "        return infos"
      ]
    },
    {
      "cell_type": "markdown",
      "metadata": {
        "id": "DovX0LF3Y5lN"
      },
      "source": [
        "## 공공데이터포털 www.data.go.kr"
      ]
    },
    {
      "cell_type": "markdown",
      "metadata": {
        "id": "J8diFh6vZLa0"
      },
      "source": [
        "- 고양시 cctv 검색\n",
        "- 경기도 고양시_주정차단속 CCTV 설치 현황.csv"
      ]
    },
    {
      "cell_type": "code",
      "execution_count": null,
      "metadata": {
        "id": "_BMwPIRhmZzU"
      },
      "outputs": [],
      "source": [
        "infos = get_info('경기도 고양시_주정차단속 CCTV 설치 현황_20230922.csv', '중앙로')\n",
        "for info in infos:\n",
        "    print(info)"
      ]
    },
    {
      "cell_type": "markdown",
      "metadata": {
        "id": "xFomOeJECsOh"
      },
      "source": [
        "❓ cctv 현황에서 '중앙로' 에 설치된 정보만 '중앙로_cctv.csv' 파일로 저장"
      ]
    },
    {
      "cell_type": "markdown",
      "metadata": {
        "id": "XG0SRYQBi8FO"
      },
      "source": [
        "## 지방행정 인허가 www.localdata.go.kr"
      ]
    },
    {
      "cell_type": "markdown",
      "metadata": {
        "id": "FK9cW3IujOQ6"
      },
      "source": [
        "- 고양시_음식점.csv  http://naver.me/GDNazSRG"
      ]
    },
    {
      "cell_type": "code",
      "execution_count": null,
      "metadata": {
        "id": "O9imsDHYizOH"
      },
      "outputs": [],
      "source": [
        "infos = get_info('고양시_음식점.csv')\n",
        "for info in infos:\n",
        "    print(info)"
      ]
    },
    {
      "cell_type": "markdown",
      "metadata": {
        "id": "bb5QLnPSD3Xh"
      },
      "source": [
        "### ❓ 고양시 음식점 파일에서 '웨스턴돔' 에 위치한 음식점의 정보만 '웨스턴돔_음식점.csv' 파일로 저장"
      ]
    },
    {
      "cell_type": "markdown",
      "metadata": {
        "id": "3qF7gMQpc_4E"
      },
      "source": [
        "## JSON (JavaScript Object Notation) 파일 입출력 -p250"
      ]
    },
    {
      "cell_type": "code",
      "execution_count": null,
      "metadata": {
        "id": "duNIKa8An17y"
      },
      "outputs": [],
      "source": [
        "import csv\n",
        "\n",
        "menu_dict = {\n",
        "    \"morning\" : \"시리얼\",\n",
        "    \"lunch\" : \"갈비탕\",\n",
        "    \"evening\" : \"김치찌개\"\n",
        "}\n",
        "\n",
        "with open('menu.csv', 'w', newline='') as f:\n",
        "    writer = csv.writer(f)\n",
        "    writer.writerows(menu_dict)"
      ]
    },
    {
      "cell_type": "markdown",
      "metadata": {
        "id": "AzOinAHpo063"
      },
      "source": [
        "json.dumps() - 파이썬 객체를 json 형태의 문자열로 변환"
      ]
    },
    {
      "cell_type": "code",
      "execution_count": null,
      "metadata": {
        "id": "rOLiU9IHgbJv"
      },
      "outputs": [],
      "source": [
        "import json\n",
        "\n",
        "menu_dict = {\n",
        "    \"morning\" : \"시리얼\",\n",
        "    \"lunch\" : \"갈비탕\",\n",
        "    \"evening\" : \"김치찌개\"\n",
        "}\n",
        "\n",
        "json_string = json.dumps(menu_dict)\n",
        "\n",
        "with open('menu.json', 'wt') as f:\n",
        "    f.write(json_string)"
      ]
    },
    {
      "cell_type": "markdown",
      "metadata": {
        "id": "m6uvVhmvo6T9"
      },
      "source": [
        "json.loads() - json 형식의 문자열을 파이썬 객체로 변환"
      ]
    },
    {
      "cell_type": "code",
      "execution_count": null,
      "metadata": {
        "id": "qvYcp7DypEI3"
      },
      "outputs": [],
      "source": [
        "with open('menu.json', 'r') as f:\n",
        "    json_string = f.read()\n",
        "    menu_dict = json.loads(json_string)"
      ]
    },
    {
      "cell_type": "markdown",
      "metadata": {
        "id": "P0trvxMmqCBX"
      },
      "source": [
        "리스트도 가능"
      ]
    },
    {
      "cell_type": "code",
      "execution_count": null,
      "metadata": {
        "id": "giWnnx2mqAkD"
      },
      "outputs": [],
      "source": [
        "import json\n",
        "\n",
        "menu_list = [\"시리얼\", \"갈비탕\", \"김치찌개\"]\n",
        "json_string = json.dumps(menu_list)\n",
        "\n",
        "with open('menu_list.json', 'wt') as f:\n",
        "    f.write(json_string)"
      ]
    },
    {
      "cell_type": "markdown",
      "metadata": {
        "id": "_5u_iwZ_nEIq"
      },
      "source": [
        "# 예외처리 -p292"
      ]
    },
    {
      "cell_type": "code",
      "execution_count": null,
      "metadata": {
        "id": "lDO6_iW4H1x5"
      },
      "outputs": [],
      "source": [
        "def divider(int_1, int_2):\n",
        "    print(int_1 / int_2)"
      ]
    },
    {
      "cell_type": "markdown",
      "metadata": {
        "id": "wG7mTsErdPEX"
      },
      "source": [
        "## 기본 예외처리"
      ]
    },
    {
      "cell_type": "code",
      "execution_count": null,
      "metadata": {
        "id": "_k3_tysrKGn6"
      },
      "outputs": [],
      "source": [
        "divider(5, 2)\n",
        "print('계산완료')"
      ]
    },
    {
      "cell_type": "code",
      "execution_count": null,
      "metadata": {
        "id": "GPgfIT1LEXDp"
      },
      "outputs": [],
      "source": [
        "divider(5, 0)\n",
        "print('계산완료')"
      ]
    },
    {
      "cell_type": "markdown",
      "metadata": {
        "id": "DSkQny6aFgDJ"
      },
      "source": [
        "- try / except 구문을 사용하는 이유  \n",
        "1. 프로그램이 에러로 종료되지 않음  \n",
        "2. 프로그램 소스코드를 노출하지 않음\n",
        "3. 이해하기 어려운 trace back 메세지가 아닌 쉬운 메세지 출력가능"
      ]
    },
    {
      "cell_type": "code",
      "execution_count": null,
      "metadata": {
        "id": "zLPSbv2tJ6Eq"
      },
      "outputs": [],
      "source": [
        "try:\n",
        "    divider(5, 0)\n",
        "except ZeroDivisionError:\n",
        "    print('0으로 나눌 수 없습니다.')\n",
        "else:\n",
        "    print('계산완료')"
      ]
    },
    {
      "cell_type": "markdown",
      "metadata": {
        "id": "YJC7BmsfF1VP"
      },
      "source": [
        "- error 가 발생하더라도 계속 동작하는 코드"
      ]
    },
    {
      "cell_type": "code",
      "execution_count": null,
      "metadata": {
        "id": "RGlTvncSFMGV"
      },
      "outputs": [],
      "source": [
        "while True:\n",
        "    try:\n",
        "        num_1 = int(input('number 1 : '))\n",
        "        num_2 = int(input('number 2 : '))\n",
        "        divider(num_1, num_2)\n",
        "    except ZeroDivisionError:\n",
        "        print('0으로 나눌 수 없습니다.')\n",
        "    else:\n",
        "        print('계산이 완료되었습니다.')"
      ]
    },
    {
      "cell_type": "markdown",
      "metadata": {
        "id": "SeBJ1givH0Ii"
      },
      "source": [
        "### 새로운 except 추가하기"
      ]
    },
    {
      "cell_type": "markdown",
      "metadata": {
        "id": "6zbNJ4LyHCsL"
      },
      "source": [
        "- ValueError 숫자가 아닌값으로 나눌 때"
      ]
    },
    {
      "cell_type": "code",
      "execution_count": null,
      "metadata": {
        "id": "7XFtgw2L_MSz"
      },
      "outputs": [],
      "source": [
        "while True:\n",
        "    try:\n",
        "        num_1 = int(input('number 1 : '))\n",
        "        num_2 = int(input('number 2 : '))\n",
        "        divider(num_1, num_2)\n",
        "    except ZeroDivisionError:\n",
        "        print('0으로 나눌 수 없습니다.')\n",
        "    except ValueError:\n",
        "        print('숫자만 입력 할 수 있습니다.')\n",
        "    else:\n",
        "        print('계산이 완료되었습니다.')"
      ]
    },
    {
      "cell_type": "markdown",
      "metadata": {
        "id": "9ZxNXq4GHmUe"
      },
      "source": [
        "- finally: 정상적으로 동작할 때나 에러가 발생할 때나 언제든지 실행되는 내용"
      ]
    },
    {
      "cell_type": "code",
      "execution_count": null,
      "metadata": {
        "id": "evludiMPGRC8"
      },
      "outputs": [],
      "source": [
        "while True:\n",
        "    try:\n",
        "        num_1 = int(input('number 1 : '))\n",
        "        num_2 = int(input('number 2 : '))\n",
        "        divider(num_1, num_2)\n",
        "    except ZeroDivisionError:\n",
        "        print('0으로 나눌 수 없습니다.')\n",
        "    except ValueError:\n",
        "        print('숫자만 입력 할 수 있습니다.')\n",
        "    else:\n",
        "        print('계산이 완료되었습니다.')\n",
        "    finally:\n",
        "        retry = input('종료하시려면 q 입력 : ')\n",
        "        if retry == 'q':\n",
        "            break"
      ]
    },
    {
      "cell_type": "markdown",
      "metadata": {
        "id": "vFQGCtfs4vh-"
      },
      "source": [
        "### Exception 으로 모든에러 처리하기"
      ]
    },
    {
      "cell_type": "code",
      "execution_count": null,
      "metadata": {
        "id": "J72-e-Qa5EUR"
      },
      "outputs": [],
      "source": [
        "input_str = input('아무 입력: ')\n",
        "print(input_str[10])"
      ]
    },
    {
      "cell_type": "code",
      "execution_count": null,
      "metadata": {
        "colab": {
          "base_uri": "https://localhost:8080/"
        },
        "id": "K286Zv_O45P3",
        "outputId": "55899c59-273a-40d4-9bec-f5ff5bbabfe6"
      },
      "outputs": [
        {
          "name": "stdout",
          "output_type": "stream",
          "text": [
            "아무 입력: 123\n",
            "에러내용 string index out of range\n"
          ]
        }
      ],
      "source": [
        "try:\n",
        "    input_str = input('아무 입력: ')\n",
        "    print(input_str[10])\n",
        "except Exception:\n",
        "        print('Exception은 어떤 에러든지 잡아냅니다')"
      ]
    },
    {
      "cell_type": "markdown",
      "metadata": {
        "id": "_pU0MpVZ56Fn"
      },
      "source": [
        "- Exception의 에러 정보 표시"
      ]
    },
    {
      "cell_type": "code",
      "execution_count": null,
      "metadata": {
        "colab": {
          "base_uri": "https://localhost:8080/"
        },
        "id": "KuW9wVOG6HQu",
        "outputId": "6e7a4aa9-b55b-4ac0-b245-dcb840a114e9"
      },
      "outputs": [
        {
          "name": "stdout",
          "output_type": "stream",
          "text": [
            "아무 입력: 123\n",
            "Exception은 어떤 에러든지 잡아냅니다\n",
            "에러의 내용 :  string index out of range\n"
          ]
        }
      ],
      "source": [
        "try:\n",
        "    input_str = input('아무 입력: ')\n",
        "    print(input_str[10])\n",
        "except Exception as e:\n",
        "        print('Exception은 어떤 에러든지 잡아냅니다')\n",
        "        print('에러의 내용 : ', e)\n",
        "        print('에러의 종류 : ', repr(e))"
      ]
    },
    {
      "cell_type": "markdown",
      "metadata": {
        "id": "AHcygTla2QBT"
      },
      "source": [
        "- 에러 발생시키기 - raise"
      ]
    },
    {
      "cell_type": "code",
      "execution_count": null,
      "metadata": {
        "colab": {
          "base_uri": "https://localhost:8080/"
        },
        "id": "PTb7-iDfLL4F",
        "outputId": "09c80cdf-5d31-4abd-c4a1-896e63556f62"
      },
      "outputs": [
        {
          "name": "stdout",
          "output_type": "stream",
          "text": [
            "ValueError()\n"
          ]
        }
      ],
      "source": [
        "try:\n",
        "    raise ValueError()\n",
        "except Exception as e:\n",
        "    print(repr(e))"
      ]
    },
    {
      "cell_type": "markdown",
      "metadata": {
        "id": "myJCpgJ4dTXt"
      },
      "source": [
        "## 사용자 예외처리"
      ]
    },
    {
      "cell_type": "code",
      "execution_count": null,
      "metadata": {
        "id": "abTAqk7TgcNG"
      },
      "outputs": [],
      "source": [
        "class HourError(Exception):\n",
        "    def __init__(self):\n",
        "        super().__init__(\"올바른 시간이 아닙니다\")\n"
      ]
    },
    {
      "cell_type": "code",
      "execution_count": null,
      "metadata": {
        "id": "BP6PNoDsgeif"
      },
      "outputs": [],
      "source": [
        "try:\n",
        "    hour = int(input('시간을 입력하세요 >>> '))\n",
        "    if hour < 0 or hour > 23:\n",
        "        raise HourError\n",
        "except HourError as e:\n",
        "    print(e)\n"
      ]
    },
    {
      "cell_type": "markdown",
      "metadata": {
        "id": "miu-HXAK2nv6"
      },
      "source": [
        "에러 메세지를 받아서 처리하는 사용자 예외"
      ]
    },
    {
      "cell_type": "code",
      "execution_count": null,
      "metadata": {
        "id": "ve28uDDS2zoP"
      },
      "outputs": [],
      "source": [
        "class NameError(Exception):\n",
        "    def __init__(self, message):\n",
        "        super().__init__(message)\n",
        "\n",
        "try:\n",
        "    name = input('이름을 입력하세요 >>> ')\n",
        "    if len(name) < 2 or len(name) > 8:\n",
        "        raise NameError('이름은 2~6자 사이로 입력해 주세요.')\n",
        "except NameError as e:\n",
        "    print(e)\n",
        "else:\n",
        "    print('입력된 이름은 {} 입니다.'.format(name))"
      ]
    },
    {
      "cell_type": "markdown",
      "metadata": {
        "id": "LllllZk4Ihaa"
      },
      "source": [
        "## ❓ 파일명 관련 에러 처리하기  \n",
        "- 이전에 만든 get_info() 함수에서 file_name이 잘못되어 없는 파일을 open 하는 경우   \n",
        "발생하는 에러를 확인하고  '잘못된 파일명입니다.' 출력되도록 코드를 수정해 보세요"
      ]
    },
    {
      "cell_type": "code",
      "execution_count": null,
      "metadata": {
        "id": "sYTrcYvx6STJ"
      },
      "outputs": [],
      "source": []
    }
  ],
  "metadata": {
    "celltoolbar": "Slideshow",
    "colab": {
      "provenance": [],
      "toc_visible": true,
      "include_colab_link": true
    },
    "hide_input": false,
    "kernelspec": {
      "display_name": "Python 3 (ipykernel)",
      "language": "python",
      "name": "python3"
    },
    "language_info": {
      "codemirror_mode": {
        "name": "ipython",
        "version": 3
      },
      "file_extension": ".py",
      "mimetype": "text/x-python",
      "name": "python",
      "nbconvert_exporter": "python",
      "pygments_lexer": "ipython3",
      "version": "3.10.5"
    }
  },
  "nbformat": 4,
  "nbformat_minor": 0
}