{
  "cells": [
    {
      "cell_type": "markdown",
      "metadata": {
        "id": "view-in-github",
        "colab_type": "text"
      },
      "source": [
        "<a href=\"https://colab.research.google.com/github/edujongkook/8w_sbs_python_weekend/blob/main/8w_python_%EA%B8%B0%EC%B4%88_2%EC%A3%BC%EC%B0%A8_%EC%A0%9C%EC%96%B4%EB%AC%B8.ipynb\" target=\"_parent\"><img src=\"https://colab.research.google.com/assets/colab-badge.svg\" alt=\"Open In Colab\"/></a>"
      ]
    },
    {
      "cell_type": "markdown",
      "metadata": {
        "id": "eMa8ZX-KImB8"
      },
      "source": [
        "## 2주차 강의 내용\n",
        "### 3일차\n",
        "- 컬렉션 - 딕셔너리(dict - Dictionary), 세트(set)\n",
        "- 기본 입출력 (print, input) 함수  \n",
        "\n",
        "### 4일차\n",
        "- 연산자 (Operator)\n",
        "- 조건문 (Condition statement)\n",
        "- 반복문 (Looping statement)"
      ]
    },
    {
      "cell_type": "markdown",
      "metadata": {
        "id": "BprpBXM5CVMf"
      },
      "source": [
        "## 딕셔너리 (dict - Dictionary)\n",
        "인덱스(index) 대신 키(key)를 사용하여 값(value)을 저장하는 데이터 형태 입니다\n"
      ]
    },
    {
      "cell_type": "code",
      "execution_count": null,
      "metadata": {
        "ExecuteTime": {
          "end_time": "2023-10-14T00:33:17.895758Z",
          "start_time": "2023-10-14T00:33:17.884787Z"
        },
        "id": "toVoV4GdC1nP"
      },
      "outputs": [],
      "source": [
        "user_mario = {'name' : 'mario',\n",
        "              'age' : 25,\n",
        "              'point': 30000}\n",
        "print(user_mario)"
      ]
    },
    {
      "cell_type": "markdown",
      "metadata": {
        "id": "qdji513TmW8z"
      },
      "source": [
        "인덱스가 아닌 키를 사용해서 값에 접근할 수 있습니다."
      ]
    },
    {
      "cell_type": "code",
      "execution_count": null,
      "metadata": {
        "ExecuteTime": {
          "end_time": "2023-10-14T00:33:19.393698Z",
          "start_time": "2023-10-14T00:33:19.381701Z"
        },
        "id": "icu_m7ogDM4K"
      },
      "outputs": [],
      "source": [
        "user_mario['name']"
      ]
    },
    {
      "cell_type": "markdown",
      "metadata": {
        "id": "cDG-tWSEntwO"
      },
      "source": [
        "#### f-string 사용 시 조심\n",
        "(키 값이 문자열로 되어 있다면 따옴표를 사용하기 때문에)"
      ]
    },
    {
      "cell_type": "code",
      "execution_count": null,
      "metadata": {
        "ExecuteTime": {
          "end_time": "2023-10-14T00:33:20.745815Z",
          "start_time": "2023-10-14T00:33:20.732823Z"
        },
        "id": "t0fwivUKDrcp"
      },
      "outputs": [],
      "source": [
        "print(f\"user name : {user_mario['name']}, point : {user_mario['point']}\")"
      ]
    },
    {
      "cell_type": "markdown",
      "metadata": {
        "id": "YHHnCVGroXsO"
      },
      "source": [
        "#### ⭐값(value)의 수정, 추가와 삭제"
      ]
    },
    {
      "cell_type": "code",
      "execution_count": null,
      "metadata": {
        "id": "LaJrO5EKEEaU"
      },
      "outputs": [],
      "source": [
        "sports = {\n",
        "    'kim' : 'football',\n",
        "    'smith' : 'tennis',\n",
        "    'park' : 'swimming'\n",
        "}"
      ]
    },
    {
      "cell_type": "code",
      "execution_count": null,
      "metadata": {
        "id": "cyWeE4MsELoe"
      },
      "outputs": [],
      "source": [
        "sports['kim'] = 'golf'  # 기존의 키를 사용해 새로운 값으로 수정가능\n",
        "print(sports)"
      ]
    },
    {
      "cell_type": "code",
      "execution_count": null,
      "metadata": {
        "id": "nJ9Ffp5yr-BO"
      },
      "outputs": [],
      "source": [
        "sports['son'] = 'football'  # 새로운 키와 값으로 추가\n",
        "print(sports)"
      ]
    },
    {
      "cell_type": "code",
      "execution_count": null,
      "metadata": {
        "id": "DsbtCPuosrzK"
      },
      "outputs": [],
      "source": [
        "del sports['park']  # del 을 사용, 키값으로 키-값 전체 삭제\n",
        "print(sports)"
      ]
    },
    {
      "cell_type": "markdown",
      "metadata": {
        "id": "5ixVt4s60E-Q"
      },
      "source": [
        "### key error와 get() 메서드\n",
        "존재하지 않는 key를 이용하면 에러가 발생합니다.  \n",
        "이를 대처하기위해 get() 메서드를 사용할 수 있습니다."
      ]
    },
    {
      "cell_type": "code",
      "execution_count": null,
      "metadata": {
        "id": "fktlCHuk0Rm4"
      },
      "outputs": [],
      "source": [
        "sports = {\n",
        "    'kim' : 'football',\n",
        "    'smith' : 'tennis',\n",
        "    'park' : 'swimming'\n",
        "}\n",
        "son_sports = sports['son']"
      ]
    },
    {
      "cell_type": "code",
      "execution_count": null,
      "metadata": {
        "id": "Op5A5nHE0k5h"
      },
      "outputs": [],
      "source": [
        "# 어떤 기본값이 필요할 때 default값 이라는 개념을 사용.\n",
        "default_sports = 'baseball'\n",
        "\n",
        "# 'son' 이라는 키가 없으면 get메서드의 두번째로 입력된 값을 사용\n",
        "son_sports = sports.get('son', default_sports)\n",
        "print(son_sports)"
      ]
    },
    {
      "cell_type": "markdown",
      "metadata": {
        "id": "u102Wx0UuCsV"
      },
      "source": [
        "### 딕셔너리의 순환 (루프, 순회, 반복 - Loop)\n",
        "기본적으로는 키의 정보만 순환됩니다."
      ]
    },
    {
      "cell_type": "code",
      "execution_count": null,
      "metadata": {
        "id": "s5dmxHjeDAdi"
      },
      "outputs": [],
      "source": [
        "for key in sports:\n",
        "    print(key)"
      ]
    },
    {
      "cell_type": "markdown",
      "metadata": {
        "id": "VXaIJSFk8RaL"
      },
      "source": [
        "딕셔너리의 values() 메서드를 사용하면 값을 순회할 수 있습니다."
      ]
    },
    {
      "cell_type": "code",
      "execution_count": null,
      "metadata": {
        "id": "LcIMN_UO8NZ6"
      },
      "outputs": [],
      "source": [
        "for value in sports.values():\n",
        "    print(value)"
      ]
    },
    {
      "cell_type": "markdown",
      "metadata": {
        "id": "LmLo_fOl8gEU"
      },
      "source": [
        "키와 값을 모두 순회하려면 items() 메서드를 사용합니다."
      ]
    },
    {
      "cell_type": "code",
      "execution_count": null,
      "metadata": {
        "id": "hQ1-10t28jXk"
      },
      "outputs": [],
      "source": [
        "for key, value in sports.items():\n",
        "    print(f\"{key.title()}'s favorite sports is {value.upper()}!\")"
      ]
    },
    {
      "cell_type": "markdown",
      "metadata": {
        "id": "bYPWKeOx1ICt"
      },
      "source": [
        "## 세트 (set)\n",
        "중복이 없는 데이터 집합을 만들고 싶을 때 사용됩니다."
      ]
    },
    {
      "cell_type": "code",
      "execution_count": null,
      "metadata": {
        "id": "D863wiMM1V0F"
      },
      "outputs": [],
      "source": [
        "sports = {\n",
        "    'kim' : 'football',\n",
        "    'smith' : 'tennis',\n",
        "    'park' : 'swimming',\n",
        "    'son' : 'football'  # 중복 값 football\n",
        "}\n",
        "\n",
        "play_sports = []  # 플레이되는 스포츠 목록을 만들고 싶음\n",
        "for value in sports.values():\n",
        "    play_sports.append(value)\n",
        "\n",
        "print(play_sports)\n"
      ]
    },
    {
      "cell_type": "code",
      "execution_count": null,
      "metadata": {
        "id": "vmKhdjWP2J2C"
      },
      "outputs": [],
      "source": [
        "play_sports = []  # 플레이되는 스포츠 목록을 만들고 싶음\n",
        "for value in set(sports.values()):\n",
        "    play_sports.append(value)\n",
        "\n",
        "print(play_sports)"
      ]
    },
    {
      "cell_type": "markdown",
      "metadata": {
        "id": "kRefuW6J2SGC"
      },
      "source": [
        "- 직접 값으로 세트 만들기  \n",
        "중괄호안에 값들을 넣으면 자동으로 중복이 제거됩니다."
      ]
    },
    {
      "cell_type": "code",
      "execution_count": null,
      "metadata": {
        "id": "2S_nqgPr2Y9t"
      },
      "outputs": [],
      "source": [
        "play_sports = {'football', 'tennis', 'swimming', 'football'}\n",
        "play_sports"
      ]
    },
    {
      "cell_type": "markdown",
      "metadata": {
        "id": "VyCUfLmitiQu"
      },
      "source": [
        "\n",
        "## ⭐ IDLE 편집기로 프로그램을 만들어 봅시다.\n",
        "\n",
        "\n",
        "> 아래와 같은 리스트와 딕셔너리를 만들어 물품과 가격 정보를 표현합니다.   \n",
        "> vending.py 라는 이름으로 저장해봅시다.  "
      ]
    },
    {
      "cell_type": "code",
      "execution_count": null,
      "metadata": {
        "id": "odNezkr9PAWw"
      },
      "outputs": [],
      "source": [
        "item_menu = ['콜라', '생수', '사이다', '커피']\n",
        "item_price = {'콜라' : 1500, '생수': 1000, '사이다': 1200, '커피': 900}"
      ]
    },
    {
      "cell_type": "markdown",
      "metadata": {
        "id": "1SAUDhw2eln2"
      },
      "source": [
        "##  mutable / immutable -p47\n",
        "\n",
        "mutable 과 immutable은 어떤 데이터가 지우고 다시 수정할 수 있는 데이터인지 아닌지를 의미합니다.    \n",
        "mutable은 수정할 수 있는 데이터로 예를들어 리스트나 딕셔너리의 내용을 수정하더라도   \n",
        "데이터를 새로 만들거나 하지 않습니다. (그대로 내용만 바꿈)\n"
      ]
    },
    {
      "cell_type": "markdown",
      "metadata": {
        "id": "pL8qfA-xRZhJ"
      },
      "source": [
        "코드를 그림으로 표현해주는 사이트\n",
        "https://pythontutor.com/visualize.html#mode=edit"
      ]
    },
    {
      "cell_type": "markdown",
      "metadata": {
        "id": "knjr463le0l2"
      },
      "source": [
        "- mutable 은 수정해도 저장된 위치(메모리 주소)가 바뀌지 않음 (list / set / dict)"
      ]
    },
    {
      "cell_type": "code",
      "execution_count": null,
      "metadata": {
        "id": "jvI26B9ae77C"
      },
      "outputs": [],
      "source": [
        "exam_list = [1, 2, 3 ,4 ,5]\n",
        "id(exam_list)  # id() 는 변수의 메모리 주소를 표시"
      ]
    },
    {
      "cell_type": "code",
      "execution_count": null,
      "metadata": {
        "id": "KWGPU8OOe_l1"
      },
      "outputs": [],
      "source": [
        "exam_list.append(6)\n",
        "id(exam_list)"
      ]
    },
    {
      "cell_type": "markdown",
      "metadata": {
        "id": "1yfTbO8GfKW_"
      },
      "source": [
        "- immutable 은 값을 수정하는 순간\n",
        "저장되는 위치가 새로운 곳으로 바뀜 (int / float / str / tuple)"
      ]
    },
    {
      "cell_type": "code",
      "execution_count": null,
      "metadata": {
        "id": "BC7XIU3UcpLK"
      },
      "outputs": [],
      "source": [
        "s = \"hello\"\n",
        "id(s)"
      ]
    },
    {
      "cell_type": "code",
      "execution_count": null,
      "metadata": {
        "id": "hGOqB4ASexK9"
      },
      "outputs": [],
      "source": [
        "s = \"world\"\n",
        "id(s)"
      ]
    },
    {
      "cell_type": "markdown",
      "metadata": {
        "id": "eOEBrRfyfyt_"
      },
      "source": [
        "- mutable 변수를 대입하는 경우 같은 위치를 가르키는 두개의 변수가 됨\n",
        "따라서 수정사항도 함께 공유"
      ]
    },
    {
      "cell_type": "code",
      "execution_count": null,
      "metadata": {
        "id": "3C3dACFeez_9"
      },
      "outputs": [],
      "source": [
        "new_exam_list = exam_list"
      ]
    },
    {
      "cell_type": "code",
      "execution_count": null,
      "metadata": {
        "id": "wYzu2PAXf7Z3"
      },
      "outputs": [],
      "source": [
        "id(exam_list)"
      ]
    },
    {
      "cell_type": "code",
      "execution_count": null,
      "metadata": {
        "id": "82J8SCJyf9J5"
      },
      "outputs": [],
      "source": [
        "id(new_exam_list)"
      ]
    },
    {
      "cell_type": "code",
      "execution_count": null,
      "metadata": {
        "id": "Vb-jnbji7EJc"
      },
      "outputs": [],
      "source": [
        "exam_list.append(100)\n",
        "print(new_exam_list)  # 새로만든 new에도 원래의 리스트 변경사항이 그대로 적용"
      ]
    },
    {
      "cell_type": "markdown",
      "metadata": {
        "id": "VrtIHiFGgFhv"
      },
      "source": [
        "#### 별개의 복사본을 만들고 싶은 경우"
      ]
    },
    {
      "cell_type": "markdown",
      "metadata": {
        "id": "C_7DCWYf7XiR"
      },
      "source": [
        "1.  새로운 데이터를 만들어서 저장\n"
      ]
    },
    {
      "cell_type": "code",
      "execution_count": null,
      "metadata": {
        "id": "4bEomW3H7dns"
      },
      "outputs": [],
      "source": [
        "new_exam_list = list(exam_list)  # exam_list 의 내용으로 새로운 리스트 생성하는 list() 함수\n",
        "new_exam_list = exam_list[:]  # ex_list[:] 는 ex_list의 내용을 처음부터 끝까지 잘라낸 새로운 리스트"
      ]
    },
    {
      "cell_type": "code",
      "execution_count": null,
      "metadata": {
        "id": "pP2C3t3j7iWP"
      },
      "outputs": [],
      "source": [
        "id(exam_list)"
      ]
    },
    {
      "cell_type": "code",
      "execution_count": null,
      "metadata": {
        "id": "tJEujUxJ8ITE"
      },
      "outputs": [],
      "source": [
        "id(new_exam_list)"
      ]
    },
    {
      "cell_type": "markdown",
      "metadata": {
        "id": "oPhXYopi76Y-"
      },
      "source": [
        "2. copy 모듈 사용"
      ]
    },
    {
      "cell_type": "code",
      "execution_count": null,
      "metadata": {
        "id": "oFiIIl_4gQhT"
      },
      "outputs": [],
      "source": [
        "import copy\n",
        "new_exam_list = copy.deepcopy(exam_list)\n",
        "# 새로운 공간을 만들어 값을 복사하는 것을 Deep copy (깊은 복사)\n",
        "# 저장되있는 장소의 주소만 복사하는것을 Shallow copy(얕은 복사) 라고 함"
      ]
    },
    {
      "cell_type": "code",
      "execution_count": null,
      "metadata": {
        "id": "cFSQa6BMgYEg"
      },
      "outputs": [],
      "source": [
        "id(exam_list)"
      ]
    },
    {
      "cell_type": "code",
      "execution_count": null,
      "metadata": {
        "id": "1JBRcPn9gaOl"
      },
      "outputs": [],
      "source": [
        "id(new_exam_list)"
      ]
    },
    {
      "cell_type": "markdown",
      "metadata": {
        "id": "b2yiP3IBXd_c"
      },
      "source": [
        "## 기본입출력 (standard Input / Output) - p52"
      ]
    },
    {
      "cell_type": "markdown",
      "metadata": {
        "id": "b4UnI70fptzb"
      },
      "source": [
        "### 이스케이프 문자 (escape character)"
      ]
    },
    {
      "cell_type": "code",
      "execution_count": null,
      "metadata": {
        "id": "yGDxl8HtpYW1"
      },
      "outputs": [],
      "source": [
        "print('\\'')  #  \\' : 작은 따옴표 출력\n",
        "print('\\\"')  #  \\\" : 큰 따옴표 출력\n",
        "print('Kim\\'s friend Park said \\\"I love Python!\\\".')"
      ]
    },
    {
      "cell_type": "code",
      "execution_count": null,
      "metadata": {
        "id": "Ny7twNq7SQFV"
      },
      "outputs": [],
      "source": [
        "print('hi\\nhello')  # \\n : 줄바꿈\n",
        "print('\\ttab')  # \\t : tab키 삽입\n",
        "sports_list = ['Football', 'Baseball', 'Golf']\n",
        "print('sports:')\n",
        "for sports in sports_list:\n",
        "    print(f'\\t{sports}')\n"
      ]
    },
    {
      "cell_type": "markdown",
      "metadata": {
        "id": "lXWoWyyGp7I3"
      },
      "source": [
        "### ❓ print() 함수로 파일 쓰기 -p55 예제 10~12라인\n",
        "IDLE을 사용하여 바탕화면에 폴더를 만들고  \n",
        "그 폴더 안에서 py파일을 만들어 아래 코드를 실행 해 봅시다"
      ]
    },
    {
      "cell_type": "code",
      "execution_count": null,
      "metadata": {
        "id": "jnwXf8vAp_S-"
      },
      "outputs": [],
      "source": [
        "fos = open('sample.txt', mode='wt')\n",
        "print('Hello File!', file=fos)\n",
        "fos.close()"
      ]
    },
    {
      "cell_type": "markdown",
      "metadata": {
        "id": "2kkKL9AbtXK0"
      },
      "source": [
        "### ⭐input() 함수\n",
        "input()으로 사용자의 키보드 입력을 받아 저장 할 수 있습니다."
      ]
    },
    {
      "cell_type": "code",
      "execution_count": null,
      "metadata": {
        "id": "4u1zAa2GqPha"
      },
      "outputs": [],
      "source": [
        "user_input = input()"
      ]
    },
    {
      "cell_type": "code",
      "execution_count": null,
      "metadata": {
        "id": "R2T1eh62997K"
      },
      "outputs": [],
      "source": [
        "user_input = input('아무내용이나 입력해 보세요: ')\n",
        "print(user_input)"
      ]
    },
    {
      "cell_type": "markdown",
      "metadata": {
        "id": "VSrtFMbdttxe"
      },
      "source": [
        "#### 숫자를 입력받을 때 조심\n",
        "input() 함수로 입력받은 값은 언제나 문자열(str)으로 저장됨"
      ]
    },
    {
      "cell_type": "code",
      "execution_count": null,
      "metadata": {
        "id": "h1sUJu6JXfRE"
      },
      "outputs": [],
      "source": [
        "number = input('정수를 입력해 주세요: ')\n",
        "number = number + 100\n",
        "print(number)"
      ]
    },
    {
      "cell_type": "code",
      "execution_count": null,
      "metadata": {
        "id": "uSdsEla3qAhO"
      },
      "outputs": [],
      "source": [
        "number = int(input('정수를 입력해 주세요: '))\n",
        "number = number + 100\n",
        "print(number)"
      ]
    },
    {
      "cell_type": "markdown",
      "metadata": {
        "ExecuteTime": {
          "end_time": "2023-10-08T01:26:52.083790Z",
          "start_time": "2023-10-08T01:26:52.070820Z"
        },
        "id": "smfXdSK8jjhA"
      },
      "source": [
        "#### ❓ input()으로 받은 정보로 딕셔너리를 만들어 봅시다\n",
        "비어있는 딕셔너리를 하나 만들고 user = { }  \n",
        "다음과 같이 사용자 입력을 받아 회원 정보 딕셔너리를 만들어 봅시다.  "
      ]
    },
    {
      "cell_type": "markdown",
      "metadata": {
        "ExecuteTime": {
          "end_time": "2023-10-08T01:31:12.749222Z",
          "start_time": "2023-10-08T01:31:12.737232Z"
        },
        "id": "GSL_qiR6jjhA"
      },
      "source": [
        "이름을 입력하세요:    \n",
        "비밀번호를 입력하세요:   \n",
        "이메일 주소를 입력하세요:  \n",
        "\n",
        "마지막에 user 딕셔너리 정보 print  \n",
        "예시) {'name': 'kim', 'password': '1234', 'email': 'kim@email.com'}"
      ]
    },
    {
      "cell_type": "markdown",
      "metadata": {
        "id": "BeFvinYFLeb4"
      },
      "source": [
        "## 연산자 (operator) - p70"
      ]
    },
    {
      "cell_type": "markdown",
      "metadata": {
        "id": "JUy_o4IBMScE"
      },
      "source": [
        "### 거듭제곱, 몫과 나머지 연산자"
      ]
    },
    {
      "cell_type": "markdown",
      "metadata": {
        "id": "-8BiXwsJMVm4"
      },
      "source": [
        "- 거듭제곱 : **\n",
        "- 나눗셈의 몫 연산자 : //\n",
        "- 나눗셈의 나머지 연산자 : %"
      ]
    },
    {
      "cell_type": "markdown",
      "metadata": {
        "id": "ib41UMJaWRCD"
      },
      "source": [
        "$7^3$   $(7 × 7 \\times 7)$"
      ]
    },
    {
      "cell_type": "code",
      "execution_count": null,
      "metadata": {
        "id": "7J8TAK1nQBiv"
      },
      "outputs": [],
      "source": [
        "7 ** 3  # 7의 3제곱"
      ]
    },
    {
      "cell_type": "markdown",
      "metadata": {
        "id": "P4jCJoZ3WVBL"
      },
      "source": [
        "$43 ÷ 3$ 의 몫과 나머지"
      ]
    },
    {
      "cell_type": "code",
      "execution_count": null,
      "metadata": {
        "id": "UWvzCDtxQC7H"
      },
      "outputs": [],
      "source": [
        "43 // 3  # 43 나누기 3 의 몫"
      ]
    },
    {
      "cell_type": "code",
      "execution_count": null,
      "metadata": {
        "id": "UWax0-mvQDuK"
      },
      "outputs": [],
      "source": [
        "43 % 3  # 43 나누기 3의 나머지"
      ]
    },
    {
      "cell_type": "markdown",
      "metadata": {
        "id": "iGVOEsFtjFk3"
      },
      "source": [
        "두가지를 한번에 구하는 divmod() 함수"
      ]
    },
    {
      "cell_type": "code",
      "execution_count": null,
      "metadata": {
        "id": "ijOxgBSwjIzz"
      },
      "outputs": [],
      "source": [
        "divmod(43, 3)"
      ]
    },
    {
      "cell_type": "markdown",
      "metadata": {
        "id": "UIHnD3bcDXcQ"
      },
      "source": [
        "### ❓ 시간의 단위를 바꿔서 출력해 봅시다\n",
        "초를 입력받아 -> 분, 초로 출력합니다."
      ]
    },
    {
      "cell_type": "markdown",
      "metadata": {
        "id": "AXo0IbCcDmq7"
      },
      "source": [
        "\n",
        "1. 초단위를 입력받는 코드를 작성해봅시다.  \n",
        "2. 입력받은 내용을 연산하기 위해 int로 바꿔 저장합니다.\n",
        "3. 몫과 나머지를 구하는 연산자로 분, 초로 바꿔보세요.\n",
        "4. 아래처럼 출력해보세요.\n",
        "\n",
        "\n"
      ]
    },
    {
      "cell_type": "markdown",
      "metadata": {
        "id": "-m32jTcD8XNF"
      },
      "source": [
        "예시)  \n",
        "초를 입력하세요: *입력*   \n",
        "100초의 변환결과는 1분 40초 입니다"
      ]
    },
    {
      "cell_type": "markdown",
      "metadata": {
        "id": "p3IN0Pvm4u7b"
      },
      "source": [
        "#### 코드"
      ]
    },
    {
      "cell_type": "code",
      "execution_count": null,
      "metadata": {
        "id": "BVO0E-SiM7Ui"
      },
      "outputs": [],
      "source": [
        "input_sec = int(input('초를 입력하세요: '))\n",
        "\n",
        "minutes = input_sec // 60\n",
        "seconds = input_sec % 60\n",
        "print(f'{input_sec}초의 변환결과는 {minutes}분 {seconds}초 입니다')"
      ]
    },
    {
      "cell_type": "markdown",
      "metadata": {
        "id": "CSeHONUDNh6V"
      },
      "source": [
        "### 대입 연산자"
      ]
    },
    {
      "cell_type": "code",
      "execution_count": null,
      "metadata": {
        "id": "lcZJH5DKNb4u"
      },
      "outputs": [],
      "source": [
        "x = 100\n",
        "x, y, z = 0, 0, 0  # 동시에 여러개의 값 할당 가능"
      ]
    },
    {
      "cell_type": "code",
      "execution_count": null,
      "metadata": {
        "id": "e2K-DS1WNvyG"
      },
      "outputs": [],
      "source": [
        "# 간단하게 값을 바꿀수 있음 (스왑 swap)\n",
        "a, b = 10, 20\n",
        "a, b = b, a\n",
        "print(a, b)\n",
        "\n",
        "# 다른 언어에서는 동시에 여러변수의 대입이 되지 않아서\n",
        "# 임시 변수가 필요함\n",
        "temp_var = a\n",
        "a = b  # a <- b\n",
        "b = temp_var  # b <- a"
      ]
    },
    {
      "cell_type": "markdown",
      "metadata": {
        "id": "YFL9oc1a6vp4"
      },
      "source": [
        "### 연산과 대입을 동시에 - 복합대입 연산자"
      ]
    },
    {
      "cell_type": "code",
      "execution_count": null,
      "metadata": {
        "id": "lKbG8hqdNwcG"
      },
      "outputs": [],
      "source": [
        "# 복합대입 연산\n",
        "a += b  # a = a + b\n",
        "a *= 4  # a = a * 4\n",
        "b /= b  # b = b / b\n",
        "a **= 2  # a = a ** 2"
      ]
    },
    {
      "cell_type": "markdown",
      "metadata": {
        "id": "ryBIYp71BVcy"
      },
      "source": [
        "### 시퀀스 연산자"
      ]
    },
    {
      "cell_type": "code",
      "execution_count": null,
      "metadata": {
        "id": "3RFVYk6WAxZi"
      },
      "outputs": [],
      "source": [
        "combined_list = [1, 3, 5] + [2, 4, 6]  # [1, 3, 5, 2, 4, 6]\n",
        "combined_str = 'hello' + ' ' + 'world'  # 'hello world'"
      ]
    },
    {
      "cell_type": "markdown",
      "metadata": {
        "id": "up50UFoQnfxY"
      },
      "source": [
        "### ⚡ 비트 연산자"
      ]
    },
    {
      "cell_type": "code",
      "execution_count": null,
      "metadata": {
        "id": "qhFCskqZjXmG"
      },
      "outputs": [],
      "source": [
        "'''\n",
        "0010 0110 2진수 - 8bit\n",
        "128 64 32 16  8421\n",
        "1000 0000\n",
        "\n",
        "0111 0000\n",
        "\n",
        "10\n",
        "01\n",
        "\n",
        "10\n",
        "'''\n",
        "bin(16 >> 3)"
      ]
    },
    {
      "cell_type": "code",
      "execution_count": null,
      "metadata": {
        "id": "wXVy-8aOT9WY"
      },
      "outputs": [],
      "source": [
        "print( 1 & 1 )  # & (AND) 연산은 두값이 모두 1인 경우에만 1\n",
        "print( 1 & 0 )  # 0\n",
        "print( 1 | 0 )  # |  (OR) shift + \\ 연산은 두값 중 한 값만 1 이면 1\n",
        "print( 1 ^ 0 )  # ^ (XOR) 두 값이 서로 다른 경우에만 1\n",
        "print( ~1 )  # ~ (NOT) 값의 bit 를 역으로 바꿈\n",
        "print( 1 << 2 )  # bit 의 위치를 왼쪽으로 2비트 이동\n",
        "print( 4 >> 2 )  # bit 의 위치를 오른쪽으로 2비트 이동"
      ]
    },
    {
      "cell_type": "markdown",
      "metadata": {
        "id": "sMMy_ja-ApqO"
      },
      "source": [
        "#### ⚡ 컴퓨터가 음수를 표현하는 방법, 보수개념, signed / unsigned 형\n",
        "python 은 int 형을 32bit signed 형으로 2의 보수를 이용하여 음수 표현\n",
        "https://yaneodoo2.tistory.com/entry/Signed%EC%99%80-Unsigned-1%EC%9D%98-%EB%B3%B4%EC%88%98-2%EC%9D%98-%EB%B3%B4%EC%88%98%EC%9D%98-%EB%AA%A8%EB%93%A0-%EA%B2%83"
      ]
    },
    {
      "cell_type": "markdown",
      "metadata": {
        "id": "5kZ_iunEGP3l"
      },
      "source": [
        "### ⚡ 삼항 연산자"
      ]
    },
    {
      "cell_type": "code",
      "execution_count": null,
      "metadata": {
        "id": "qLCOj07FGR3V"
      },
      "outputs": [],
      "source": [
        "#  X if a > b else Y  a > b 값이 True 면 X 아니면 Y\n",
        "a = 100 if 10 > 100 else 0\n",
        "b = 100 if 100 > 0 else 0\n",
        "\n",
        "print(a)\n",
        "print(b)"
      ]
    },
    {
      "cell_type": "markdown",
      "metadata": {
        "id": "Tc4cg1_WRIsr"
      },
      "source": [
        "## 조건문 (Condition) - p90\n",
        "- if\n",
        "- match case"
      ]
    },
    {
      "cell_type": "markdown",
      "metadata": {
        "id": "YlYvL7D-D-bs"
      },
      "source": [
        "### if 문과 조건테스트\n",
        "\n",
        "if 문 뒤에 나오는 조건식은 True 와 False로만 결정되며  \n",
        "조건식을 테스트해 True 인 경우에만 if문에 해당되는 코드가 실행됩니다."
      ]
    },
    {
      "cell_type": "code",
      "execution_count": null,
      "metadata": {
        "id": "iH3_XHTDEdWQ"
      },
      "outputs": [],
      "source": [
        "cars = ['audi', 'bmw', 'kia', 'toyota']\n",
        "\n",
        "for car in cars:\n",
        "    if car == 'bmw':\n",
        "        print(car.upper())\n",
        "    else:\n",
        "        print(car.title())"
      ]
    },
    {
      "cell_type": "markdown",
      "metadata": {
        "id": "VKStCNs9nO-p"
      },
      "source": [
        "### 관계 연산자"
      ]
    },
    {
      "cell_type": "markdown",
      "metadata": {
        "id": "-LlJgWNNFejc"
      },
      "source": [
        "- 동일한지 체크하기위해 등호를 두개 사용합니다. (==)"
      ]
    },
    {
      "cell_type": "code",
      "execution_count": null,
      "metadata": {
        "id": "hCIpyqQeFMl8"
      },
      "outputs": [],
      "source": [
        "car = 'bmw'\n",
        "car == 'bmw'  # 같은지를 비교하는 항등 연산자 == (등호 2개)"
      ]
    },
    {
      "cell_type": "code",
      "execution_count": null,
      "metadata": {
        "id": "4meg01dBGDc_"
      },
      "outputs": [],
      "source": [
        "car = 'Audi'\n",
        "car == 'audi'  # 문자열을 비교할 때 대소문자가 같아야지만 같습니다."
      ]
    },
    {
      "cell_type": "markdown",
      "metadata": {
        "id": "NH5YqxRLGFYo"
      },
      "source": [
        "- 대소문자 관계없이 같은지 체크하기 위해  \n",
        "lower()나 upper() 메소드를 사용할수 있습니다."
      ]
    },
    {
      "cell_type": "code",
      "execution_count": null,
      "metadata": {
        "id": "mIsZajN4GILi"
      },
      "outputs": [],
      "source": [
        "car = 'Audi'\n",
        "car.lower() == 'audi'"
      ]
    },
    {
      "cell_type": "markdown",
      "metadata": {
        "id": "Uia5F8DGGed2"
      },
      "source": [
        "- 불일치 체크하기  \n",
        "서로 다른것을 체크하기 위해 느낌표와 등호를 사용합니다. (!=)"
      ]
    },
    {
      "cell_type": "code",
      "execution_count": null,
      "metadata": {
        "id": "AIcKOeWmGryj"
      },
      "outputs": [],
      "source": [
        "cars = ['audi', 'bmw', 'kia', 'toyota']\n",
        "for car in cars:\n",
        "    if car != 'kia':\n",
        "        print(f'{car} 자동차는 수입차 입니다.')\n",
        "    else:\n",
        "        print(f'{car} 자동차는 국산차 입니다.')"
      ]
    },
    {
      "cell_type": "markdown",
      "metadata": {
        "id": "7Q5XL2bCH8Kb"
      },
      "source": [
        "- 숫자 비교하기"
      ]
    },
    {
      "cell_type": "code",
      "execution_count": null,
      "metadata": {
        "id": "q-8yvruWIVT9"
      },
      "outputs": [],
      "source": [
        "age = 20\n",
        "print(age == 20)\n",
        "print(age != 20)"
      ]
    },
    {
      "cell_type": "code",
      "execution_count": null,
      "metadata": {
        "id": "-akaAxbfIoHs"
      },
      "outputs": [],
      "source": [
        "age = 20\n",
        "age > 20"
      ]
    },
    {
      "cell_type": "code",
      "execution_count": null,
      "metadata": {
        "id": "nwmr993FIs5o"
      },
      "outputs": [],
      "source": [
        "age >= 20"
      ]
    },
    {
      "cell_type": "code",
      "execution_count": null,
      "metadata": {
        "id": "9wK1CKCzIvIT"
      },
      "outputs": [],
      "source": [
        "age > 15"
      ]
    },
    {
      "cell_type": "code",
      "execution_count": null,
      "metadata": {
        "id": "04oCeOiAIxJi"
      },
      "outputs": [],
      "source": [
        "age <= 30"
      ]
    },
    {
      "cell_type": "code",
      "execution_count": null,
      "metadata": {
        "id": "lFp09I2rI1KE"
      },
      "outputs": [],
      "source": [
        "age < 20"
      ]
    },
    {
      "cell_type": "markdown",
      "metadata": {
        "id": "lXxw7rakFzn0"
      },
      "source": [
        "### 논리 연산자"
      ]
    },
    {
      "cell_type": "markdown",
      "metadata": {
        "id": "znhvtAP6JYIX"
      },
      "source": [
        "- 동시에 여러 조건을 만족해야하는 경우 ***and*** 연산자를 사용합니다."
      ]
    },
    {
      "cell_type": "code",
      "execution_count": null,
      "metadata": {
        "id": "eeCxkINdJfkA"
      },
      "outputs": [],
      "source": [
        "age = 10\n",
        "height = 150\n",
        "\n",
        "age > 12 and height > 130"
      ]
    },
    {
      "cell_type": "markdown",
      "metadata": {
        "id": "D0MW1BqwLBjO"
      },
      "source": [
        "- 여러조건 중 하나만 만족해도 되는경우 ***or*** 연산자를 사용합니다."
      ]
    },
    {
      "cell_type": "code",
      "execution_count": null,
      "metadata": {
        "id": "0tnt8BtzLH8o"
      },
      "outputs": [],
      "source": [
        "age_1 = 20\n",
        "age_2 = 18\n",
        "\n",
        "age_1 > 20 or age_2 > 20"
      ]
    },
    {
      "cell_type": "markdown",
      "metadata": {
        "id": "hB-UJB-vCme5"
      },
      "source": [
        "### 맴버 연산자\n",
        "어떤 값이 존재하는지 ***in*** 연산자를 사용해 체크할 수 있습니다."
      ]
    },
    {
      "cell_type": "code",
      "execution_count": null,
      "metadata": {
        "id": "k1icumKxCPO5"
      },
      "outputs": [],
      "source": [
        "0 in [1, 2, 3]"
      ]
    },
    {
      "cell_type": "code",
      "execution_count": null,
      "metadata": {
        "id": "Vo7W-MmYCcUS"
      },
      "outputs": [],
      "source": [
        "menu = ['hotdog', 'pizza', 'burger']\n",
        "'pizza' in menu"
      ]
    },
    {
      "cell_type": "code",
      "execution_count": null,
      "metadata": {
        "id": "lK0eS4jZCdxQ"
      },
      "outputs": [],
      "source": [
        "'a' in 'pineapple'  # 문자열에 해당 문자가 있는지 체크"
      ]
    },
    {
      "cell_type": "code",
      "execution_count": null,
      "metadata": {
        "id": "3q3P2EvVCfsQ"
      },
      "outputs": [],
      "source": [
        "'kim' in {'kim' : 'football'}  # 딕셔너리의 key에 존재하는지 체크"
      ]
    },
    {
      "cell_type": "markdown",
      "metadata": {
        "id": "YFWzv-S3N8Hu"
      },
      "source": [
        "어떤 값이 없는지 체크하기, 없음을 체크할 때는 *not in* 을 사용합니다."
      ]
    },
    {
      "cell_type": "code",
      "execution_count": null,
      "metadata": {
        "id": "wmtgkJoWOCOi"
      },
      "outputs": [],
      "source": [
        "banned_user = ['kim', 'park', 'son']  # 접근금지된 아이디 예시\n",
        "user = 'james'\n",
        "if user not in banned_user:\n",
        "    print('log in')"
      ]
    },
    {
      "cell_type": "markdown",
      "metadata": {
        "id": "l7BXmudCJmIW"
      },
      "source": [
        "### ⭐여러가지 if 문"
      ]
    },
    {
      "cell_type": "markdown",
      "metadata": {
        "id": "wB8vLWpMk8Qr"
      },
      "source": [
        "#### 1. 단순한 if 문"
      ]
    },
    {
      "cell_type": "code",
      "execution_count": null,
      "metadata": {
        "id": "mF2DTE1mZ6Lc"
      },
      "outputs": [],
      "source": [
        "if 조건테스트:\n",
        "    True 경우 실행\n"
      ]
    },
    {
      "cell_type": "code",
      "execution_count": null,
      "metadata": {
        "id": "FxxJbOZplPBf"
      },
      "outputs": [],
      "source": [
        "drive_license = True\n",
        "age = 20\n",
        "if drive_license:\n",
        "    print('운전할 수 있습니다.')\n",
        "\n",
        "if age >= 19:\n",
        "    print('투표할 수 있습니다.')"
      ]
    },
    {
      "cell_type": "markdown",
      "metadata": {
        "id": "X1dBjNe_y7lp"
      },
      "source": [
        "#### - 조건식의 flag 변수"
      ]
    },
    {
      "cell_type": "markdown",
      "metadata": {
        "id": "8lYrFQI2y7lp"
      },
      "source": [
        "flag 변수는 특정한 용도의 스위치 처럼 작동하는 변수입니다.  \n",
        "예) flag변수가 True면 로그를 출력"
      ]
    },
    {
      "cell_type": "code",
      "execution_count": null,
      "metadata": {
        "ExecuteTime": {
          "end_time": "2023-10-14T01:15:26.633574Z",
          "start_time": "2023-10-14T01:15:26.618615Z"
        },
        "id": "PxJRUOUVy7lq"
      },
      "outputs": [],
      "source": [
        "reset_flag = True # 스위치처럼 특정 행동을 켜고 끄는 flag\n",
        "log_flag = True\n",
        "number = 100\n",
        "\n",
        "if reset_flag and number == 100:\n",
        "    number = 0\n",
        "    if log_flag:\n",
        "        print('log: number reset')"
      ]
    },
    {
      "cell_type": "markdown",
      "metadata": {
        "id": "yJ0BCzlDlxiO"
      },
      "source": [
        "#### 2. if - else 문\n",
        "\n",
        "if 조건의 테스트가 실패(False) 인 경우 else 문의 내용이 실행됩니다.  \n",
        "if 문과 else문 둘중에 한가지는 반드시 실행 됩니다."
      ]
    },
    {
      "cell_type": "code",
      "execution_count": null,
      "metadata": {
        "id": "WUNM8cTul822"
      },
      "outputs": [],
      "source": [
        "age = 17\n",
        "if age >= 19:\n",
        "    print('투표할 수 있습니다.')\n",
        "else:\n",
        "    print('아직 투표권이 없습니다.')"
      ]
    },
    {
      "cell_type": "markdown",
      "metadata": {
        "id": "bT_Z1V_IGpU8"
      },
      "source": [
        "\n",
        "\n",
        ">#### ❓ 국어, 영어, 수학 점수를 각각 입력받아서 평균을 구하고 (점수의 총합을 3으로 나눠서),  \n",
        ">평균이 80점 이상이면 '합격', 아니면 '불합격'을 출력하는 프로그램을 구현하세요.\n",
        "\n"
      ]
    },
    {
      "cell_type": "code",
      "execution_count": null,
      "metadata": {
        "id": "o6Fu5YlXG4__"
      },
      "outputs": [],
      "source": [
        "국어 점수 입력: 85\n",
        "영어 점수 입력: 83\n",
        "수학 점수 입력: 81\n",
        "평균은 83.0점이고, 결과는 합격입니다."
      ]
    },
    {
      "cell_type": "markdown",
      "metadata": {
        "id": "Fe78Gs2dYeAm"
      },
      "source": [
        "##### 코드"
      ]
    },
    {
      "cell_type": "code",
      "execution_count": null,
      "metadata": {
        "id": "3mhVrhiMYgAJ"
      },
      "outputs": [],
      "source": [
        "kor = int(input('국어 점수를 입력하세요 >>'))\n",
        "eng = int(input('영어 점수를 입력하세요 >>'))\n",
        "mat = int(input('수학 점수를 입력하세요 >>'))\n",
        "m = (kor + eng + mat) / 3\n",
        "if m >= 80:\n",
        "    r = '합격'\n",
        "else:\n",
        "    r = '불합격'\n",
        "print('평균은 {:.3f}점이고, 결과는 {}입니다.'.format(m, r))"
      ]
    },
    {
      "cell_type": "markdown",
      "metadata": {
        "id": "zfmpBvD6mSC8"
      },
      "source": [
        "#### 3. if - elif - else 문  \n",
        "체크할 조건이 여러가지 있을 때 그중에 한가지만 실행되도록 할 경우가 있습니다.  \n",
        "이 때 elif 로 여러가지 조건을 추가해 줍니다."
      ]
    },
    {
      "cell_type": "code",
      "execution_count": null,
      "metadata": {
        "id": "vfgTwCWLRYKa"
      },
      "outputs": [],
      "source": [
        "age = 15\n",
        "\n",
        "if age <= 7 :\n",
        "    print('입장료는 0원 입니다.')\n",
        "elif age <= 16:\n",
        "    print('입장료는 10000원 입니다.')\n",
        "else:\n",
        "    print('입장료는 20000원 입니다.')\n"
      ]
    },
    {
      "cell_type": "markdown",
      "metadata": {
        "id": "RIcgl81OnGQB"
      },
      "source": [
        "중복되는 코드 줄이기"
      ]
    },
    {
      "cell_type": "code",
      "execution_count": null,
      "metadata": {
        "id": "Je4wFMnXnJMm"
      },
      "outputs": [],
      "source": [
        "age = 15\n",
        "\n",
        "if age <= 7 :\n",
        "    price = 0\n",
        "elif age <= 16:\n",
        "    price = 10000\n",
        "else:\n",
        "    price = 20000\n",
        "\n",
        "print(f'입장료는 {price}원 입니다.')"
      ]
    },
    {
      "cell_type": "markdown",
      "metadata": {
        "id": "9mNNO2xhuGL3"
      },
      "source": [
        "else 없이 if - elif 만으로도 만들 수 있습니다. (오직 if 만 필수요소)"
      ]
    },
    {
      "cell_type": "code",
      "execution_count": null,
      "metadata": {
        "id": "1T30jHauuJzN"
      },
      "outputs": [],
      "source": [
        "age = 15\n",
        "\n",
        "if age <= 7 :\n",
        "    price = 0\n",
        "elif age <= 16:\n",
        "    price = 10000\n",
        "elif age > 16:\n",
        "    price = 20000\n",
        "\n",
        "print(f'입장료는 {price}원 입니다.')"
      ]
    },
    {
      "cell_type": "markdown",
      "metadata": {
        "id": "0KzLKDMGtjv9"
      },
      "source": [
        "if - elif - else 의 경우 단 한가지만 실행된다는 것이 중요합니다.  \n",
        "또 다른 것을 체크하려면 따로 if문을 만들어야 합니다."
      ]
    },
    {
      "cell_type": "code",
      "execution_count": null,
      "metadata": {
        "id": "tIalkc7mt2e8"
      },
      "outputs": [],
      "source": [
        "age = 15\n",
        "birth_day = True\n",
        "\n",
        "if age <= 7 :\n",
        "    price = 0\n",
        "elif age <= 16:  # 이 라인의 elif 문의 코드가 실행되고 끝남(age가 15라면)\n",
        "    price = 10000\n",
        "elif birth_day:  # 이쪽의 elif 코드는 테스트도 실행도 되지 않음\n",
        "    price = 0\n",
        "else:\n",
        "    price = 20000\n",
        "\n",
        "print(f'입장료는 {price}원 입니다.')"
      ]
    },
    {
      "cell_type": "code",
      "execution_count": null,
      "metadata": {
        "id": "_keVR3wjuwva"
      },
      "outputs": [],
      "source": [
        "age = 15\n",
        "birth_day = True\n",
        "\n",
        "if age <= 7 :\n",
        "    price = 0\n",
        "elif age <= 16:\n",
        "    price = 10000\n",
        "else:\n",
        "    price = 20000\n",
        "\n",
        "if birth_day: # 별도의 if 문은 항상 테스트함\n",
        "    price = 0\n",
        "\n",
        "print(f'입장료는 {price}원 입니다.')"
      ]
    },
    {
      "cell_type": "markdown",
      "metadata": {
        "id": "1V7OnWmxoRxY"
      },
      "source": [
        "### ❓ 점수를 입력받아 해당하는 학점을 출력해 봅시다 -p99"
      ]
    },
    {
      "cell_type": "markdown",
      "metadata": {
        "id": "DTIM957goiae"
      },
      "source": [
        "점수를 입력받아서 학점을 출력하는 프로그램을 구현하세요.  \n",
        "\n",
        "|점수|학점|\n",
        "|------|:---------:|\n",
        "|100 ~ 91점 이상| A |\n",
        "|90 ~ 81점 이상| B |\n",
        "|80 ~ 71점 이상|C|\n",
        "|70 ~ 61점 이상|D|\n",
        "|60점 이하|F|\n",
        "\n",
        "\n"
      ]
    },
    {
      "cell_type": "code",
      "execution_count": null,
      "metadata": {
        "id": "S1MaOJgqn9BL"
      },
      "outputs": [],
      "source": [
        "점수를 입력하세요: 95\n",
        "점수는 95점이고, 학점은 A학점 입니다."
      ]
    },
    {
      "cell_type": "markdown",
      "metadata": {
        "id": "oF7O4vZsZSWg"
      },
      "source": [
        "#### 코드"
      ]
    },
    {
      "cell_type": "code",
      "execution_count": null,
      "metadata": {
        "id": "50Aq1pyrhhP1"
      },
      "outputs": [],
      "source": [
        "score = int(input('점수를 입력하세요: '))\n",
        "\n",
        "if score >= 91:\n",
        "    grade = 'A'\n",
        "elif score >= 81:\n",
        "    grade = 'B'\n",
        "elif score >= 71:\n",
        "    grade = 'C'\n",
        "elif score >= 61:\n",
        "    grade = 'D'\n",
        "else:\n",
        "    grade = 'F'\n",
        "print(f'점수는 {score}점이고, 학점은 {grade}학점 입니다.')"
      ]
    },
    {
      "cell_type": "markdown",
      "metadata": {
        "id": "GvlhSCGiu-Vn"
      },
      "source": [
        "### match - case 문 (버전 3.10 부터 지원)\n",
        "\n",
        "다른 프로그래밍 언어에서는 switch - case 문을 보통 지원합니다.  \n",
        "switch - case 는 주어진 값과 같은 case 일 때 코드를 실행하는 조건문입니다.  "
      ]
    },
    {
      "cell_type": "code",
      "execution_count": null,
      "metadata": {
        "ExecuteTime": {
          "end_time": "2023-10-15T01:11:30.179570Z",
          "start_time": "2023-10-15T01:11:30.073976Z"
        },
        "id": "E78HpObnvOZs"
      },
      "outputs": [],
      "source": [
        "!python --version"
      ]
    },
    {
      "cell_type": "code",
      "execution_count": null,
      "metadata": {
        "ExecuteTime": {
          "end_time": "2023-10-14T01:22:38.238249Z",
          "start_time": "2023-10-14T01:22:38.219296Z"
        },
        "id": "YDRAfihVvRIL"
      },
      "outputs": [],
      "source": [
        "button = 1\n",
        "match button:\n",
        "    case 1:\n",
        "        print('아메리카노')\n",
        "    case 2:\n",
        "        print('카페라떼')\n",
        "    case 3:\n",
        "        print('카푸치노')\n"
      ]
    },
    {
      "cell_type": "markdown",
      "metadata": {
        "id": "t0OkKki6wmTy"
      },
      "source": [
        "## 반복문 (Looping) -p102"
      ]
    },
    {
      "cell_type": "markdown",
      "metadata": {
        "id": "gMxyOSna35F-"
      },
      "source": [
        "### for 문 (for loop)\n",
        "기본적으로 for문은 데이터들의 항목 하나씩 접근하면서 마지막 데이터까지 순회합니다."
      ]
    },
    {
      "cell_type": "code",
      "execution_count": null,
      "metadata": {
        "id": "l6vXvrwC3plL"
      },
      "outputs": [],
      "source": [
        "item_menu = ['콜라', '사이다', '생수', '커피']\n",
        "\n",
        "for item in item_menu:\n",
        "    print(item)"
      ]
    },
    {
      "cell_type": "markdown",
      "metadata": {
        "id": "WkXI83esI9Wh"
      },
      "source": [
        "### for문과 range() 함수"
      ]
    },
    {
      "cell_type": "markdown",
      "metadata": {
        "id": "TEvJ0tglGgSB"
      },
      "source": [
        "하지만 순회할 데이터 없이도 단순히 코드를 몇회 반복할지 정해 줄 수 있는데  \n",
        "이때 보통 ***range()*** 함수를 사용합니다."
      ]
    },
    {
      "cell_type": "code",
      "execution_count": null,
      "metadata": {
        "id": "6zhtGB_6GDX0"
      },
      "outputs": [],
      "source": [
        "for value in range(1, 5):\n",
        "    print(value)"
      ]
    },
    {
      "cell_type": "markdown",
      "metadata": {
        "id": "80JNptjSGxCC"
      },
      "source": [
        "range(시작할 숫자, 끝 숫자)  여기서 끝 숫자는 포함되지 않습니다."
      ]
    },
    {
      "cell_type": "code",
      "execution_count": null,
      "metadata": {
        "id": "rXIAk9i1Ht6O"
      },
      "outputs": [],
      "source": [
        "for value in range(1, 11):\n",
        "    print(value * value)"
      ]
    },
    {
      "cell_type": "markdown",
      "metadata": {
        "id": "7ClRB9TtIFr7"
      },
      "source": [
        "range() 함수는 기본적으로 1씩 증가하면서 진행되는데  \n",
        "특정한 값으로 증가되도록 세번째 정보를 줄 수 있습니다. (스텝step 크기)"
      ]
    },
    {
      "cell_type": "code",
      "execution_count": null,
      "metadata": {
        "ExecuteTime": {
          "end_time": "2023-10-15T01:29:56.430957Z",
          "start_time": "2023-10-15T01:29:56.415998Z"
        },
        "id": "K-WFaHfnINeE"
      },
      "outputs": [],
      "source": [
        "for value in range(1, 11, 1):  # 스텝 크기의 디폴트 값은 1\n",
        "    print(value)\n",
        "\n",
        "for value in range(1, 11, 3):  # 1부터 10까지 2씩 증가\n",
        "    print(value)"
      ]
    },
    {
      "cell_type": "markdown",
      "metadata": {
        "ExecuteTime": {
          "end_time": "2023-10-15T01:14:40.714756Z",
          "start_time": "2023-10-15T01:14:40.700764Z"
        },
        "id": "0LVq8CI_2PaU"
      },
      "source": [
        "range() 를 이용하여 리스트에 숫자 채우기"
      ]
    },
    {
      "cell_type": "code",
      "execution_count": null,
      "metadata": {
        "id": "7Y4rjLfmLeQE"
      },
      "outputs": [],
      "source": [
        "# num_list = [1, 2, 3, 4, 5, 6, 7, 8, 9, 10]\n",
        "num_list = []\n",
        "for num in range(1, 11):\n",
        "    print(num)\n",
        "    num_list.append(num)\n",
        "\n",
        "print(num_list)"
      ]
    },
    {
      "cell_type": "markdown",
      "metadata": {
        "id": "KyHUa7rX2PaU"
      },
      "source": [
        "list() 형변환으로 더 간단하게"
      ]
    },
    {
      "cell_type": "code",
      "execution_count": null,
      "metadata": {
        "id": "Wsl288EkL0N_"
      },
      "outputs": [],
      "source": [
        "num_list = list(range(1, 11))\n",
        "print(num_list)"
      ]
    },
    {
      "cell_type": "markdown",
      "metadata": {
        "id": "30jOwuSo5kFE"
      },
      "source": [
        "### 리스트 내포 (List comprehension)"
      ]
    },
    {
      "cell_type": "code",
      "execution_count": null,
      "metadata": {
        "id": "7cuP3G_qMOCc"
      },
      "outputs": [],
      "source": [
        "double = []\n",
        "for num in range(1, 11):\n",
        "    double.append(num * num)\n",
        "\n",
        "print(double)"
      ]
    },
    {
      "cell_type": "markdown",
      "metadata": {
        "id": "aL29xYIWPTyF"
      },
      "source": [
        "for문을 사용해서 리스트를 생성하는 것을 더 간단하게  \n",
        "압축해서 표현하는 방식을 리스트 내포 라고 합니다."
      ]
    },
    {
      "cell_type": "code",
      "execution_count": null,
      "metadata": {
        "id": "jXPa9atTMt44"
      },
      "outputs": [],
      "source": [
        "double = [num * num for num in range(1, 11)]\n",
        "print(double)"
      ]
    },
    {
      "cell_type": "markdown",
      "metadata": {
        "id": "LsbcTzHLJQdC"
      },
      "source": [
        "### 리스트 슬라이싱(Slicing)\n",
        "리스트와 같이 index를 이용할 수 있는 데이터 뭉치가 있을때  \n",
        "필요한 만큼 잘라내는 방법을 슬라이싱 이라고 합니다."
      ]
    },
    {
      "cell_type": "code",
      "execution_count": null,
      "metadata": {
        "ExecuteTime": {
          "end_time": "2023-10-15T01:34:26.198574Z",
          "start_time": "2023-10-15T01:34:26.184580Z"
        },
        "id": "q4MKwDyl2PaV"
      },
      "outputs": [],
      "source": [
        "num_list = list(range(1, 11))\n",
        "print(num_list)"
      ]
    },
    {
      "cell_type": "code",
      "execution_count": null,
      "metadata": {
        "id": "9NJcDAzQ2PaV"
      },
      "outputs": [],
      "source": [
        "# [1, 2, 3, 4, 5, 6, 7, 8, 9, 10]\n",
        "num_list[:4]  # 처음부터, 인덱스 4 전까지 (인덱스 4는 포함안됨)"
      ]
    },
    {
      "cell_type": "code",
      "execution_count": null,
      "metadata": {
        "id": "AESPf8Za2PaW"
      },
      "outputs": [],
      "source": [
        "num_list[5:]  # 인덱스 5 부터 끝까지"
      ]
    },
    {
      "cell_type": "code",
      "execution_count": null,
      "metadata": {
        "id": "BGXMeWmB2PaW"
      },
      "outputs": [],
      "source": [
        "num_list[2:-1] # 인덱스 2 부터 마지막 인덱스 전까지"
      ]
    },
    {
      "cell_type": "code",
      "execution_count": null,
      "metadata": {
        "id": "MIJx6PSk2PaW"
      },
      "outputs": [],
      "source": [
        "num_list[3:8]  # 인덱스와 숫자항목간 차이 주의"
      ]
    },
    {
      "cell_type": "markdown",
      "metadata": {
        "id": "9lo1Yu4f2PaW"
      },
      "source": [
        "슬라이싱도 세번째 칸에 스텝크기를 지정할 수 있습니다.  "
      ]
    },
    {
      "cell_type": "code",
      "execution_count": null,
      "metadata": {
        "ExecuteTime": {
          "end_time": "2023-10-15T01:37:44.903315Z",
          "start_time": "2023-10-15T01:37:44.888327Z"
        },
        "id": "Hu_PKNZ52PaW"
      },
      "outputs": [],
      "source": [
        "num_list = list(range(1, 11))\n",
        "print(num_list)"
      ]
    },
    {
      "cell_type": "code",
      "execution_count": null,
      "metadata": {
        "id": "aJOAsJ832PaW"
      },
      "outputs": [],
      "source": [
        "num_list[2:9:1]  # 디폴트 값은 1"
      ]
    },
    {
      "cell_type": "code",
      "execution_count": null,
      "metadata": {
        "ExecuteTime": {
          "end_time": "2023-10-15T01:37:34.467462Z",
          "start_time": "2023-10-15T01:37:34.455458Z"
        },
        "id": "bfRVJ-e_2PaW"
      },
      "outputs": [],
      "source": [
        "num_list[2:9:2]  # 2칸씩 이동하며 조회"
      ]
    },
    {
      "cell_type": "markdown",
      "metadata": {
        "ExecuteTime": {
          "end_time": "2023-10-15T01:31:46.707142Z",
          "start_time": "2023-10-15T01:31:46.697145Z"
        },
        "id": "J17bu6zg2PaX"
      },
      "source": [
        "### 데이터의 길이를 확인하는 len() 함수"
      ]
    },
    {
      "cell_type": "code",
      "execution_count": null,
      "metadata": {
        "ExecuteTime": {
          "end_time": "2023-10-15T01:32:17.882633Z",
          "start_time": "2023-10-15T01:32:17.872660Z"
        },
        "id": "rAoEMHXF2PaX"
      },
      "outputs": [],
      "source": [
        "num_list = list(range(1, 11))\n",
        "print(num_list)"
      ]
    },
    {
      "cell_type": "code",
      "execution_count": null,
      "metadata": {
        "ExecuteTime": {
          "end_time": "2023-10-15T01:38:45.786227Z",
          "start_time": "2023-10-15T01:38:45.767260Z"
        },
        "id": "NIVbDDnM2PaX"
      },
      "outputs": [],
      "source": [
        "len(num_list)"
      ]
    },
    {
      "cell_type": "code",
      "execution_count": null,
      "metadata": {
        "ExecuteTime": {
          "end_time": "2023-10-15T01:40:14.335242Z",
          "start_time": "2023-10-15T01:40:14.319291Z"
        },
        "id": "yB3echPp2PaX"
      },
      "outputs": [],
      "source": [
        "len(길이가 있는 객체)"
      ]
    },
    {
      "cell_type": "markdown",
      "metadata": {
        "ExecuteTime": {
          "end_time": "2023-10-15T01:47:38.582798Z",
          "start_time": "2023-10-15T01:47:38.568836Z"
        },
        "id": "mBY1b9V02PaX"
      },
      "source": [
        "데이터를 반으로 나누기"
      ]
    },
    {
      "cell_type": "code",
      "execution_count": null,
      "metadata": {
        "ExecuteTime": {
          "end_time": "2023-10-15T01:46:39.610971Z",
          "start_time": "2023-10-15T01:46:39.591024Z"
        },
        "id": "QHyV2sl52PaX"
      },
      "outputs": [],
      "source": [
        "num_list = list(range(1, 11))\n",
        "length = len(num_list)\n",
        "mid = length // 2\n",
        "print(mid)\n",
        "\n",
        "half_1 = num_list[:mid]\n",
        "half_2 = num_list[mid:]\n",
        "print(half_1)\n",
        "print(half_2)"
      ]
    },
    {
      "cell_type": "markdown",
      "metadata": {
        "id": "HYPy_OWj3ALu"
      },
      "source": [
        "### while 문 (while loop)"
      ]
    },
    {
      "cell_type": "markdown",
      "metadata": {
        "id": "rqHcv1ylQDmV"
      },
      "source": [
        "for 루프는 여러항목으로 이루어진 데이터 모음을 이용해서 반복하는데  \n",
        "while 은 뒤의 조건식이 True인 동안에는 계속 반복합니다."
      ]
    },
    {
      "cell_type": "code",
      "execution_count": null,
      "metadata": {
        "id": "feXUJT7qwnj_"
      },
      "outputs": [],
      "source": [
        "while 조건식:\n",
        "    반복실행할 코드"
      ]
    },
    {
      "cell_type": "code",
      "execution_count": null,
      "metadata": {
        "id": "ICSUS4EE3LZO"
      },
      "outputs": [],
      "source": [
        "num = 1\n",
        "while num <= 10:\n",
        "    print(num)\n",
        "    num += 1  # num = num + 1 과 동일\n",
        "\n",
        "print('while문 종료')"
      ]
    },
    {
      "cell_type": "code",
      "execution_count": null,
      "metadata": {
        "id": "FBL5hfNqTZkv"
      },
      "outputs": [],
      "source": [
        "# 무한루프\n",
        "num = 0\n",
        "while 1:  # 또는 while True:\n",
        "    num += 1\n",
        "    print(num)"
      ]
    },
    {
      "cell_type": "markdown",
      "metadata": {
        "id": "v_mWAu8pW6-t"
      },
      "source": [
        "### ⭐루프 끝내기"
      ]
    },
    {
      "cell_type": "markdown",
      "metadata": {
        "id": "qyRwT180U126"
      },
      "source": [
        "#### 플래그(Flag)를 사용해서 while 루프 끝내기"
      ]
    },
    {
      "cell_type": "code",
      "execution_count": null,
      "metadata": {
        "id": "R_Priu1_U7Q-"
      },
      "outputs": [],
      "source": [
        "active = True\n",
        "prompt = '메뉴를 입력하세요 ( 1: 메뉴출력, 0: 종료 ): '\n",
        "\n",
        "while active:\n",
        "    user_input = int(input(prompt))\n",
        "    if user_input == 0:\n",
        "        print('종료합니다.')\n",
        "        active = False\n",
        "    elif user_input == 1:\n",
        "        print('메뉴를 출력합니다.')"
      ]
    },
    {
      "cell_type": "markdown",
      "metadata": {
        "id": "f32qlcMyKBo-"
      },
      "source": [
        "#### break 로 루프 빠져나가기"
      ]
    },
    {
      "cell_type": "code",
      "execution_count": null,
      "metadata": {
        "id": "AsQkZTtj3eG0"
      },
      "outputs": [],
      "source": [
        "active = True\n",
        "prompt = '메뉴를 입력하세요 ( 1: 메뉴출력, 0: 종료 ): '\n",
        "\n",
        "while True:\n",
        "    user_input = int(input(prompt))\n",
        "    if user_input == 0:\n",
        "        print('종료합니다.')\n",
        "        break\n",
        "        #active = False\n",
        "    elif user_input == 1:\n",
        "        print('메뉴를 출력합니다.')"
      ]
    },
    {
      "cell_type": "markdown",
      "metadata": {
        "id": "xZNG7suKXDz6"
      },
      "source": [
        "### continue 문으로 루프 시작지점으로 돌아가기"
      ]
    },
    {
      "cell_type": "code",
      "execution_count": null,
      "metadata": {
        "id": "3J0ILHCXXRSn"
      },
      "outputs": [],
      "source": [
        "for num in range(1, 10):\n",
        "    if num % 4 == 0:  # 3으로 나눈 나머지가 0 (3의 배수인 경우)\n",
        "        continue\n",
        "    print(num)"
      ]
    },
    {
      "cell_type": "markdown",
      "metadata": {
        "id": "A-w0HyWDZEvc"
      },
      "source": [
        "## ⭐ 자판기 메뉴 구성하기"
      ]
    },
    {
      "cell_type": "markdown",
      "metadata": {
        "id": "BVTkp4V7ZJdj"
      },
      "source": [
        "vending.py 자판기 프로그램에 다음과 같은 기능을 추가해보세요.\n",
        "\n",
        "> 프로그램을 실행하면 다음과 같은 안내메세지가 출력되고 사용자 입력을 기다립니다."
      ]
    },
    {
      "cell_type": "markdown",
      "metadata": {
        "id": "PY6D7l8uczvt"
      },
      "source": [
        "![image.png](data:image/png;base64,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)"
      ]
    },
    {
      "cell_type": "markdown",
      "metadata": {
        "id": "jcrnCZGcc2wT"
      },
      "source": [
        "> 1 을 입력하면 다음과 같이 item_menu 리스트의 항목이 하나씩 출력됩니다.  \n",
        "그 후 번호를 선택할 수 있는 입력창이 무한 반복됩니다. (다른번호도 마찬가지)"
      ]
    },
    {
      "cell_type": "markdown",
      "metadata": {
        "id": "QCggjUdmeEOx"
      },
      "source": [
        "![image.png](data:image/png;base64,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)"
      ]
    },
    {
      "cell_type": "markdown",
      "metadata": {
        "id": "_HiQLPFXeHTU"
      },
      "source": [
        "> 2 를 입력하면 다음과 같이 음료이름을 입력받고 item_menu 리스트에 해당 항목을 추가합니다."
      ]
    },
    {
      "cell_type": "markdown",
      "metadata": {
        "id": "GmcaOJfHeYX4"
      },
      "source": [
        "![image.png](data:image/png;base64,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)"
      ]
    },
    {
      "cell_type": "markdown",
      "metadata": {
        "id": "T_AJP7Tkec_O"
      },
      "source": [
        "> 3 을 입력하면 삭제할 음료이름을 입력받고 해당하는 항목을 item_menu 리스트에서 삭제합니다."
      ]
    },
    {
      "cell_type": "markdown",
      "metadata": {
        "id": "DLncha5dess9"
      },
      "source": [
        "![image.png](data:image/png;base64,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)"
      ]
    },
    {
      "cell_type": "markdown",
      "metadata": {
        "id": "8_SnJFEMfD1D"
      },
      "source": [
        "> 0 을 입력하면 다음과 같이 프로그램이 종료됩니다."
      ]
    },
    {
      "cell_type": "markdown",
      "metadata": {
        "id": "FZ_BI0T8fLQx"
      },
      "source": [
        "![image.png](data:image/png;base64,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)"
      ]
    }
  ],
  "metadata": {
    "celltoolbar": "Slideshow",
    "colab": {
      "collapsed_sections": [
        "p3IN0Pvm4u7b"
      ],
      "provenance": [],
      "toc_visible": true,
      "include_colab_link": true
    },
    "hide_input": false,
    "kernelspec": {
      "display_name": "Python 3 (ipykernel)",
      "language": "python",
      "name": "python3"
    },
    "language_info": {
      "codemirror_mode": {
        "name": "ipython",
        "version": 3
      },
      "file_extension": ".py",
      "mimetype": "text/x-python",
      "name": "python",
      "nbconvert_exporter": "python",
      "pygments_lexer": "ipython3",
      "version": "3.10.5"
    }
  },
  "nbformat": 4,
  "nbformat_minor": 0
}